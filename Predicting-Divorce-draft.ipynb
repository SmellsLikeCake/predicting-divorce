{
 "cells": [
  {
   "cell_type": "code",
   "execution_count": 187,
   "metadata": {},
   "outputs": [],
   "source": [
    "import pandas as pd\n",
    "import numpy as np\n",
    "import matplotlib.pyplot as plt\n",
    "import seaborn as sns\n",
    "import math\n",
    "import time\n",
    "%matplotlib inline\n",
    "\n",
    "from sklearn.model_selection import train_test_split\n",
    "from sklearn.model_selection import cross_val_score\n",
    "from sklearn.model_selection import cross_validate\n",
    "from sklearn.model_selection import StratifiedKFold\n",
    "from sklearn.model_selection import GridSearchCV\n",
    "\n",
    "from sklearn.linear_model import LogisticRegression\n",
    "from sklearn.neighbors import KNeighborsClassifier\n",
    "\n",
    "from sklearn import preprocessing\n",
    "from sklearn.decomposition import PCA\n",
    "\n",
    "import statsmodels.api as sm"
   ]
  },
  {
   "cell_type": "markdown",
   "metadata": {},
   "source": [
    "## Load data"
   ]
  },
  {
   "cell_type": "code",
   "execution_count": 2,
   "metadata": {},
   "outputs": [
    {
     "name": "stdout",
     "output_type": "stream",
     "text": [
      "(4820, 1069)\n"
     ]
    },
    {
     "data": {
      "text/html": [
       "<div>\n",
       "<style scoped>\n",
       "    .dataframe tbody tr th:only-of-type {\n",
       "        vertical-align: middle;\n",
       "    }\n",
       "\n",
       "    .dataframe tbody tr th {\n",
       "        vertical-align: top;\n",
       "    }\n",
       "\n",
       "    .dataframe thead th {\n",
       "        text-align: right;\n",
       "    }\n",
       "</style>\n",
       "<table border=\"1\" class=\"dataframe\">\n",
       "  <thead>\n",
       "    <tr style=\"text-align: right;\">\n",
       "      <th></th>\n",
       "      <th>YEAR</th>\n",
       "      <th>ID</th>\n",
       "      <th>INTID</th>\n",
       "      <th>FEEUSED</th>\n",
       "      <th>FEELEVEL</th>\n",
       "      <th>DATEINTV</th>\n",
       "      <th>LNGTHINV</th>\n",
       "      <th>INTAGE</th>\n",
       "      <th>INTETHN</th>\n",
       "      <th>MODE</th>\n",
       "      <th>...</th>\n",
       "      <th>SAMPCODE</th>\n",
       "      <th>SAMPLE</th>\n",
       "      <th>OVERSAMP</th>\n",
       "      <th>WTSS</th>\n",
       "      <th>WTSSNR</th>\n",
       "      <th>WTSSALL</th>\n",
       "      <th>WTCOMB</th>\n",
       "      <th>WTCOMBNR</th>\n",
       "      <th>VSTRAT</th>\n",
       "      <th>VPSU</th>\n",
       "    </tr>\n",
       "  </thead>\n",
       "  <tbody>\n",
       "    <tr>\n",
       "      <th>0</th>\n",
       "      <td>2012</td>\n",
       "      <td>1</td>\n",
       "      <td>49</td>\n",
       "      <td>1</td>\n",
       "      <td>75</td>\n",
       "      <td>721</td>\n",
       "      <td>69</td>\n",
       "      <td>60</td>\n",
       "      <td>1</td>\n",
       "      <td>1</td>\n",
       "      <td>...</td>\n",
       "      <td>601</td>\n",
       "      <td>10</td>\n",
       "      <td>1</td>\n",
       "      <td>2.621963</td>\n",
       "      <td>2.869532</td>\n",
       "      <td>2.621963</td>\n",
       "      <td>6.402159</td>\n",
       "      <td>7.006659</td>\n",
       "      <td>-1</td>\n",
       "      <td>-1</td>\n",
       "    </tr>\n",
       "    <tr>\n",
       "      <th>1</th>\n",
       "      <td>2012</td>\n",
       "      <td>2</td>\n",
       "      <td>150</td>\n",
       "      <td>1</td>\n",
       "      <td>75</td>\n",
       "      <td>624</td>\n",
       "      <td>53</td>\n",
       "      <td>32</td>\n",
       "      <td>1</td>\n",
       "      <td>1</td>\n",
       "      <td>...</td>\n",
       "      <td>601</td>\n",
       "      <td>10</td>\n",
       "      <td>1</td>\n",
       "      <td>3.495950</td>\n",
       "      <td>3.826043</td>\n",
       "      <td>3.495950</td>\n",
       "      <td>6.514477</td>\n",
       "      <td>7.129583</td>\n",
       "      <td>-1</td>\n",
       "      <td>-1</td>\n",
       "    </tr>\n",
       "    <tr>\n",
       "      <th>2</th>\n",
       "      <td>2012</td>\n",
       "      <td>3</td>\n",
       "      <td>150</td>\n",
       "      <td>1</td>\n",
       "      <td>75</td>\n",
       "      <td>627</td>\n",
       "      <td>77</td>\n",
       "      <td>32</td>\n",
       "      <td>1</td>\n",
       "      <td>1</td>\n",
       "      <td>...</td>\n",
       "      <td>601</td>\n",
       "      <td>10</td>\n",
       "      <td>1</td>\n",
       "      <td>1.747975</td>\n",
       "      <td>1.913021</td>\n",
       "      <td>1.747975</td>\n",
       "      <td>1.671130</td>\n",
       "      <td>1.828920</td>\n",
       "      <td>-1</td>\n",
       "      <td>-1</td>\n",
       "    </tr>\n",
       "    <tr>\n",
       "      <th>3</th>\n",
       "      <td>2012</td>\n",
       "      <td>4</td>\n",
       "      <td>49</td>\n",
       "      <td>1</td>\n",
       "      <td>20</td>\n",
       "      <td>527</td>\n",
       "      <td>78</td>\n",
       "      <td>60</td>\n",
       "      <td>1</td>\n",
       "      <td>1</td>\n",
       "      <td>...</td>\n",
       "      <td>601</td>\n",
       "      <td>10</td>\n",
       "      <td>1</td>\n",
       "      <td>1.235694</td>\n",
       "      <td>1.352370</td>\n",
       "      <td>1.235694</td>\n",
       "      <td>1.181370</td>\n",
       "      <td>1.292917</td>\n",
       "      <td>-1</td>\n",
       "      <td>-1</td>\n",
       "    </tr>\n",
       "    <tr>\n",
       "      <th>4</th>\n",
       "      <td>2012</td>\n",
       "      <td>5</td>\n",
       "      <td>235</td>\n",
       "      <td>1</td>\n",
       "      <td>75</td>\n",
       "      <td>620</td>\n",
       "      <td>149</td>\n",
       "      <td>62</td>\n",
       "      <td>1</td>\n",
       "      <td>1</td>\n",
       "      <td>...</td>\n",
       "      <td>601</td>\n",
       "      <td>10</td>\n",
       "      <td>1</td>\n",
       "      <td>0.873988</td>\n",
       "      <td>0.956511</td>\n",
       "      <td>0.873988</td>\n",
       "      <td>0.835565</td>\n",
       "      <td>0.914460</td>\n",
       "      <td>-1</td>\n",
       "      <td>-1</td>\n",
       "    </tr>\n",
       "  </tbody>\n",
       "</table>\n",
       "<p>5 rows × 1069 columns</p>\n",
       "</div>"
      ],
      "text/plain": [
       "   YEAR  ID  INTID  FEEUSED  FEELEVEL  DATEINTV  LNGTHINV  INTAGE  INTETHN  \\\n",
       "0  2012   1     49        1        75       721        69      60        1   \n",
       "1  2012   2    150        1        75       624        53      32        1   \n",
       "2  2012   3    150        1        75       627        77      32        1   \n",
       "3  2012   4     49        1        20       527        78      60        1   \n",
       "4  2012   5    235        1        75       620       149      62        1   \n",
       "\n",
       "   MODE  ...  SAMPCODE  SAMPLE  OVERSAMP      WTSS    WTSSNR   WTSSALL  \\\n",
       "0     1  ...       601      10         1  2.621963  2.869532  2.621963   \n",
       "1     1  ...       601      10         1  3.495950  3.826043  3.495950   \n",
       "2     1  ...       601      10         1  1.747975  1.913021  1.747975   \n",
       "3     1  ...       601      10         1  1.235694  1.352370  1.235694   \n",
       "4     1  ...       601      10         1  0.873988  0.956511  0.873988   \n",
       "\n",
       "     WTCOMB  WTCOMBNR  VSTRAT  VPSU  \n",
       "0  6.402159  7.006659      -1    -1  \n",
       "1  6.514477  7.129583      -1    -1  \n",
       "2  1.671130  1.828920      -1    -1  \n",
       "3  1.181370  1.292917      -1    -1  \n",
       "4  0.835565  0.914460      -1    -1  \n",
       "\n",
       "[5 rows x 1069 columns]"
      ]
     },
     "execution_count": 2,
     "metadata": {},
     "output_type": "execute_result"
    }
   ],
   "source": [
    "## Load data\n",
    "\n",
    "gss = pd.read_csv('../../GSS_2012/ICPSR_35478/DS0001/35478-0001-Data.tsv', sep='\\t')\n",
    "print(gss.shape)\n",
    "gss.head()"
   ]
  },
  {
   "cell_type": "markdown",
   "metadata": {},
   "source": [
    "## Select useful features manually"
   ]
  },
  {
   "cell_type": "code",
   "execution_count": 3,
   "metadata": {},
   "outputs": [],
   "source": [
    "## Most useful features with majority responses\n",
    "\n",
    "gss_select = pd.DataFrame({\n",
    "    'age': gss['AGE'], #p60\n",
    "    'yob': gss['COHORT'],\n",
    "    'sex': gss['SEX'], #p87\n",
    "    'race': gss['RACECEN1'], #p291\n",
    "    'siblings': gss['SIBS'], #p58\n",
    "    'region': gss['REGION'], #p103\n",
    "    'place_size_000s': gss['SIZE'], #p105\n",
    "    'place_size': gss['XNORCSIZ'], #p104\n",
    "    'beltcode': gss['SRCBELT'], #p105\n",
    "    'work_status': gss['WRKSTAT'],\n",
    "    'hours': gss['HRS1'], #p.21\n",
    "    'self_employed': gss['WRKSLF'],\n",
    "    'occupation': gss['OCC10'],\n",
    "    'income': gss['RINCOME'], #p100\n",
    "    'income_granular': gss['RINCOM06'], #p102\n",
    "    'highest_school': gss['EDUC'], #p64\n",
    "    'highest_degree': gss['DEGREE'], #p68\n",
    "    'major': gss['MAJOR1'], #p70\n",
    "    'residence_16' : gss['RES16'], #p88\n",
    "    'region_16': gss['REG16'], #p89\n",
    "    'family_16': gss['FAMILY16'], #90\n",
    "    'live_who_16': gss['FAMDIF16'], #91\n",
    "    'fam_income_16': gss['INCOM16'], #92\n",
    "    'relig_raised': gss['RELIG16'], #p.186\n",
    "    'geo_mobility': gss['MOBILE16'], #p90\n",
    "    'mother_employed': gss['MAWRKGRW'], #92\n",
    "    'father_school': gss['PAEDUC'], #p65\n",
    "    'mother_school': gss['MAEDUC'], #p66\n",
    "    'father_degree': gss['PADEG'], #p68\n",
    "    'mother_degree': gss['MADEG'], #p69\n",
    "    'father_occupation': gss['PAOCC10'], #p.45\n",
    "    'mother_occupation': gss['MAOCC10'], #p51\n",
    "    'father_self_employed': gss['PAWRKSLF'], #p.45\n",
    "    'mother_self_employed': gss['MAWRKSLF'], #p51\n",
    "    'class': gss['CLASS'], #p.236\n",
    "    'happiness': gss['HAPPY'], #p210\n",
    "    'pol_party': gss['PARTYID'], #p140\n",
    "    'pol_views': gss['POLVIEWS'], #p142\n",
    "    'vote_2008': gss['VOTE08'], #p140\n",
    "    'pres_2008': gss['PRES08'], #p141\n",
    "    'if_pres_2008': gss['IF08WHO'], #P141\n",
    "    'religion': gss['RELIG'], #p.175\n",
    "    'religion_strength': gss['RELITEN'], #p183\n",
    "    'fundamentalist': gss['FUND'], #p182\n",
    "    'rel_attend': gss['ATTEND'], #p182\n",
    "    'rel_person': gss['RELPERSN'],\n",
    "    'spi_person': gss['SPRTPRSN'],\n",
    "    'post_life': gss['POSTLIFE'], #p184\n",
    "    'pray': gss['PRAY'], #p184\n",
    "    'bible': gss['BIBLE'], #p206\n",
    "    'god': gss[\"GOD\"],\n",
    "    'born_again': gss['REBORN'],\n",
    "    'save_soul': gss['SAVESOUL'],\n",
    "    'rel_activities': gss['RELACTIV'],\n",
    "    'op_road': gss['NATROAD'], #p149\n",
    "    'op_socsec': gss['NATSOC'], #p150\n",
    "    'op_masstrans': gss['NATMASS'], #p151\n",
    "    'op_parks': gss['NATPARK'], #p152\n",
    "    'op_childcare': gss['NATCHLD'], #p153\n",
    "    'op_scires': gss['NATSCI'], #p154\n",
    "    'op_cappun': gss['CAPPUN'], #p173\n",
    "    'op_gunlaws': gss['GUNLAW'], #173\n",
    "    'op_criminals': gss['COURTS'] #p174\n",
    "    \n",
    "})"
   ]
  },
  {
   "cell_type": "code",
   "execution_count": 4,
   "metadata": {},
   "outputs": [],
   "source": [
    "## Features that might have label leakage\n",
    "\n",
    "gss_may_hint = pd.DataFrame({\n",
    "    'dwelling_type': gss['DWELLING'], #p295\n",
    "    'children': gss['CHILDS'], #p59\n",
    "    'age_1st_child': gss['AGEKDBRN'], #P62\n",
    "    'sex_orient': gss['SEXORNT'] #p277\n",
    "})"
   ]
  },
  {
   "cell_type": "code",
   "execution_count": 5,
   "metadata": {},
   "outputs": [],
   "source": [
    "## Outcome variable\n",
    "\n",
    "gss_marital_status = pd.DataFrame({\n",
    "    'marital_status' : gss['MARITAL'],\n",
    "    'ever_divorced' : gss['DIVORCE'],\n",
    "    'ever_widowed' : gss['WIDOWED']\n",
    "})"
   ]
  },
  {
   "cell_type": "code",
   "execution_count": 6,
   "metadata": {},
   "outputs": [
    {
     "data": {
      "text/html": [
       "<div>\n",
       "<style scoped>\n",
       "    .dataframe tbody tr th:only-of-type {\n",
       "        vertical-align: middle;\n",
       "    }\n",
       "\n",
       "    .dataframe tbody tr th {\n",
       "        vertical-align: top;\n",
       "    }\n",
       "\n",
       "    .dataframe thead th {\n",
       "        text-align: right;\n",
       "    }\n",
       "</style>\n",
       "<table border=\"1\" class=\"dataframe\">\n",
       "  <thead>\n",
       "    <tr style=\"text-align: right;\">\n",
       "      <th></th>\n",
       "      <th>marital_status</th>\n",
       "      <th>ever_divorced</th>\n",
       "      <th>ever_widowed</th>\n",
       "    </tr>\n",
       "  </thead>\n",
       "  <tbody>\n",
       "    <tr>\n",
       "      <th>0</th>\n",
       "      <td>5</td>\n",
       "      <td>0</td>\n",
       "      <td>0</td>\n",
       "    </tr>\n",
       "    <tr>\n",
       "      <th>1</th>\n",
       "      <td>5</td>\n",
       "      <td>0</td>\n",
       "      <td>0</td>\n",
       "    </tr>\n",
       "    <tr>\n",
       "      <th>2</th>\n",
       "      <td>1</td>\n",
       "      <td>2</td>\n",
       "      <td>2</td>\n",
       "    </tr>\n",
       "    <tr>\n",
       "      <th>3</th>\n",
       "      <td>1</td>\n",
       "      <td>1</td>\n",
       "      <td>2</td>\n",
       "    </tr>\n",
       "    <tr>\n",
       "      <th>4</th>\n",
       "      <td>4</td>\n",
       "      <td>0</td>\n",
       "      <td>2</td>\n",
       "    </tr>\n",
       "  </tbody>\n",
       "</table>\n",
       "</div>"
      ],
      "text/plain": [
       "   marital_status  ever_divorced  ever_widowed\n",
       "0               5              0             0\n",
       "1               5              0             0\n",
       "2               1              2             2\n",
       "3               1              1             2\n",
       "4               4              0             2"
      ]
     },
     "execution_count": 6,
     "metadata": {},
     "output_type": "execute_result"
    }
   ],
   "source": [
    "## marital_status: 1-Married, 2-Widowed, 3-Divorced, 4-Separated, 5-Never married, 9-No answer\n",
    "## ever_divorced: 1-Yes, 2-No, 0-Inapplicable, 8-Don't know, 9-No answer\n",
    "## ever_widowed: 1-Yes, 2-No, 0-Inapplicable, 8-Don't know, 9-No answer\n",
    "gss_marital_status.head()"
   ]
  },
  {
   "cell_type": "code",
   "execution_count": 7,
   "metadata": {},
   "outputs": [],
   "source": [
    "## Create binary outcome variable\n",
    "\n",
    "gss_divsep = pd.DataFrame({\n",
    "    'ever_divsep': np.where(gss_marital_status['marital_status'].isin([3, 4]), 1, 0) + np.where(gss_marital_status['ever_divorced'] == 1, 1, 0)\n",
    "})"
   ]
  },
  {
   "cell_type": "code",
   "execution_count": 8,
   "metadata": {},
   "outputs": [
    {
     "data": {
      "text/html": [
       "<div>\n",
       "<style scoped>\n",
       "    .dataframe tbody tr th:only-of-type {\n",
       "        vertical-align: middle;\n",
       "    }\n",
       "\n",
       "    .dataframe tbody tr th {\n",
       "        vertical-align: top;\n",
       "    }\n",
       "\n",
       "    .dataframe thead th {\n",
       "        text-align: right;\n",
       "    }\n",
       "</style>\n",
       "<table border=\"1\" class=\"dataframe\">\n",
       "  <thead>\n",
       "    <tr style=\"text-align: right;\">\n",
       "      <th></th>\n",
       "      <th>ever_divsep</th>\n",
       "    </tr>\n",
       "  </thead>\n",
       "  <tbody>\n",
       "    <tr>\n",
       "      <th>0</th>\n",
       "      <td>0</td>\n",
       "    </tr>\n",
       "    <tr>\n",
       "      <th>1</th>\n",
       "      <td>0</td>\n",
       "    </tr>\n",
       "    <tr>\n",
       "      <th>2</th>\n",
       "      <td>0</td>\n",
       "    </tr>\n",
       "    <tr>\n",
       "      <th>3</th>\n",
       "      <td>1</td>\n",
       "    </tr>\n",
       "    <tr>\n",
       "      <th>4</th>\n",
       "      <td>1</td>\n",
       "    </tr>\n",
       "  </tbody>\n",
       "</table>\n",
       "</div>"
      ],
      "text/plain": [
       "   ever_divsep\n",
       "0            0\n",
       "1            0\n",
       "2            0\n",
       "3            1\n",
       "4            1"
      ]
     },
     "execution_count": 8,
     "metadata": {},
     "output_type": "execute_result"
    }
   ],
   "source": [
    "gss_divsep.head()"
   ]
  },
  {
   "cell_type": "code",
   "execution_count": 9,
   "metadata": {},
   "outputs": [],
   "source": [
    "## Why so many non responses for income?\n",
    "\n",
    "gss_income = gss.loc[gss['RINCOM06'] == 0, ]"
   ]
  },
  {
   "cell_type": "code",
   "execution_count": 10,
   "metadata": {},
   "outputs": [
    {
     "data": {
      "text/plain": [
       "2    619\n",
       "3    577\n",
       "1    566\n",
       "Name: VERSION, dtype: int64"
      ]
     },
     "execution_count": 10,
     "metadata": {},
     "output_type": "execute_result"
    }
   ],
   "source": [
    "gss_income.VERSION.value_counts()"
   ]
  },
  {
   "cell_type": "code",
   "execution_count": 11,
   "metadata": {},
   "outputs": [
    {
     "data": {
      "text/plain": [
       "2012    723\n",
       "2010    567\n",
       "2008    472\n",
       "Name: SAMPTYPE, dtype: int64"
      ]
     },
     "execution_count": 11,
     "metadata": {},
     "output_type": "execute_result"
    }
   ],
   "source": [
    "gss_income.SAMPTYPE.value_counts()"
   ]
  },
  {
   "cell_type": "markdown",
   "metadata": {},
   "source": [
    "## Create features and record NAs"
   ]
  },
  {
   "cell_type": "code",
   "execution_count": 12,
   "metadata": {},
   "outputs": [],
   "source": [
    "## Create features and record NAs"
   ]
  },
  {
   "cell_type": "code",
   "execution_count": 13,
   "metadata": {},
   "outputs": [
    {
     "data": {
      "text/html": [
       "<div>\n",
       "<style scoped>\n",
       "    .dataframe tbody tr th:only-of-type {\n",
       "        vertical-align: middle;\n",
       "    }\n",
       "\n",
       "    .dataframe tbody tr th {\n",
       "        vertical-align: top;\n",
       "    }\n",
       "\n",
       "    .dataframe thead th {\n",
       "        text-align: right;\n",
       "    }\n",
       "</style>\n",
       "<table border=\"1\" class=\"dataframe\">\n",
       "  <thead>\n",
       "    <tr style=\"text-align: right;\">\n",
       "      <th></th>\n",
       "      <th>inapplicable</th>\n",
       "      <th>dont_know</th>\n",
       "      <th>no_answer</th>\n",
       "    </tr>\n",
       "    <tr>\n",
       "      <th>variable</th>\n",
       "      <th></th>\n",
       "      <th></th>\n",
       "      <th></th>\n",
       "    </tr>\n",
       "  </thead>\n",
       "  <tbody>\n",
       "    <tr>\n",
       "      <th>age</th>\n",
       "      <td>NaN</td>\n",
       "      <td>NaN</td>\n",
       "      <td>NaN</td>\n",
       "    </tr>\n",
       "    <tr>\n",
       "      <th>yob</th>\n",
       "      <td>NaN</td>\n",
       "      <td>NaN</td>\n",
       "      <td>NaN</td>\n",
       "    </tr>\n",
       "    <tr>\n",
       "      <th>sex</th>\n",
       "      <td>NaN</td>\n",
       "      <td>NaN</td>\n",
       "      <td>NaN</td>\n",
       "    </tr>\n",
       "    <tr>\n",
       "      <th>race</th>\n",
       "      <td>NaN</td>\n",
       "      <td>NaN</td>\n",
       "      <td>NaN</td>\n",
       "    </tr>\n",
       "    <tr>\n",
       "      <th>siblings</th>\n",
       "      <td>NaN</td>\n",
       "      <td>NaN</td>\n",
       "      <td>NaN</td>\n",
       "    </tr>\n",
       "  </tbody>\n",
       "</table>\n",
       "</div>"
      ],
      "text/plain": [
       "          inapplicable  dont_know  no_answer\n",
       "variable                                    \n",
       "age                NaN        NaN        NaN\n",
       "yob                NaN        NaN        NaN\n",
       "sex                NaN        NaN        NaN\n",
       "race               NaN        NaN        NaN\n",
       "siblings           NaN        NaN        NaN"
      ]
     },
     "execution_count": 13,
     "metadata": {},
     "output_type": "execute_result"
    }
   ],
   "source": [
    "dummies_needed = []\n",
    "gss_features = pd.DataFrame()\n",
    "gss_nas = pd.DataFrame({\n",
    "    'variable': gss_select.columns,\n",
    "    'inapplicable': np.nan,\n",
    "    'dont_know': np.nan,\n",
    "    'no_answer': np.nan\n",
    "})\n",
    "\n",
    "gss_nas.set_index(['variable'], drop=True, inplace=True)\n",
    "gss_nas.head()"
   ]
  },
  {
   "cell_type": "code",
   "execution_count": 14,
   "metadata": {},
   "outputs": [],
   "source": [
    "## Filling in gss_nas\n",
    "\n",
    "def fill_gn(row, col, value):\n",
    "    gss_nas.loc[row, col] = (gss_select[row] == value).sum()\n",
    "    "
   ]
  },
  {
   "cell_type": "markdown",
   "metadata": {},
   "source": [
    "#### Age"
   ]
  },
  {
   "cell_type": "code",
   "execution_count": 15,
   "metadata": {},
   "outputs": [
    {
     "name": "stdout",
     "output_type": "stream",
     "text": [
      "          inapplicable  dont_know  no_answer\n",
      "variable                                    \n",
      "age                NaN        0.0       51.0\n",
      "yob                NaN        NaN        NaN\n",
      "sex                NaN        NaN        NaN\n",
      "race               NaN        NaN        NaN\n",
      "siblings           NaN        NaN        NaN\n",
      "    age\n",
      "0  22.0\n",
      "1  21.0\n",
      "2  42.0\n",
      "3  49.0\n",
      "4  70.0\n"
     ]
    }
   ],
   "source": [
    "## Fill in NAs\n",
    "gss_nas.loc['age', 'dont_know'] = (gss_select['age'] == 98).sum()\n",
    "fill_gn('age', 'no_answer', 99)\n",
    "\n",
    "## Create feature with NAs\n",
    "gss_features['age'] = np.where(gss_select['age'] == 99, np.nan, gss_select['age'])\n",
    "\n",
    "## Display results\n",
    "print(gss_nas.head())\n",
    "print(gss_features.head())"
   ]
  },
  {
   "cell_type": "markdown",
   "metadata": {},
   "source": [
    "#### YOB"
   ]
  },
  {
   "cell_type": "code",
   "execution_count": 16,
   "metadata": {},
   "outputs": [],
   "source": [
    "## Ignoring this as duplicates age"
   ]
  },
  {
   "cell_type": "markdown",
   "metadata": {},
   "source": [
    "#### Sex (p.87)"
   ]
  },
  {
   "cell_type": "code",
   "execution_count": 17,
   "metadata": {},
   "outputs": [],
   "source": [
    "## 1-Male, 2-Female in survey\n",
    "## Code to 0-Female, 1-Male\n",
    "\n",
    "gss_features['sex'] = np.where(gss_select['sex'] == 2, 0, 1)"
   ]
  },
  {
   "cell_type": "markdown",
   "metadata": {},
   "source": [
    "#### Race (p.291)"
   ]
  },
  {
   "cell_type": "code",
   "execution_count": 18,
   "metadata": {},
   "outputs": [],
   "source": [
    "fill_gn('race', 'dont_know', 98)\n",
    "fill_gn('race', 'no_answer', 99)\n",
    "\n",
    "## If less than 1% code as other\n",
    "race_dict = {\n",
    "    1: 'white',\n",
    "    2: 'black',\n",
    "    3: 'american_indian',\n",
    "    4: 'other', #'asian indian', \n",
    "    5: 'other', #'chinese', \n",
    "    6: 'other', #'filipino', \n",
    "    7: 'other', #'japanese', \n",
    "    8: 'other', #'korean', \n",
    "    9: 'other', # vietnamese\n",
    "    10: 'other', #other asian \n",
    "    11: 'other', #native hawaiian \n",
    "    12: 'other', #Guamanian or Chamorro \n",
    "    13: 'other', #Samoan \n",
    "    14: 'other', #Other pacific islander \n",
    "    15: 'other', #another race \n",
    "    16: 'hispanic', \n",
    "    98: 'other',\n",
    "    99: 'other'\n",
    "}\n",
    "\n",
    "gss_features['race'] = gss_select['race'].replace(race_dict)\n",
    "dummies_needed.append('race')\n",
    "\n",
    "## Can code 98 and 99 as 'other' because if obvious interviewer codes it."
   ]
  },
  {
   "cell_type": "markdown",
   "metadata": {},
   "source": [
    "#### Siblings p.58"
   ]
  },
  {
   "cell_type": "code",
   "execution_count": 19,
   "metadata": {},
   "outputs": [],
   "source": [
    "fill_gn('siblings', 'dont_know', 98)\n",
    "fill_gn('siblings', 'no_answer', 99)\n",
    "gss_features['siblings'] = np.where(gss_select['siblings'].isin([98, 99]), np.nan, gss_select['siblings'])"
   ]
  },
  {
   "cell_type": "markdown",
   "metadata": {},
   "source": [
    "#### Region p.103"
   ]
  },
  {
   "cell_type": "code",
   "execution_count": 20,
   "metadata": {},
   "outputs": [],
   "source": [
    "region_dict = {\n",
    "    1: 'New_England',\n",
    "    2: 'Middle_Atlantic',\n",
    "    3: 'East_North_Central',\n",
    "    4: 'West_North_Central',\n",
    "    5: 'South_Atlantic',\n",
    "    6: 'East_South_Central',\n",
    "    7: 'West_South_Central',\n",
    "    8: 'Mountain',\n",
    "    9: 'Pacific',\n",
    "    0: np.nan\n",
    "}\n",
    "\n",
    "fill_gn('region', 'no_answer', 0)\n",
    "\n",
    "gss_features['region'] = gss_select['region'].replace(region_dict)\n",
    "\n",
    "dummies_needed.append('region')"
   ]
  },
  {
   "cell_type": "markdown",
   "metadata": {},
   "source": [
    "#### Place size 000s p.105"
   ]
  },
  {
   "cell_type": "code",
   "execution_count": 21,
   "metadata": {},
   "outputs": [
    {
     "data": {
      "text/html": [
       "<div>\n",
       "<style scoped>\n",
       "    .dataframe tbody tr th:only-of-type {\n",
       "        vertical-align: middle;\n",
       "    }\n",
       "\n",
       "    .dataframe tbody tr th {\n",
       "        vertical-align: top;\n",
       "    }\n",
       "\n",
       "    .dataframe thead th {\n",
       "        text-align: right;\n",
       "    }\n",
       "</style>\n",
       "<table border=\"1\" class=\"dataframe\">\n",
       "  <thead>\n",
       "    <tr style=\"text-align: right;\">\n",
       "      <th></th>\n",
       "      <th>age</th>\n",
       "      <th>yob</th>\n",
       "      <th>sex</th>\n",
       "      <th>race</th>\n",
       "      <th>siblings</th>\n",
       "      <th>region</th>\n",
       "      <th>place_size_000s</th>\n",
       "      <th>place_size</th>\n",
       "      <th>beltcode</th>\n",
       "      <th>work_status</th>\n",
       "      <th>...</th>\n",
       "      <th>rel_activities</th>\n",
       "      <th>op_road</th>\n",
       "      <th>op_socsec</th>\n",
       "      <th>op_masstrans</th>\n",
       "      <th>op_parks</th>\n",
       "      <th>op_childcare</th>\n",
       "      <th>op_scires</th>\n",
       "      <th>op_cappun</th>\n",
       "      <th>op_gunlaws</th>\n",
       "      <th>op_criminals</th>\n",
       "    </tr>\n",
       "  </thead>\n",
       "  <tbody>\n",
       "  </tbody>\n",
       "</table>\n",
       "<p>0 rows × 63 columns</p>\n",
       "</div>"
      ],
      "text/plain": [
       "Empty DataFrame\n",
       "Columns: [age, yob, sex, race, siblings, region, place_size_000s, place_size, beltcode, work_status, hours, self_employed, occupation, income, income_granular, highest_school, highest_degree, major, residence_16, region_16, family_16, live_who_16, fam_income_16, relig_raised, geo_mobility, mother_employed, father_school, mother_school, father_degree, mother_degree, father_occupation, mother_occupation, father_self_employed, mother_self_employed, class, happiness, pol_party, pol_views, vote_2008, pres_2008, if_pres_2008, religion, religion_strength, fundamentalist, rel_attend, rel_person, spi_person, post_life, pray, bible, god, born_again, save_soul, rel_activities, op_road, op_socsec, op_masstrans, op_parks, op_childcare, op_scires, op_cappun, op_gunlaws, op_criminals]\n",
       "Index: []\n",
       "\n",
       "[0 rows x 63 columns]"
      ]
     },
     "execution_count": 21,
     "metadata": {},
     "output_type": "execute_result"
    }
   ],
   "source": [
    "gss_select.loc[gss_select['place_size_000s'] <0,]"
   ]
  },
  {
   "cell_type": "code",
   "execution_count": 22,
   "metadata": {},
   "outputs": [],
   "source": [
    "## No missing values (-1) so no cleaning needed\n",
    "\n",
    "gss_features['place_size_000s'] = gss_select['place_size_000s']"
   ]
  },
  {
   "cell_type": "markdown",
   "metadata": {},
   "source": [
    "#### Place size p.104"
   ]
  },
  {
   "cell_type": "code",
   "execution_count": 23,
   "metadata": {},
   "outputs": [],
   "source": [
    "## Not used - replicates previous"
   ]
  },
  {
   "cell_type": "markdown",
   "metadata": {},
   "source": [
    "#### Beltcode p.105"
   ]
  },
  {
   "cell_type": "code",
   "execution_count": 24,
   "metadata": {},
   "outputs": [],
   "source": [
    "## Use this to code urban / suburban / countryside\n",
    "\n",
    "urban_dict = {\n",
    "    1: 'urban',\n",
    "    2: 'urban',\n",
    "    3: 'suburban',\n",
    "    4: 'suburban',\n",
    "    5: 'urban',\n",
    "    6: 'rural', \n",
    "}\n",
    "\n",
    "gss_features['beltcode'] = gss_select['beltcode'].replace(urban_dict)\n",
    "\n",
    "dummies_needed.append('beltcode')"
   ]
  },
  {
   "cell_type": "markdown",
   "metadata": {},
   "source": [
    "#### Work status p.20"
   ]
  },
  {
   "cell_type": "code",
   "execution_count": 25,
   "metadata": {},
   "outputs": [],
   "source": [
    "## Potential leakage here from keeping house and part time. Ignore."
   ]
  },
  {
   "cell_type": "markdown",
   "metadata": {},
   "source": [
    "#### Hours worked last week p.21"
   ]
  },
  {
   "cell_type": "code",
   "execution_count": 26,
   "metadata": {},
   "outputs": [],
   "source": [
    "## -1 is inapplicable, 98 is don't know, 99 is no answer\n",
    "\n",
    "fill_gn('hours', 'inapplicable', -1)\n",
    "fill_gn('hours', 'dont_know', 98)\n",
    "fill_gn('hours', 'no_answer', 99)\n",
    "\n",
    "gss_features['hours_worked'] = gss_select['hours']\n",
    "\n",
    "gss_features.loc[gss_features['hours_worked'] == -1, 'hours_worked'] = 0\n",
    "\n",
    "gss_features.loc[gss_features['hours_worked'].isin([98,99]), 'hours_worked'] = np.nan\n"
   ]
  },
  {
   "cell_type": "markdown",
   "metadata": {},
   "source": [
    "#### Self employed p.25"
   ]
  },
  {
   "cell_type": "code",
   "execution_count": 27,
   "metadata": {},
   "outputs": [],
   "source": [
    "## Only 131 inapplicables doesn't make sense with work status results.\n",
    "## Leave out."
   ]
  },
  {
   "cell_type": "markdown",
   "metadata": {},
   "source": [
    "#### Occupation p.26"
   ]
  },
  {
   "cell_type": "code",
   "execution_count": 28,
   "metadata": {},
   "outputs": [
    {
     "data": {
      "text/plain": [
       "421"
      ]
     },
     "execution_count": 28,
     "metadata": {},
     "output_type": "execute_result"
    }
   ],
   "source": [
    "## The numbers do not tally with the totals for each occupation in \n",
    "## appendix F. Maybe Appendix F doesn't include all panels?\n",
    "\n",
    "len(gss['OCC10'].unique())"
   ]
  },
  {
   "cell_type": "code",
   "execution_count": 29,
   "metadata": {},
   "outputs": [
    {
     "data": {
      "text/html": [
       "<div>\n",
       "<style scoped>\n",
       "    .dataframe tbody tr th:only-of-type {\n",
       "        vertical-align: middle;\n",
       "    }\n",
       "\n",
       "    .dataframe tbody tr th {\n",
       "        vertical-align: top;\n",
       "    }\n",
       "\n",
       "    .dataframe thead th {\n",
       "        text-align: right;\n",
       "    }\n",
       "</style>\n",
       "<table border=\"1\" class=\"dataframe\">\n",
       "  <thead>\n",
       "    <tr style=\"text-align: right;\">\n",
       "      <th></th>\n",
       "      <th>counts</th>\n",
       "      <th>percentage</th>\n",
       "    </tr>\n",
       "  </thead>\n",
       "  <tbody>\n",
       "    <tr>\n",
       "      <th>5700</th>\n",
       "      <td>145</td>\n",
       "      <td>0.030083</td>\n",
       "    </tr>\n",
       "    <tr>\n",
       "      <th>0</th>\n",
       "      <td>131</td>\n",
       "      <td>0.027178</td>\n",
       "    </tr>\n",
       "    <tr>\n",
       "      <th>4760</th>\n",
       "      <td>110</td>\n",
       "      <td>0.022822</td>\n",
       "    </tr>\n",
       "    <tr>\n",
       "      <th>4220</th>\n",
       "      <td>110</td>\n",
       "      <td>0.022822</td>\n",
       "    </tr>\n",
       "    <tr>\n",
       "      <th>3600</th>\n",
       "      <td>108</td>\n",
       "      <td>0.022407</td>\n",
       "    </tr>\n",
       "    <tr>\n",
       "      <th>2310</th>\n",
       "      <td>101</td>\n",
       "      <td>0.020954</td>\n",
       "    </tr>\n",
       "    <tr>\n",
       "      <th>9130</th>\n",
       "      <td>96</td>\n",
       "      <td>0.019917</td>\n",
       "    </tr>\n",
       "    <tr>\n",
       "      <th>3255</th>\n",
       "      <td>96</td>\n",
       "      <td>0.019917</td>\n",
       "    </tr>\n",
       "    <tr>\n",
       "      <th>430</th>\n",
       "      <td>94</td>\n",
       "      <td>0.019502</td>\n",
       "    </tr>\n",
       "    <tr>\n",
       "      <th>5240</th>\n",
       "      <td>76</td>\n",
       "      <td>0.015768</td>\n",
       "    </tr>\n",
       "    <tr>\n",
       "      <th>4700</th>\n",
       "      <td>76</td>\n",
       "      <td>0.015768</td>\n",
       "    </tr>\n",
       "  </tbody>\n",
       "</table>\n",
       "</div>"
      ],
      "text/plain": [
       "      counts  percentage\n",
       "5700     145    0.030083\n",
       "0        131    0.027178\n",
       "4760     110    0.022822\n",
       "4220     110    0.022822\n",
       "3600     108    0.022407\n",
       "2310     101    0.020954\n",
       "9130      96    0.019917\n",
       "3255      96    0.019917\n",
       "430       94    0.019502\n",
       "5240      76    0.015768\n",
       "4700      76    0.015768"
      ]
     },
     "execution_count": 29,
     "metadata": {},
     "output_type": "execute_result"
    }
   ],
   "source": [
    "occs = gss_select['occupation'].value_counts().to_frame('counts').sort_values('counts', ascending=False)\n",
    "occs['percentage'] = occs['counts'] / occs['counts'].sum()\n",
    "occs.loc[occs['percentage'] > 0.015,]"
   ]
  },
  {
   "cell_type": "code",
   "execution_count": 30,
   "metadata": {},
   "outputs": [],
   "source": [
    "## Too small, would create noise - code by general occupation area.\n",
    "\n",
    "occ_dict = {\n",
    "    0: 'none',\n",
    "    430: 'manager',\n",
    "    950: 'business',\n",
    "    1240: 'computers_maths',\n",
    "    1560: 'engineering',\n",
    "    1965: 'science',\n",
    "    2060: 'social_services',\n",
    "    2160: 'legal',\n",
    "    2550: 'education',\n",
    "    2960: 'arts',\n",
    "    3540: 'healthcare_technical',\n",
    "    3600: 'healthcare_support',\n",
    "    3955: 'protective_services',\n",
    "    4160: 'food_prep_serving',\n",
    "    4250: 'cleaning_maintenance',\n",
    "    4650: 'personal_care',\n",
    "    4965: 'sales',\n",
    "    5940: 'administrative_support',\n",
    "    6130: 'farming_fishing_forestry',\n",
    "    6940: 'construction',\n",
    "    7630: 'installation',\n",
    "    8965: 'production',\n",
    "    9750: 'transportation',\n",
    "    9830: 'military',\n",
    "    9999: np.nan\n",
    "    \n",
    "}\n",
    "\n",
    "gss_occs = pd.DataFrame()\n",
    "gss_occs['occs'] = gss_select['occupation']\n",
    "gss_occs['occs_summary'] = gss_occs['occs']\n",
    "\n",
    "for occ in occ_dict:\n",
    "    for row in np.arange(0, len(gss_occs)):\n",
    "        if(isinstance(gss_occs.loc[row, 'occs_summary'], str)): \n",
    "            continue\n",
    "        if(gss_occs.loc[row, 'occs_summary'] <= occ): \n",
    "                gss_occs.loc[row, 'occs_summary'] = occ_dict[occ]\n",
    "    \n",
    "gss_features['occupation'] = gss_occs['occs_summary']\n",
    "dummies_needed.append('occupation')"
   ]
  },
  {
   "cell_type": "code",
   "execution_count": 31,
   "metadata": {},
   "outputs": [
    {
     "data": {
      "text/plain": [
       "administrative_support      609\n",
       "manager                     458\n",
       "sales                       419\n",
       "production                  353\n",
       "education                   339\n",
       "food_prep_serving           246\n",
       "transportation              242\n",
       "cleaning_maintenance        234\n",
       "healthcare_technical        223\n",
       "construction                206\n",
       "business                    203\n",
       "personal_care               145\n",
       "protective_services         134\n",
       "none                        131\n",
       "installation                123\n",
       "healthcare_support          108\n",
       "computers_maths             103\n",
       "military                     97\n",
       "arts                         88\n",
       "engineering                  87\n",
       "social_services              81\n",
       "legal                        42\n",
       "science                      41\n",
       "farming_fishing_forestry     41\n",
       "Name: occs_summary, dtype: int64"
      ]
     },
     "execution_count": 31,
     "metadata": {},
     "output_type": "execute_result"
    }
   ],
   "source": [
    "gss_occs['occs_summary'].value_counts()"
   ]
  },
  {
   "cell_type": "markdown",
   "metadata": {},
   "source": [
    "#### Income p.102"
   ]
  },
  {
   "cell_type": "code",
   "execution_count": 32,
   "metadata": {},
   "outputs": [],
   "source": [
    "## Use mid point of ranges\n",
    "\n",
    "income_dict = {\n",
    "    1: 500,\n",
    "    2: 1500,\n",
    "    3: 3500,\n",
    "    4: 4500,\n",
    "    5: 5500,\n",
    "    6: 6500,\n",
    "    7: 7500,\n",
    "    8: 9000,\n",
    "    9: 11250,\n",
    "    10: 13750,\n",
    "    11: 16250,\n",
    "    12: 18750,\n",
    "    13: 21250,\n",
    "    14: 23750,\n",
    "    15: 27500,\n",
    "    16: 32500,\n",
    "    17: 37500,\n",
    "    18: 45000,\n",
    "    19: 55000,\n",
    "    20: 67500,\n",
    "    21: 82500,\n",
    "    22: 100000,\n",
    "    23: 120000,\n",
    "    24: 140000,\n",
    "    25: 160000 #guess because uncapped\n",
    "}"
   ]
  },
  {
   "cell_type": "code",
   "execution_count": 33,
   "metadata": {},
   "outputs": [
    {
     "name": "stderr",
     "output_type": "stream",
     "text": [
      "/usr/local/lib/python3.7/site-packages/ipykernel_launcher.py:11: SettingWithCopyWarning: \n",
      "A value is trying to be set on a copy of a slice from a DataFrame.\n",
      "Try using .loc[row_indexer,col_indexer] = value instead\n",
      "\n",
      "See the caveats in the documentation: http://pandas.pydata.org/pandas-docs/stable/indexing.html#indexing-view-versus-copy\n",
      "  # This is added back by InteractiveShellApp.init_path()\n",
      "/usr/local/lib/python3.7/site-packages/pandas/core/frame.py:4025: SettingWithCopyWarning: \n",
      "A value is trying to be set on a copy of a slice from a DataFrame\n",
      "\n",
      "See the caveats in the documentation: http://pandas.pydata.org/pandas-docs/stable/indexing.html#indexing-view-versus-copy\n",
      "  return super(DataFrame, self).rename(**kwargs)\n",
      "/usr/local/lib/python3.7/site-packages/ipykernel_launcher.py:18: SettingWithCopyWarning: \n",
      "A value is trying to be set on a copy of a slice from a DataFrame.\n",
      "Try using .loc[row_indexer,col_indexer] = value instead\n",
      "\n",
      "See the caveats in the documentation: http://pandas.pydata.org/pandas-docs/stable/indexing.html#indexing-view-versus-copy\n",
      "/usr/local/lib/python3.7/site-packages/pandas/core/indexing.py:543: SettingWithCopyWarning: \n",
      "A value is trying to be set on a copy of a slice from a DataFrame.\n",
      "Try using .loc[row_indexer,col_indexer] = value instead\n",
      "\n",
      "See the caveats in the documentation: http://pandas.pydata.org/pandas-docs/stable/indexing.html#indexing-view-versus-copy\n",
      "  self.obj[item] = s\n",
      "/usr/local/lib/python3.7/site-packages/ipykernel_launcher.py:21: SettingWithCopyWarning: \n",
      "A value is trying to be set on a copy of a slice from a DataFrame.\n",
      "Try using .loc[row_indexer,col_indexer] = value instead\n",
      "\n",
      "See the caveats in the documentation: http://pandas.pydata.org/pandas-docs/stable/indexing.html#indexing-view-versus-copy\n"
     ]
    },
    {
     "data": {
      "text/plain": [
       "1988"
      ]
     },
     "execution_count": 33,
     "metadata": {},
     "output_type": "execute_result"
    }
   ],
   "source": [
    "## 1762 inapplicable, 170 refused and 98 don't know. \n",
    "## Impute using logical rules.\n",
    "\n",
    "\n",
    "## Separate the complete from the incomplete\n",
    "## The complete are used to predict the incomplete\n",
    "\n",
    "gss_income_impute = gss_select.loc[gss_select['income_granular'].isin([0, 26, 98]), ['age', 'occupation', 'income_granular', 'hours']]\n",
    "gss_income_impute['occs_summary'] = gss_occs.loc[gss_occs.index.isin(gss_income_impute.index), 'occs_summary']\n",
    "gss_income_complete = gss_select.loc[~gss_select.index.isin(gss_income_impute.index), ]\n",
    "gss_income_complete['occs_summary'] = gss_occs.loc[gss_occs.index.isin(gss_income_complete.index), 'occs_summary']\n",
    "gss_income_impute.reset_index(inplace=True)\n",
    "gss_income_impute.rename(columns={'index': 'old_index'}, inplace=True)\n",
    "gss_income_complete.reset_index(inplace=True)\n",
    "gss_income_complete.rename(columns={'index': 'old_index'}, inplace = True)\n",
    "gss_income_impute['income_impute'] = np.nan\n",
    "\n",
    "gss_income_complete['income_granular'] = gss_income_complete['income_granular'].replace(income_dict)\n",
    "gss_income_complete.loc[gss_income_complete['hours'].isin([-1, 98, 99]), 'hours'] = np.nan\n",
    "gss_income_impute.loc[gss_income_impute['hours'].isin([-1, 98, 99]), 'hours'] = np.nan\n",
    "gss_income_complete['income_per_hourwk'] = gss_income_complete['income_granular'] / gss_income_complete['hours']\n",
    "\n",
    "len(gss_income_impute.loc[gss_income_impute['income_impute'].isnull(), ])"
   ]
  },
  {
   "cell_type": "code",
   "execution_count": 34,
   "metadata": {},
   "outputs": [
    {
     "data": {
      "text/html": [
       "<div>\n",
       "<style scoped>\n",
       "    .dataframe tbody tr th:only-of-type {\n",
       "        vertical-align: middle;\n",
       "    }\n",
       "\n",
       "    .dataframe tbody tr th {\n",
       "        vertical-align: top;\n",
       "    }\n",
       "\n",
       "    .dataframe thead th {\n",
       "        text-align: right;\n",
       "    }\n",
       "</style>\n",
       "<table border=\"1\" class=\"dataframe\">\n",
       "  <thead>\n",
       "    <tr style=\"text-align: right;\">\n",
       "      <th></th>\n",
       "      <th>old_index</th>\n",
       "      <th>age</th>\n",
       "      <th>occupation</th>\n",
       "      <th>income_granular</th>\n",
       "      <th>hours</th>\n",
       "      <th>occs_summary</th>\n",
       "      <th>income_impute</th>\n",
       "    </tr>\n",
       "  </thead>\n",
       "  <tbody>\n",
       "    <tr>\n",
       "      <th>0</th>\n",
       "      <td>0</td>\n",
       "      <td>22</td>\n",
       "      <td>4800</td>\n",
       "      <td>0</td>\n",
       "      <td>15.0</td>\n",
       "      <td>sales</td>\n",
       "      <td>NaN</td>\n",
       "    </tr>\n",
       "    <tr>\n",
       "      <th>1</th>\n",
       "      <td>1</td>\n",
       "      <td>21</td>\n",
       "      <td>2900</td>\n",
       "      <td>0</td>\n",
       "      <td>30.0</td>\n",
       "      <td>arts</td>\n",
       "      <td>NaN</td>\n",
       "    </tr>\n",
       "    <tr>\n",
       "      <th>2</th>\n",
       "      <td>3</td>\n",
       "      <td>49</td>\n",
       "      <td>800</td>\n",
       "      <td>0</td>\n",
       "      <td>NaN</td>\n",
       "      <td>business</td>\n",
       "      <td>NaN</td>\n",
       "    </tr>\n",
       "    <tr>\n",
       "      <th>3</th>\n",
       "      <td>4</td>\n",
       "      <td>70</td>\n",
       "      <td>3800</td>\n",
       "      <td>0</td>\n",
       "      <td>NaN</td>\n",
       "      <td>protective_services</td>\n",
       "      <td>NaN</td>\n",
       "    </tr>\n",
       "    <tr>\n",
       "      <th>4</th>\n",
       "      <td>5</td>\n",
       "      <td>50</td>\n",
       "      <td>1300</td>\n",
       "      <td>0</td>\n",
       "      <td>NaN</td>\n",
       "      <td>engineering</td>\n",
       "      <td>NaN</td>\n",
       "    </tr>\n",
       "  </tbody>\n",
       "</table>\n",
       "</div>"
      ],
      "text/plain": [
       "   old_index  age  occupation  income_granular  hours         occs_summary  \\\n",
       "0          0   22        4800                0   15.0                sales   \n",
       "1          1   21        2900                0   30.0                 arts   \n",
       "2          3   49         800                0    NaN             business   \n",
       "3          4   70        3800                0    NaN  protective_services   \n",
       "4          5   50        1300                0    NaN          engineering   \n",
       "\n",
       "   income_impute  \n",
       "0            NaN  \n",
       "1            NaN  \n",
       "2            NaN  \n",
       "3            NaN  \n",
       "4            NaN  "
      ]
     },
     "execution_count": 34,
     "metadata": {},
     "output_type": "execute_result"
    }
   ],
   "source": [
    "gss_income_impute.head()"
   ]
  },
  {
   "cell_type": "code",
   "execution_count": 35,
   "metadata": {
    "scrolled": true
   },
   "outputs": [
    {
     "data": {
      "text/plain": [
       "False    2468\n",
       "True      364\n",
       "Name: income_per_hourwk, dtype: int64"
      ]
     },
     "execution_count": 35,
     "metadata": {},
     "output_type": "execute_result"
    }
   ],
   "source": [
    "gss_income_complete.income_per_hourwk.isnull().value_counts()"
   ]
  },
  {
   "cell_type": "code",
   "execution_count": 36,
   "metadata": {},
   "outputs": [
    {
     "data": {
      "text/html": [
       "<div>\n",
       "<style scoped>\n",
       "    .dataframe tbody tr th:only-of-type {\n",
       "        vertical-align: middle;\n",
       "    }\n",
       "\n",
       "    .dataframe tbody tr th {\n",
       "        vertical-align: top;\n",
       "    }\n",
       "\n",
       "    .dataframe thead th {\n",
       "        text-align: right;\n",
       "    }\n",
       "</style>\n",
       "<table border=\"1\" class=\"dataframe\">\n",
       "  <thead>\n",
       "    <tr style=\"text-align: right;\">\n",
       "      <th></th>\n",
       "      <th>occupation</th>\n",
       "    </tr>\n",
       "  </thead>\n",
       "  <tbody>\n",
       "    <tr>\n",
       "      <th>4760</th>\n",
       "      <td>65</td>\n",
       "    </tr>\n",
       "    <tr>\n",
       "      <th>430</th>\n",
       "      <td>65</td>\n",
       "    </tr>\n",
       "    <tr>\n",
       "      <th>4220</th>\n",
       "      <td>65</td>\n",
       "    </tr>\n",
       "    <tr>\n",
       "      <th>3255</th>\n",
       "      <td>63</td>\n",
       "    </tr>\n",
       "    <tr>\n",
       "      <th>5700</th>\n",
       "      <td>62</td>\n",
       "    </tr>\n",
       "  </tbody>\n",
       "</table>\n",
       "</div>"
      ],
      "text/plain": [
       "      occupation\n",
       "4760          65\n",
       "430           65\n",
       "4220          65\n",
       "3255          63\n",
       "5700          62"
      ]
     },
     "execution_count": 36,
     "metadata": {},
     "output_type": "execute_result"
    }
   ],
   "source": [
    "occ_counts = pd.DataFrame(gss_income_complete['occupation'].value_counts())\n",
    "occ_counts.head()"
   ]
  },
  {
   "cell_type": "code",
   "execution_count": 37,
   "metadata": {},
   "outputs": [
    {
     "data": {
      "text/html": [
       "<div>\n",
       "<style scoped>\n",
       "    .dataframe tbody tr th:only-of-type {\n",
       "        vertical-align: middle;\n",
       "    }\n",
       "\n",
       "    .dataframe tbody tr th {\n",
       "        vertical-align: top;\n",
       "    }\n",
       "\n",
       "    .dataframe thead th {\n",
       "        text-align: right;\n",
       "    }\n",
       "</style>\n",
       "<table border=\"1\" class=\"dataframe\">\n",
       "  <thead>\n",
       "    <tr style=\"text-align: right;\">\n",
       "      <th></th>\n",
       "      <th>age</th>\n",
       "      <th>occupation</th>\n",
       "      <th>counts</th>\n",
       "      <th>age_occ</th>\n",
       "    </tr>\n",
       "  </thead>\n",
       "  <tbody>\n",
       "    <tr>\n",
       "      <th>0</th>\n",
       "      <td>18</td>\n",
       "      <td>4050</td>\n",
       "      <td>1</td>\n",
       "      <td>18_4050</td>\n",
       "    </tr>\n",
       "    <tr>\n",
       "      <th>1</th>\n",
       "      <td>18</td>\n",
       "      <td>4610</td>\n",
       "      <td>1</td>\n",
       "      <td>18_4610</td>\n",
       "    </tr>\n",
       "    <tr>\n",
       "      <th>2</th>\n",
       "      <td>18</td>\n",
       "      <td>5240</td>\n",
       "      <td>1</td>\n",
       "      <td>18_5240</td>\n",
       "    </tr>\n",
       "    <tr>\n",
       "      <th>3</th>\n",
       "      <td>18</td>\n",
       "      <td>5400</td>\n",
       "      <td>1</td>\n",
       "      <td>18_5400</td>\n",
       "    </tr>\n",
       "    <tr>\n",
       "      <th>4</th>\n",
       "      <td>18</td>\n",
       "      <td>7630</td>\n",
       "      <td>1</td>\n",
       "      <td>18_7630</td>\n",
       "    </tr>\n",
       "  </tbody>\n",
       "</table>\n",
       "</div>"
      ],
      "text/plain": [
       "   age  occupation  counts  age_occ\n",
       "0   18        4050       1  18_4050\n",
       "1   18        4610       1  18_4610\n",
       "2   18        5240       1  18_5240\n",
       "3   18        5400       1  18_5400\n",
       "4   18        7630       1  18_7630"
      ]
     },
     "execution_count": 37,
     "metadata": {},
     "output_type": "execute_result"
    }
   ],
   "source": [
    "occ_counts_age = pd.DataFrame(gss_income_complete.groupby(['age'])['occupation'].value_counts())\n",
    "occ_counts_age.columns = ['counts']\n",
    "occ_counts_age.reset_index(inplace=True)\n",
    "occ_counts_age['age_occ'] = occ_counts_age['age'].astype('str') +'_'+ occ_counts_age['occupation'].astype('str')\n",
    "occ_counts_age.head()"
   ]
  },
  {
   "cell_type": "code",
   "execution_count": 38,
   "metadata": {},
   "outputs": [
    {
     "data": {
      "text/html": [
       "<div>\n",
       "<style scoped>\n",
       "    .dataframe tbody tr th:only-of-type {\n",
       "        vertical-align: middle;\n",
       "    }\n",
       "\n",
       "    .dataframe tbody tr th {\n",
       "        vertical-align: top;\n",
       "    }\n",
       "\n",
       "    .dataframe thead th {\n",
       "        text-align: right;\n",
       "    }\n",
       "</style>\n",
       "<table border=\"1\" class=\"dataframe\">\n",
       "  <thead>\n",
       "    <tr style=\"text-align: right;\">\n",
       "      <th></th>\n",
       "      <th>old_index</th>\n",
       "      <th>age</th>\n",
       "      <th>occupation</th>\n",
       "      <th>income_granular</th>\n",
       "      <th>hours</th>\n",
       "      <th>occs_summary</th>\n",
       "      <th>income_impute</th>\n",
       "      <th>same_job</th>\n",
       "    </tr>\n",
       "  </thead>\n",
       "  <tbody>\n",
       "    <tr>\n",
       "      <th>0</th>\n",
       "      <td>0</td>\n",
       "      <td>22</td>\n",
       "      <td>4800</td>\n",
       "      <td>0</td>\n",
       "      <td>15.0</td>\n",
       "      <td>sales</td>\n",
       "      <td>NaN</td>\n",
       "      <td>True</td>\n",
       "    </tr>\n",
       "    <tr>\n",
       "      <th>1</th>\n",
       "      <td>1</td>\n",
       "      <td>21</td>\n",
       "      <td>2900</td>\n",
       "      <td>0</td>\n",
       "      <td>30.0</td>\n",
       "      <td>arts</td>\n",
       "      <td>NaN</td>\n",
       "      <td>True</td>\n",
       "    </tr>\n",
       "    <tr>\n",
       "      <th>2</th>\n",
       "      <td>3</td>\n",
       "      <td>49</td>\n",
       "      <td>800</td>\n",
       "      <td>0</td>\n",
       "      <td>NaN</td>\n",
       "      <td>business</td>\n",
       "      <td>NaN</td>\n",
       "      <td>True</td>\n",
       "    </tr>\n",
       "    <tr>\n",
       "      <th>3</th>\n",
       "      <td>4</td>\n",
       "      <td>70</td>\n",
       "      <td>3800</td>\n",
       "      <td>0</td>\n",
       "      <td>NaN</td>\n",
       "      <td>protective_services</td>\n",
       "      <td>NaN</td>\n",
       "      <td>True</td>\n",
       "    </tr>\n",
       "    <tr>\n",
       "      <th>4</th>\n",
       "      <td>5</td>\n",
       "      <td>50</td>\n",
       "      <td>1300</td>\n",
       "      <td>0</td>\n",
       "      <td>NaN</td>\n",
       "      <td>engineering</td>\n",
       "      <td>NaN</td>\n",
       "      <td>True</td>\n",
       "    </tr>\n",
       "    <tr>\n",
       "      <th>5</th>\n",
       "      <td>6</td>\n",
       "      <td>35</td>\n",
       "      <td>4760</td>\n",
       "      <td>0</td>\n",
       "      <td>NaN</td>\n",
       "      <td>sales</td>\n",
       "      <td>NaN</td>\n",
       "      <td>True</td>\n",
       "    </tr>\n",
       "    <tr>\n",
       "      <th>6</th>\n",
       "      <td>7</td>\n",
       "      <td>24</td>\n",
       "      <td>0</td>\n",
       "      <td>0</td>\n",
       "      <td>NaN</td>\n",
       "      <td>none</td>\n",
       "      <td>NaN</td>\n",
       "      <td>NaN</td>\n",
       "    </tr>\n",
       "    <tr>\n",
       "      <th>7</th>\n",
       "      <td>8</td>\n",
       "      <td>28</td>\n",
       "      <td>0</td>\n",
       "      <td>0</td>\n",
       "      <td>NaN</td>\n",
       "      <td>none</td>\n",
       "      <td>NaN</td>\n",
       "      <td>NaN</td>\n",
       "    </tr>\n",
       "    <tr>\n",
       "      <th>8</th>\n",
       "      <td>10</td>\n",
       "      <td>55</td>\n",
       "      <td>6200</td>\n",
       "      <td>0</td>\n",
       "      <td>NaN</td>\n",
       "      <td>construction</td>\n",
       "      <td>NaN</td>\n",
       "      <td>True</td>\n",
       "    </tr>\n",
       "    <tr>\n",
       "      <th>9</th>\n",
       "      <td>12</td>\n",
       "      <td>28</td>\n",
       "      <td>0</td>\n",
       "      <td>0</td>\n",
       "      <td>NaN</td>\n",
       "      <td>none</td>\n",
       "      <td>NaN</td>\n",
       "      <td>NaN</td>\n",
       "    </tr>\n",
       "  </tbody>\n",
       "</table>\n",
       "</div>"
      ],
      "text/plain": [
       "   old_index  age  occupation  income_granular  hours         occs_summary  \\\n",
       "0          0   22        4800                0   15.0                sales   \n",
       "1          1   21        2900                0   30.0                 arts   \n",
       "2          3   49         800                0    NaN             business   \n",
       "3          4   70        3800                0    NaN  protective_services   \n",
       "4          5   50        1300                0    NaN          engineering   \n",
       "5          6   35        4760                0    NaN                sales   \n",
       "6          7   24           0                0    NaN                 none   \n",
       "7          8   28           0                0    NaN                 none   \n",
       "8         10   55        6200                0    NaN         construction   \n",
       "9         12   28           0                0    NaN                 none   \n",
       "\n",
       "   income_impute same_job  \n",
       "0            NaN     True  \n",
       "1            NaN     True  \n",
       "2            NaN     True  \n",
       "3            NaN     True  \n",
       "4            NaN     True  \n",
       "5            NaN     True  \n",
       "6            NaN      NaN  \n",
       "7            NaN      NaN  \n",
       "8            NaN     True  \n",
       "9            NaN      NaN  "
      ]
     },
     "execution_count": 38,
     "metadata": {},
     "output_type": "execute_result"
    }
   ],
   "source": [
    "## Is there someone with same job?\n",
    "\n",
    "gss_income_impute['same_job'] = np.nan\n",
    "\n",
    "for row in np.arange(0, len(gss_income_impute)):\n",
    "    try:\n",
    "        if(occ_counts.loc[gss_income_impute.loc[row, 'occupation'], ].item() > 0):\n",
    "            gss_income_impute.loc[row, 'same_job'] = True\n",
    "    except KeyError:\n",
    "        continue\n",
    "    \n",
    "gss_income_impute.head(10)"
   ]
  },
  {
   "cell_type": "code",
   "execution_count": 39,
   "metadata": {},
   "outputs": [],
   "source": [
    "## Now do same job and same age\n",
    "\n",
    "gss_income_impute['same_age_and_job'] = np.nan\n",
    "\n",
    "for row in np.arange(0, len(gss_income_impute)):\n",
    "    row_ind = gss_income_impute.loc[row, 'age'].astype('str') + '_' + gss_income_impute.loc[row, 'occupation'].astype('str')\n",
    "    if(occ_counts_age.loc[occ_counts_age['age_occ'] == row_ind, 'counts'].empty):\n",
    "        continue\n",
    "    elif(occ_counts_age.loc[occ_counts_age['age_occ'] == row_ind, 'counts'].item() > 0):\n",
    "        gss_income_impute.loc[row, 'same_age_and_job'] = True"
   ]
  },
  {
   "cell_type": "code",
   "execution_count": 40,
   "metadata": {},
   "outputs": [
    {
     "data": {
      "text/plain": [
       "441"
      ]
     },
     "execution_count": 40,
     "metadata": {},
     "output_type": "execute_result"
    }
   ],
   "source": [
    "len(gss_income_impute.loc[gss_income_impute['same_age_and_job'] == True])"
   ]
  },
  {
   "cell_type": "code",
   "execution_count": 41,
   "metadata": {},
   "outputs": [],
   "source": [
    "## Now do same job and similar age (+/- 3 years)\n",
    "\n",
    "gss_income_impute['sim_age_same_job'] = np.nan\n",
    "\n",
    "for row in np.arange(2, len(gss_income_impute)):\n",
    "    for age in np.arange(gss_income_impute.loc[row, 'age'].item() - 3, gss_income_impute.loc[row, 'age'].item() + 4):\n",
    "        if(gss_income_impute.loc[row, 'sim_age_same_job'] == True):\n",
    "            continue\n",
    "        else:\n",
    "            row_ind = age.astype('str') + '_' + gss_income_impute.loc[row, 'occupation'].astype('str')\n",
    "            if(occ_counts_age.loc[occ_counts_age['age_occ'] == row_ind, 'counts'].empty):\n",
    "                continue\n",
    "            elif(occ_counts_age.loc[occ_counts_age['age_occ'] == row_ind, 'counts'].item() > 0):\n",
    "                gss_income_impute.loc[row, 'sim_age_same_job'] = True\n",
    "\n",
    "## Now do same job and similar age but +/- 10 years\n",
    "\n",
    "gss_income_impute['sim_age_same_job_20'] = np.nan\n",
    "\n",
    "for row in np.arange(2, len(gss_income_impute)):\n",
    "    for age in np.arange(gss_income_impute.loc[row, 'age'].item() - 10, gss_income_impute.loc[row, 'age'].item() + 11):\n",
    "        if(gss_income_impute.loc[row, 'sim_age_same_job_20'] == True):\n",
    "            continue\n",
    "        else:\n",
    "            row_ind = age.astype('str') + '_' + gss_income_impute.loc[row, 'occupation'].astype('str')\n",
    "            if(occ_counts_age.loc[occ_counts_age['age_occ'] == row_ind, 'counts'].empty):\n",
    "                continue\n",
    "            elif(occ_counts_age.loc[occ_counts_age['age_occ'] == row_ind, 'counts'].item() > 0):\n",
    "                gss_income_impute.loc[row, 'sim_age_same_job'] = True"
   ]
  },
  {
   "cell_type": "code",
   "execution_count": 42,
   "metadata": {},
   "outputs": [
    {
     "name": "stdout",
     "output_type": "stream",
     "text": [
      "(1391, 11)\n"
     ]
    },
    {
     "data": {
      "text/html": [
       "<div>\n",
       "<style scoped>\n",
       "    .dataframe tbody tr th:only-of-type {\n",
       "        vertical-align: middle;\n",
       "    }\n",
       "\n",
       "    .dataframe tbody tr th {\n",
       "        vertical-align: top;\n",
       "    }\n",
       "\n",
       "    .dataframe thead th {\n",
       "        text-align: right;\n",
       "    }\n",
       "</style>\n",
       "<table border=\"1\" class=\"dataframe\">\n",
       "  <thead>\n",
       "    <tr style=\"text-align: right;\">\n",
       "      <th></th>\n",
       "      <th>old_index</th>\n",
       "      <th>age</th>\n",
       "      <th>occupation</th>\n",
       "      <th>income_granular</th>\n",
       "      <th>hours</th>\n",
       "      <th>occs_summary</th>\n",
       "      <th>income_impute</th>\n",
       "      <th>same_job</th>\n",
       "      <th>same_age_and_job</th>\n",
       "      <th>sim_age_same_job</th>\n",
       "      <th>sim_age_same_job_20</th>\n",
       "    </tr>\n",
       "  </thead>\n",
       "  <tbody>\n",
       "    <tr>\n",
       "      <th>324</th>\n",
       "      <td>811</td>\n",
       "      <td>72</td>\n",
       "      <td>4020</td>\n",
       "      <td>0</td>\n",
       "      <td>NaN</td>\n",
       "      <td>food_prep_serving</td>\n",
       "      <td>NaN</td>\n",
       "      <td>True</td>\n",
       "      <td>NaN</td>\n",
       "      <td>True</td>\n",
       "      <td>NaN</td>\n",
       "    </tr>\n",
       "    <tr>\n",
       "      <th>438</th>\n",
       "      <td>1106</td>\n",
       "      <td>23</td>\n",
       "      <td>4020</td>\n",
       "      <td>0</td>\n",
       "      <td>20.0</td>\n",
       "      <td>food_prep_serving</td>\n",
       "      <td>NaN</td>\n",
       "      <td>True</td>\n",
       "      <td>True</td>\n",
       "      <td>True</td>\n",
       "      <td>NaN</td>\n",
       "    </tr>\n",
       "    <tr>\n",
       "      <th>510</th>\n",
       "      <td>1256</td>\n",
       "      <td>29</td>\n",
       "      <td>4020</td>\n",
       "      <td>0</td>\n",
       "      <td>25.0</td>\n",
       "      <td>food_prep_serving</td>\n",
       "      <td>NaN</td>\n",
       "      <td>True</td>\n",
       "      <td>True</td>\n",
       "      <td>True</td>\n",
       "      <td>NaN</td>\n",
       "    </tr>\n",
       "    <tr>\n",
       "      <th>526</th>\n",
       "      <td>1285</td>\n",
       "      <td>22</td>\n",
       "      <td>4020</td>\n",
       "      <td>0</td>\n",
       "      <td>NaN</td>\n",
       "      <td>food_prep_serving</td>\n",
       "      <td>NaN</td>\n",
       "      <td>True</td>\n",
       "      <td>True</td>\n",
       "      <td>True</td>\n",
       "      <td>NaN</td>\n",
       "    </tr>\n",
       "    <tr>\n",
       "      <th>577</th>\n",
       "      <td>1418</td>\n",
       "      <td>33</td>\n",
       "      <td>4020</td>\n",
       "      <td>0</td>\n",
       "      <td>NaN</td>\n",
       "      <td>food_prep_serving</td>\n",
       "      <td>NaN</td>\n",
       "      <td>True</td>\n",
       "      <td>NaN</td>\n",
       "      <td>True</td>\n",
       "      <td>NaN</td>\n",
       "    </tr>\n",
       "  </tbody>\n",
       "</table>\n",
       "</div>"
      ],
      "text/plain": [
       "     old_index  age  occupation  income_granular  hours       occs_summary  \\\n",
       "324        811   72        4020                0    NaN  food_prep_serving   \n",
       "438       1106   23        4020                0   20.0  food_prep_serving   \n",
       "510       1256   29        4020                0   25.0  food_prep_serving   \n",
       "526       1285   22        4020                0    NaN  food_prep_serving   \n",
       "577       1418   33        4020                0    NaN  food_prep_serving   \n",
       "\n",
       "     income_impute same_job same_age_and_job sim_age_same_job  \\\n",
       "324            NaN     True              NaN             True   \n",
       "438            NaN     True             True             True   \n",
       "510            NaN     True             True             True   \n",
       "526            NaN     True             True             True   \n",
       "577            NaN     True              NaN             True   \n",
       "\n",
       "     sim_age_same_job_20  \n",
       "324                  NaN  \n",
       "438                  NaN  \n",
       "510                  NaN  \n",
       "526                  NaN  \n",
       "577                  NaN  "
      ]
     },
     "execution_count": 42,
     "metadata": {},
     "output_type": "execute_result"
    }
   ],
   "source": [
    "print(gss_income_impute.loc[gss_income_impute['sim_age_same_job']==True,].shape)\n",
    "gss_income_impute.loc[gss_income_impute['occupation'] == 4020, ].head()"
   ]
  },
  {
   "cell_type": "code",
   "execution_count": 43,
   "metadata": {},
   "outputs": [
    {
     "name": "stderr",
     "output_type": "stream",
     "text": [
      "/usr/local/lib/python3.7/site-packages/ipykernel_launcher.py:20: SettingWithCopyWarning: \n",
      "A value is trying to be set on a copy of a slice from a DataFrame\n",
      "\n",
      "See the caveats in the documentation: http://pandas.pydata.org/pandas-docs/stable/indexing.html#indexing-view-versus-copy\n",
      "/usr/local/lib/python3.7/site-packages/ipykernel_launcher.py:36: SettingWithCopyWarning: \n",
      "A value is trying to be set on a copy of a slice from a DataFrame\n",
      "\n",
      "See the caveats in the documentation: http://pandas.pydata.org/pandas-docs/stable/indexing.html#indexing-view-versus-copy\n",
      "/usr/local/lib/python3.7/site-packages/ipykernel_launcher.py:67: SettingWithCopyWarning: \n",
      "A value is trying to be set on a copy of a slice from a DataFrame\n",
      "\n",
      "See the caveats in the documentation: http://pandas.pydata.org/pandas-docs/stable/indexing.html#indexing-view-versus-copy\n",
      "/usr/local/lib/python3.7/site-packages/ipykernel_launcher.py:91: SettingWithCopyWarning: \n",
      "A value is trying to be set on a copy of a slice from a DataFrame\n",
      "\n",
      "See the caveats in the documentation: http://pandas.pydata.org/pandas-docs/stable/indexing.html#indexing-view-versus-copy\n"
     ]
    }
   ],
   "source": [
    "## Imputing the income\n",
    "\n",
    "gss_income_impute['income_impute'] = np.nan\n",
    "\n",
    "## 9810 is first line enlisted military supervisors - lots missing\n",
    "## Average salary is $63,738 : https://datausa.io/profile/soc/552010/\n",
    "## Code as $67,500 as within that band\n",
    "gss_income_impute.loc[gss_income_impute['occupation'] == 9810, 'income_impute'] = 67500\n",
    "\n",
    "## If no hours then zero pay\n",
    "gss_income_impute.loc[gss_income_impute['occupation'].isin([0, 9999]), 'income_impute'] = 0\n",
    "\n",
    "## If same age and job then same income, weighted by hours\n",
    "for row in np.arange(2, len(gss_income_impute)):\n",
    "    if (np.isnan(gss_income_impute.loc[row, 'income_impute'])):\n",
    "        age = gss_income_impute.loc[row, 'age'].item()\n",
    "        occ = gss_income_impute.loc[row, 'occupation'].item()\n",
    "        if(gss_income_impute.loc[row, 'same_age_and_job'] == True):\n",
    "            replicate_df = gss_income_complete.loc[(gss_income_complete['age'] == age) & (gss_income_complete['occupation'] == occ), ]\n",
    "            replicate_df.dropna(subset=['hours'], inplace=True)\n",
    "            av_income_per_hourwk = replicate_df['income_per_hourwk'].mean()\n",
    "            av_hours = replicate_df['hours'].mean()\n",
    "            if(np.isnan(gss_income_impute.loc[row, 'hours'])):\n",
    "                gss_income_impute.loc[row, 'income_impute'] = av_income_per_hourwk * av_hours\n",
    "            else:\n",
    "                gss_income_impute.loc[row, 'income_impute'] = av_income_per_hourwk * gss_income_impute.loc[row, 'hours'].item()\n",
    "\n",
    "\n",
    "## If similar age and same job then same income, weighted by hours\n",
    "for row in np.arange(0, len(gss_income_impute)):\n",
    "    if(np.isnan(gss_income_impute.loc[row, 'income_impute'])):\n",
    "        ages = np.arange(gss_income_impute.loc[row, 'age'].item() - 3, gss_income_impute.loc[row, 'age'].item() +4)\n",
    "        occ = gss_income_impute.loc[row, 'occupation'].item()\n",
    "        if(gss_income_impute.loc[row, 'sim_age_same_job'] == True):\n",
    "            replicate_df = gss_income_complete.loc[(gss_income_complete['age'].isin(ages)) & (gss_income_complete['occupation'] == occ), ]\n",
    "            replicate_df.dropna(subset=['hours'], inplace=True)\n",
    "            av_income_per_hourwk = replicate_df['income_per_hourwk'].mean()\n",
    "            av_hours = replicate_df['hours'].mean()\n",
    "            if(np.isnan(gss_income_impute.loc[row, 'hours'])):\n",
    "                gss_income_impute.loc[row, 'income_impute'] = av_income_per_hourwk * av_hours\n",
    "            else:\n",
    "                gss_income_impute.loc[row, 'income_impute'] = av_income_per_hourwk * gss_income_impute.loc[row, 'hours'].item()\n",
    "\n",
    "                \n",
    "## If age within 20 yrs and same job then same income, weighted by hours\n",
    "for row in np.arange(0, len(gss_income_impute)):\n",
    "    if(np.isnan(gss_income_impute.loc[row, 'income_impute'])):\n",
    "        ages = np.arange(gss_income_impute.loc[row, 'age'].item() - 10, gss_income_impute.loc[row, 'age'].item() +11)\n",
    "        occ = gss_income_impute.loc[row, 'occupation'].item()\n",
    "        if(gss_income_impute.loc[row, 'sim_age_same_job_20'] == True):\n",
    "            replicate_df = gss_income_complete.loc[(gss_income_complete['age'].isin(ages)) & (gss_income_complete['occupation'] == occ), ]\n",
    "            replicate_df.dropna(subset=['hours'], inplace=True)\n",
    "            av_income_per_hourwk = replicate_df['income_per_hourwk'].mean()\n",
    "            av_hours = replicate_df['hours'].mean()\n",
    "            if(np.isnan(gss_income_impute.loc[row, 'hours'])):\n",
    "                gss_income_impute.loc[row, 'income_impute'] = av_income_per_hourwk * av_hours\n",
    "            else:\n",
    "                gss_income_impute.loc[row, 'income_impute'] = av_income_per_hourwk * gss_income_impute.loc[row, 'hours'].item()\n",
    "\n",
    "                \n",
    "## If same job then same income, weighted by hours\n",
    "for row in np.arange(0, len(gss_income_impute)):\n",
    "    if(np.isnan(gss_income_impute.loc[row, 'income_impute'])):\n",
    "        occ = gss_income_impute.loc[row, 'occupation'].item()\n",
    "        if(gss_income_impute.loc[row, 'same_job'] == True):\n",
    "            replicate_df = gss_income_complete.loc[gss_income_complete['occupation'] == occ, ]\n",
    "            replicate_df.dropna(subset=['hours'], inplace=True)\n",
    "            av_income_per_hourwk = replicate_df['income_per_hourwk'].mean()\n",
    "            av_hours = replicate_df['hours'].mean()\n",
    "            if(np.isnan(gss_income_impute.loc[row, 'hours'])):\n",
    "                gss_income_impute.loc[row, 'income_impute'] = av_income_per_hourwk * av_hours\n",
    "            else:\n",
    "                gss_income_impute.loc[row, 'income_impute'] = av_income_per_hourwk * gss_income_impute.loc[row, 'hours'].item()\n",
    "\n",
    "                \n",
    "## If same job then same income, unable to weight by hours\n",
    "for row in np.arange(0, len(gss_income_impute)):\n",
    "    if(np.isnan(gss_income_impute.loc[row, 'income_impute'])):\n",
    "        occ = gss_income_impute.loc[row, 'occupation'].item()\n",
    "        if(gss_income_impute.loc[row, 'same_job'] == True):\n",
    "            replicate_df = gss_income_complete.loc[gss_income_complete['occupation'] == occ, ]\n",
    "            av_income = replicate_df['income_granular'].mean()\n",
    "            gss_income_impute.loc[row, 'income_impute'] = av_income\n",
    "\n",
    "            \n",
    "## If same industry then same mean income, weighted by hours\n",
    "for row in np.arange(0, len(gss_income_impute)):\n",
    "    if(np.isnan(gss_income_impute.loc[row, 'income_impute'].item())):\n",
    "        industry = gss_income_impute.loc[row, 'occs_summary']\n",
    "        replicate_df = gss_income_complete.loc[gss_income_complete['occs_summary'] == industry, ]\n",
    "        replicate_df.dropna(subset=['hours'], inplace=True)\n",
    "        av_income_per_hourwk = replicate_df['income_per_hourwk'].mean()\n",
    "        av_hours = replicate_df['hours'].mean()\n",
    "        if (np.isnan(gss_income_impute.loc[row, 'hours'])):\n",
    "            gss_income_impute.loc[row, 'income_impute'] = av_income_per_hourwk * av_hours\n",
    "        else:\n",
    "            gss_income_impute.loc[row, 'income_impute'] = av_income_per_hourwk * gss_income_impute.loc[row, 'hours'].item()\n"
   ]
  },
  {
   "cell_type": "code",
   "execution_count": 44,
   "metadata": {
    "scrolled": true
   },
   "outputs": [
    {
     "data": {
      "text/plain": [
       "0"
      ]
     },
     "execution_count": 44,
     "metadata": {},
     "output_type": "execute_result"
    }
   ],
   "source": [
    "len(gss_income_impute.loc[gss_income_impute['income_impute'].isnull(),])"
   ]
  },
  {
   "cell_type": "code",
   "execution_count": 45,
   "metadata": {},
   "outputs": [
    {
     "data": {
      "text/html": [
       "<div>\n",
       "<style scoped>\n",
       "    .dataframe tbody tr th:only-of-type {\n",
       "        vertical-align: middle;\n",
       "    }\n",
       "\n",
       "    .dataframe tbody tr th {\n",
       "        vertical-align: top;\n",
       "    }\n",
       "\n",
       "    .dataframe thead th {\n",
       "        text-align: right;\n",
       "    }\n",
       "</style>\n",
       "<table border=\"1\" class=\"dataframe\">\n",
       "  <thead>\n",
       "    <tr style=\"text-align: right;\">\n",
       "      <th></th>\n",
       "      <th>old_index</th>\n",
       "      <th>age</th>\n",
       "      <th>occupation</th>\n",
       "      <th>income_granular</th>\n",
       "      <th>hours</th>\n",
       "      <th>occs_summary</th>\n",
       "      <th>income_impute</th>\n",
       "      <th>same_job</th>\n",
       "      <th>same_age_and_job</th>\n",
       "      <th>sim_age_same_job</th>\n",
       "      <th>sim_age_same_job_20</th>\n",
       "    </tr>\n",
       "  </thead>\n",
       "  <tbody>\n",
       "    <tr>\n",
       "      <th>0</th>\n",
       "      <td>0</td>\n",
       "      <td>22</td>\n",
       "      <td>4800</td>\n",
       "      <td>0</td>\n",
       "      <td>15.0</td>\n",
       "      <td>sales</td>\n",
       "      <td>21207.724567</td>\n",
       "      <td>True</td>\n",
       "      <td>NaN</td>\n",
       "      <td>NaN</td>\n",
       "      <td>NaN</td>\n",
       "    </tr>\n",
       "    <tr>\n",
       "      <th>1</th>\n",
       "      <td>1</td>\n",
       "      <td>21</td>\n",
       "      <td>2900</td>\n",
       "      <td>0</td>\n",
       "      <td>30.0</td>\n",
       "      <td>arts</td>\n",
       "      <td>50510.204082</td>\n",
       "      <td>True</td>\n",
       "      <td>NaN</td>\n",
       "      <td>NaN</td>\n",
       "      <td>NaN</td>\n",
       "    </tr>\n",
       "    <tr>\n",
       "      <th>2</th>\n",
       "      <td>3</td>\n",
       "      <td>49</td>\n",
       "      <td>800</td>\n",
       "      <td>0</td>\n",
       "      <td>NaN</td>\n",
       "      <td>business</td>\n",
       "      <td>67500.000000</td>\n",
       "      <td>True</td>\n",
       "      <td>True</td>\n",
       "      <td>True</td>\n",
       "      <td>NaN</td>\n",
       "    </tr>\n",
       "    <tr>\n",
       "      <th>3</th>\n",
       "      <td>4</td>\n",
       "      <td>70</td>\n",
       "      <td>3800</td>\n",
       "      <td>0</td>\n",
       "      <td>NaN</td>\n",
       "      <td>protective_services</td>\n",
       "      <td>40505.032206</td>\n",
       "      <td>True</td>\n",
       "      <td>NaN</td>\n",
       "      <td>NaN</td>\n",
       "      <td>NaN</td>\n",
       "    </tr>\n",
       "    <tr>\n",
       "      <th>4</th>\n",
       "      <td>5</td>\n",
       "      <td>50</td>\n",
       "      <td>1300</td>\n",
       "      <td>0</td>\n",
       "      <td>NaN</td>\n",
       "      <td>engineering</td>\n",
       "      <td>100000.000000</td>\n",
       "      <td>True</td>\n",
       "      <td>NaN</td>\n",
       "      <td>True</td>\n",
       "      <td>NaN</td>\n",
       "    </tr>\n",
       "  </tbody>\n",
       "</table>\n",
       "</div>"
      ],
      "text/plain": [
       "   old_index  age  occupation  income_granular  hours         occs_summary  \\\n",
       "0          0   22        4800                0   15.0                sales   \n",
       "1          1   21        2900                0   30.0                 arts   \n",
       "2          3   49         800                0    NaN             business   \n",
       "3          4   70        3800                0    NaN  protective_services   \n",
       "4          5   50        1300                0    NaN          engineering   \n",
       "\n",
       "   income_impute same_job same_age_and_job sim_age_same_job  \\\n",
       "0   21207.724567     True              NaN              NaN   \n",
       "1   50510.204082     True              NaN              NaN   \n",
       "2   67500.000000     True             True             True   \n",
       "3   40505.032206     True              NaN              NaN   \n",
       "4  100000.000000     True              NaN             True   \n",
       "\n",
       "   sim_age_same_job_20  \n",
       "0                  NaN  \n",
       "1                  NaN  \n",
       "2                  NaN  \n",
       "3                  NaN  \n",
       "4                  NaN  "
      ]
     },
     "execution_count": 45,
     "metadata": {},
     "output_type": "execute_result"
    }
   ],
   "source": [
    "gss_income_impute.head()"
   ]
  },
  {
   "cell_type": "code",
   "execution_count": 46,
   "metadata": {},
   "outputs": [],
   "source": [
    "gss_select['imputed_income'] = np.nan\n",
    "\n",
    "for row in np.arange(0, len(gss_select)):\n",
    "    if (gss_select.iloc[gss_select.index == row, ].index.item() in gss_income_impute['old_index'].values):\n",
    "        gss_select.loc[row, 'imputed_income'] = gss_income_impute.loc[gss_income_impute['old_index'] == row, 'income_impute'].item()\n",
    "    else:\n",
    "        gss_select.loc[row, 'imputed_income'] = gss_income_complete.loc[gss_income_complete['old_index'] == row, 'income_granular'].item()"
   ]
  },
  {
   "cell_type": "code",
   "execution_count": 47,
   "metadata": {},
   "outputs": [
    {
     "data": {
      "text/html": [
       "<div>\n",
       "<style scoped>\n",
       "    .dataframe tbody tr th:only-of-type {\n",
       "        vertical-align: middle;\n",
       "    }\n",
       "\n",
       "    .dataframe tbody tr th {\n",
       "        vertical-align: top;\n",
       "    }\n",
       "\n",
       "    .dataframe thead th {\n",
       "        text-align: right;\n",
       "    }\n",
       "</style>\n",
       "<table border=\"1\" class=\"dataframe\">\n",
       "  <thead>\n",
       "    <tr style=\"text-align: right;\">\n",
       "      <th></th>\n",
       "      <th>age</th>\n",
       "      <th>yob</th>\n",
       "      <th>sex</th>\n",
       "      <th>race</th>\n",
       "      <th>siblings</th>\n",
       "      <th>region</th>\n",
       "      <th>place_size_000s</th>\n",
       "      <th>place_size</th>\n",
       "      <th>beltcode</th>\n",
       "      <th>work_status</th>\n",
       "      <th>...</th>\n",
       "      <th>op_road</th>\n",
       "      <th>op_socsec</th>\n",
       "      <th>op_masstrans</th>\n",
       "      <th>op_parks</th>\n",
       "      <th>op_childcare</th>\n",
       "      <th>op_scires</th>\n",
       "      <th>op_cappun</th>\n",
       "      <th>op_gunlaws</th>\n",
       "      <th>op_criminals</th>\n",
       "      <th>imputed_income</th>\n",
       "    </tr>\n",
       "  </thead>\n",
       "  <tbody>\n",
       "  </tbody>\n",
       "</table>\n",
       "<p>0 rows × 64 columns</p>\n",
       "</div>"
      ],
      "text/plain": [
       "Empty DataFrame\n",
       "Columns: [age, yob, sex, race, siblings, region, place_size_000s, place_size, beltcode, work_status, hours, self_employed, occupation, income, income_granular, highest_school, highest_degree, major, residence_16, region_16, family_16, live_who_16, fam_income_16, relig_raised, geo_mobility, mother_employed, father_school, mother_school, father_degree, mother_degree, father_occupation, mother_occupation, father_self_employed, mother_self_employed, class, happiness, pol_party, pol_views, vote_2008, pres_2008, if_pres_2008, religion, religion_strength, fundamentalist, rel_attend, rel_person, spi_person, post_life, pray, bible, god, born_again, save_soul, rel_activities, op_road, op_socsec, op_masstrans, op_parks, op_childcare, op_scires, op_cappun, op_gunlaws, op_criminals, imputed_income]\n",
       "Index: []\n",
       "\n",
       "[0 rows x 64 columns]"
      ]
     },
     "execution_count": 47,
     "metadata": {},
     "output_type": "execute_result"
    }
   ],
   "source": [
    "gss_select.loc[gss_select['imputed_income'].isnull(), ]"
   ]
  },
  {
   "cell_type": "code",
   "execution_count": 48,
   "metadata": {},
   "outputs": [],
   "source": [
    "gss_features['income'] = gss_select['imputed_income']"
   ]
  },
  {
   "cell_type": "code",
   "execution_count": 49,
   "metadata": {},
   "outputs": [
    {
     "data": {
      "text/html": [
       "<div>\n",
       "<style scoped>\n",
       "    .dataframe tbody tr th:only-of-type {\n",
       "        vertical-align: middle;\n",
       "    }\n",
       "\n",
       "    .dataframe tbody tr th {\n",
       "        vertical-align: top;\n",
       "    }\n",
       "\n",
       "    .dataframe thead th {\n",
       "        text-align: right;\n",
       "    }\n",
       "</style>\n",
       "<table border=\"1\" class=\"dataframe\">\n",
       "  <thead>\n",
       "    <tr style=\"text-align: right;\">\n",
       "      <th></th>\n",
       "      <th>age</th>\n",
       "      <th>sex</th>\n",
       "      <th>race</th>\n",
       "      <th>siblings</th>\n",
       "      <th>region</th>\n",
       "      <th>place_size_000s</th>\n",
       "      <th>beltcode</th>\n",
       "      <th>hours_worked</th>\n",
       "      <th>occupation</th>\n",
       "      <th>income</th>\n",
       "    </tr>\n",
       "  </thead>\n",
       "  <tbody>\n",
       "    <tr>\n",
       "      <th>0</th>\n",
       "      <td>22.0</td>\n",
       "      <td>1</td>\n",
       "      <td>white</td>\n",
       "      <td>1.0</td>\n",
       "      <td>New_England</td>\n",
       "      <td>14</td>\n",
       "      <td>suburban</td>\n",
       "      <td>15.0</td>\n",
       "      <td>sales</td>\n",
       "      <td>21207.724567</td>\n",
       "    </tr>\n",
       "    <tr>\n",
       "      <th>1</th>\n",
       "      <td>21.0</td>\n",
       "      <td>1</td>\n",
       "      <td>white</td>\n",
       "      <td>2.0</td>\n",
       "      <td>New_England</td>\n",
       "      <td>14</td>\n",
       "      <td>suburban</td>\n",
       "      <td>30.0</td>\n",
       "      <td>arts</td>\n",
       "      <td>50510.204082</td>\n",
       "    </tr>\n",
       "    <tr>\n",
       "      <th>2</th>\n",
       "      <td>42.0</td>\n",
       "      <td>1</td>\n",
       "      <td>hispanic</td>\n",
       "      <td>1.0</td>\n",
       "      <td>New_England</td>\n",
       "      <td>14</td>\n",
       "      <td>suburban</td>\n",
       "      <td>60.0</td>\n",
       "      <td>engineering</td>\n",
       "      <td>120000.000000</td>\n",
       "    </tr>\n",
       "    <tr>\n",
       "      <th>3</th>\n",
       "      <td>49.0</td>\n",
       "      <td>0</td>\n",
       "      <td>white</td>\n",
       "      <td>2.0</td>\n",
       "      <td>New_England</td>\n",
       "      <td>14</td>\n",
       "      <td>suburban</td>\n",
       "      <td>0.0</td>\n",
       "      <td>business</td>\n",
       "      <td>67500.000000</td>\n",
       "    </tr>\n",
       "    <tr>\n",
       "      <th>4</th>\n",
       "      <td>70.0</td>\n",
       "      <td>0</td>\n",
       "      <td>black</td>\n",
       "      <td>0.0</td>\n",
       "      <td>Middle_Atlantic</td>\n",
       "      <td>24</td>\n",
       "      <td>urban</td>\n",
       "      <td>0.0</td>\n",
       "      <td>protective_services</td>\n",
       "      <td>40505.032206</td>\n",
       "    </tr>\n",
       "  </tbody>\n",
       "</table>\n",
       "</div>"
      ],
      "text/plain": [
       "    age  sex      race  siblings           region  place_size_000s  beltcode  \\\n",
       "0  22.0    1     white       1.0      New_England               14  suburban   \n",
       "1  21.0    1     white       2.0      New_England               14  suburban   \n",
       "2  42.0    1  hispanic       1.0      New_England               14  suburban   \n",
       "3  49.0    0     white       2.0      New_England               14  suburban   \n",
       "4  70.0    0     black       0.0  Middle_Atlantic               24     urban   \n",
       "\n",
       "   hours_worked           occupation         income  \n",
       "0          15.0                sales   21207.724567  \n",
       "1          30.0                 arts   50510.204082  \n",
       "2          60.0          engineering  120000.000000  \n",
       "3           0.0             business   67500.000000  \n",
       "4           0.0  protective_services   40505.032206  "
      ]
     },
     "execution_count": 49,
     "metadata": {},
     "output_type": "execute_result"
    }
   ],
   "source": [
    "gss_features.head()"
   ]
  },
  {
   "cell_type": "markdown",
   "metadata": {},
   "source": [
    "#### Highest school p.64 and highest degree p.68"
   ]
  },
  {
   "cell_type": "code",
   "execution_count": 50,
   "metadata": {},
   "outputs": [
    {
     "data": {
      "text/html": [
       "<div>\n",
       "<style scoped>\n",
       "    .dataframe tbody tr th:only-of-type {\n",
       "        vertical-align: middle;\n",
       "    }\n",
       "\n",
       "    .dataframe tbody tr th {\n",
       "        vertical-align: top;\n",
       "    }\n",
       "\n",
       "    .dataframe thead th {\n",
       "        text-align: right;\n",
       "    }\n",
       "</style>\n",
       "<table border=\"1\" class=\"dataframe\">\n",
       "  <thead>\n",
       "    <tr style=\"text-align: right;\">\n",
       "      <th></th>\n",
       "      <th>highest_school</th>\n",
       "      <th>highest_degree</th>\n",
       "    </tr>\n",
       "  </thead>\n",
       "  <tbody>\n",
       "    <tr>\n",
       "      <th>0</th>\n",
       "      <td>16</td>\n",
       "      <td>3</td>\n",
       "    </tr>\n",
       "    <tr>\n",
       "      <th>1</th>\n",
       "      <td>12</td>\n",
       "      <td>1</td>\n",
       "    </tr>\n",
       "    <tr>\n",
       "      <th>2</th>\n",
       "      <td>12</td>\n",
       "      <td>1</td>\n",
       "    </tr>\n",
       "    <tr>\n",
       "      <th>3</th>\n",
       "      <td>13</td>\n",
       "      <td>1</td>\n",
       "    </tr>\n",
       "    <tr>\n",
       "      <th>4</th>\n",
       "      <td>16</td>\n",
       "      <td>3</td>\n",
       "    </tr>\n",
       "    <tr>\n",
       "      <th>5</th>\n",
       "      <td>19</td>\n",
       "      <td>3</td>\n",
       "    </tr>\n",
       "    <tr>\n",
       "      <th>6</th>\n",
       "      <td>15</td>\n",
       "      <td>2</td>\n",
       "    </tr>\n",
       "    <tr>\n",
       "      <th>7</th>\n",
       "      <td>11</td>\n",
       "      <td>0</td>\n",
       "    </tr>\n",
       "    <tr>\n",
       "      <th>8</th>\n",
       "      <td>9</td>\n",
       "      <td>0</td>\n",
       "    </tr>\n",
       "    <tr>\n",
       "      <th>9</th>\n",
       "      <td>17</td>\n",
       "      <td>3</td>\n",
       "    </tr>\n",
       "    <tr>\n",
       "      <th>10</th>\n",
       "      <td>10</td>\n",
       "      <td>0</td>\n",
       "    </tr>\n",
       "  </tbody>\n",
       "</table>\n",
       "</div>"
      ],
      "text/plain": [
       "    highest_school  highest_degree\n",
       "0               16               3\n",
       "1               12               1\n",
       "2               12               1\n",
       "3               13               1\n",
       "4               16               3\n",
       "5               19               3\n",
       "6               15               2\n",
       "7               11               0\n",
       "8                9               0\n",
       "9               17               3\n",
       "10              10               0"
      ]
     },
     "execution_count": 50,
     "metadata": {},
     "output_type": "execute_result"
    }
   ],
   "source": [
    "## Just use highest degree because school is number of years and\n",
    "## degree includes those who didn't finish school\n",
    "\n",
    "gss_select.loc[0:10, ['highest_school', 'highest_degree']]"
   ]
  },
  {
   "cell_type": "code",
   "execution_count": 51,
   "metadata": {},
   "outputs": [],
   "source": [
    "degree_dict = {\n",
    "    0: 'dnf_school',\n",
    "    1: 'high_school',\n",
    "    2: 'junior_college',\n",
    "    3: 'bachelor',\n",
    "    4: 'graduate',\n",
    "}\n",
    "\n",
    "gss_features['education'] = gss_select['highest_degree'].replace(degree_dict)\n",
    "dummies_needed.append('education')"
   ]
  },
  {
   "cell_type": "markdown",
   "metadata": {},
   "source": [
    "#### Major p.70"
   ]
  },
  {
   "cell_type": "code",
   "execution_count": 52,
   "metadata": {},
   "outputs": [],
   "source": [
    "## Ignore as only relevant for 700 respondents and likely to overlap\n",
    "## occupation"
   ]
  },
  {
   "cell_type": "markdown",
   "metadata": {},
   "source": [
    "#### Residence age 16 p.88"
   ]
  },
  {
   "cell_type": "code",
   "execution_count": 53,
   "metadata": {},
   "outputs": [],
   "source": [
    "fill_gn('residence_16', 'dont_know', 8)\n",
    "fill_gn('residence_16', 'no_answer', 9)\n",
    "\n",
    "residence16_dict = {\n",
    "    1: 'rural',\n",
    "    2: 'rural',\n",
    "    3: 'urban',\n",
    "    4: 'urban',\n",
    "    5: 'suburban',\n",
    "    6: 'urban',\n",
    "    8: np.nan,\n",
    "    9: np.nan\n",
    "}\n",
    "\n",
    "gss_features['residence_16'] = gss_select['residence_16'].replace(residence16_dict)\n",
    "dummies_needed.append('residence_16')"
   ]
  },
  {
   "cell_type": "markdown",
   "metadata": {},
   "source": [
    "#### Region age 16 p.89"
   ]
  },
  {
   "cell_type": "code",
   "execution_count": 54,
   "metadata": {},
   "outputs": [],
   "source": [
    "region16_dict = {\n",
    "    1: 'New_England',\n",
    "    2: 'Middle_Atlantic',\n",
    "    3: 'East_North_Central',\n",
    "    4: 'West_North_Central',\n",
    "    5: 'South_Atlantic',\n",
    "    6: 'East_South_Central',\n",
    "    7: 'West_South_Central',\n",
    "    8: 'Mountain',\n",
    "    9: 'Pacific',\n",
    "    0: 'foreign'\n",
    "}\n",
    "\n",
    "gss_features['region_16'] = gss_select['region_16'].replace(region16_dict)\n",
    "dummies_needed.append('region_16')"
   ]
  },
  {
   "cell_type": "markdown",
   "metadata": {},
   "source": [
    "#### Family age 16 p.90"
   ]
  },
  {
   "cell_type": "code",
   "execution_count": 55,
   "metadata": {},
   "outputs": [],
   "source": [
    "fill_gn('family_16', 'no_answer', 9)\n",
    "\n",
    "## Group some categories\n",
    "\n",
    "family16_dict = {\n",
    "    0: 'other',\n",
    "    1: 'both_parents',\n",
    "    2: 'parent_stepparent',\n",
    "    3: 'parent_stepparent',\n",
    "    4: 'single_parent',\n",
    "    5: 'single_parent',\n",
    "    6: 'relatives',\n",
    "    7: 'relatives',\n",
    "    8: 'relatives',\n",
    "    9: np.nan\n",
    "}\n",
    "\n",
    "gss_features['family_16'] = gss_select['family_16'].replace(family16_dict)\n",
    "dummies_needed.append('family_16')"
   ]
  },
  {
   "cell_type": "markdown",
   "metadata": {},
   "source": [
    "#### Why not with parents 16? p 91"
   ]
  },
  {
   "cell_type": "code",
   "execution_count": 56,
   "metadata": {},
   "outputs": [],
   "source": [
    "fill_gn('live_who_16', 'inapplicable', 0)\n",
    "fill_gn('live_who_16', 'dont_know', 8)\n",
    "fill_gn('live_who_16', 'no_answer', 9)\n",
    "\n",
    "## Code not applicable as string not NA so won't be dropped\n",
    "## It is a valid category\n",
    "\n",
    "## Group some categories < 1%\n",
    "live_who_16_dict = {\n",
    "    1: 'parent_died',\n",
    "    2: 'divsep',\n",
    "    3: 'other',\n",
    "    4: 'other',\n",
    "    5: 'other',\n",
    "    8: 'other',\n",
    "    9: 'other',\n",
    "    0: 'not_applicable'\n",
    "}\n",
    "\n",
    "gss_features['live_who_16'] = gss_select['live_who_16'].replace(live_who_16_dict)\n",
    "dummies_needed.append('live_who_16')"
   ]
  },
  {
   "cell_type": "markdown",
   "metadata": {},
   "source": [
    "#### Family income at 16 p.92"
   ]
  },
  {
   "cell_type": "code",
   "execution_count": 57,
   "metadata": {},
   "outputs": [],
   "source": [
    "fill_gn('fam_income_16', 'dont_know', 8)\n",
    "fill_gn('fam_income_16', 'no_answer', 9)\n",
    "\n",
    "fam_income_16_dict = {\n",
    "    1: 'far_below_av',\n",
    "    2: 'below_av',\n",
    "    3: 'average',\n",
    "    4: 'above_av',\n",
    "    5: 'far_above_av',\n",
    "    8: np.nan,\n",
    "    9: np.nan\n",
    "}\n",
    "\n",
    "gss_features['fam_income_16'] = gss_select['fam_income_16'].replace(fam_income_16_dict)\n",
    "dummies_needed.append('fam_income_16')"
   ]
  },
  {
   "cell_type": "markdown",
   "metadata": {},
   "source": [
    "#### Religion raised p.186"
   ]
  },
  {
   "cell_type": "code",
   "execution_count": 58,
   "metadata": {},
   "outputs": [],
   "source": [
    "## See if religion has changed as got older\n",
    "## This is to reduce collinearity in these variables as otherwise very collinear\n",
    "\n",
    "fill_gn('relig_raised', 'dont_know', 98)\n",
    "fill_gn('relig_raised', 'no_answer', 99)\n",
    "\n",
    "same_relig_raised = pd.DataFrame()\n",
    "same_relig_raised['same_relig_raised'] = np.where(gss_select['relig_raised'] == gss_select['religion'], 1, 0)\n",
    "gss_features['same_relig_raised'] = same_relig_raised['same_relig_raised']"
   ]
  },
  {
   "cell_type": "markdown",
   "metadata": {},
   "source": [
    "#### Geographic mobility p.90"
   ]
  },
  {
   "cell_type": "code",
   "execution_count": 59,
   "metadata": {},
   "outputs": [],
   "source": [
    "fill_gn('geo_mobility', 'dont_know', 8)\n",
    "fill_gn('geo_mobility', 'no_answer', 9)\n",
    "\n",
    "geomob_dict = {\n",
    "    1: 'same_city',\n",
    "    2: 'same_state_diff_city',\n",
    "    3: 'diff_state',\n",
    "    8: np.nan,\n",
    "    9: np.nan\n",
    "}\n",
    "\n",
    "gss_features['geo_mobility'] = gss_select['geo_mobility'].replace(geomob_dict)\n",
    "dummies_needed.append('geo_mobility')"
   ]
  },
  {
   "cell_type": "markdown",
   "metadata": {},
   "source": [
    "#### Mother's working p.92"
   ]
  },
  {
   "cell_type": "code",
   "execution_count": 60,
   "metadata": {},
   "outputs": [],
   "source": [
    "## Ignore as feature because 3% missing and will be captured in other\n",
    "## variables."
   ]
  },
  {
   "cell_type": "markdown",
   "metadata": {},
   "source": [
    "#### Father and mother school and degree p.65 and 68"
   ]
  },
  {
   "cell_type": "code",
   "execution_count": 61,
   "metadata": {},
   "outputs": [],
   "source": [
    "## Ignore school as replicated in degree\n",
    "\n",
    "fill_gn('father_degree', 'inapplicable', 7)\n",
    "fill_gn('father_degree', 'dont_know', 8)\n",
    "fill_gn('father_degree', 'no_answer', 9)\n",
    "\n",
    "fill_gn('mother_degree', 'inapplicable', 7)\n",
    "fill_gn('mother_degree', 'dont_know', 8)\n",
    "fill_gn('mother_degree', 'no_answer', 9)\n",
    "\n",
    "par_degree_dict = {\n",
    "    0: 'dnf_school',\n",
    "    1: 'high_school',\n",
    "    2: 'junior_college',\n",
    "    3: 'bachelor',\n",
    "    4: 'graduate',\n",
    "    7: 'unknown',\n",
    "    8: 'unknown',\n",
    "    9: 'unknown'\n",
    "}\n",
    "\n",
    "gss_features['father_ed'] = gss_select['father_degree'].replace(par_degree_dict)\n",
    "gss_features['mother_ed'] = gss_select['mother_degree'].replace(par_degree_dict)\n",
    "\n",
    "dummies_needed.append('father_ed')\n",
    "dummies_needed.append('mother_ed')"
   ]
  },
  {
   "cell_type": "markdown",
   "metadata": {},
   "source": [
    "#### Father and mother occupations p.45 and 51"
   ]
  },
  {
   "cell_type": "code",
   "execution_count": 62,
   "metadata": {},
   "outputs": [],
   "source": [
    "fill_gn('father_occupation', 'inapplicable', 0)\n",
    "fill_gn('father_occupation', 'dont_know', 9998)\n",
    "fill_gn('father_occupation', 'no_answer', 9999)\n",
    "\n",
    "fill_gn('mother_occupation', 'inapplicable', 0)\n",
    "fill_gn('mother_occupation', 'dont_know', 9998)\n",
    "fill_gn('mother_occupation', 'no_answer', 9999)\n",
    "\n",
    "par_occ_dict = {\n",
    "    0: 'unknown', ## don't know if none or if parent not around\n",
    "    430: 'manager',\n",
    "    950: 'business',\n",
    "    1240: 'computers_maths',\n",
    "    1560: 'engineering',\n",
    "    1965: 'science',\n",
    "    2060: 'social_services',\n",
    "    2160: 'legal',\n",
    "    2550: 'education',\n",
    "    2960: 'arts',\n",
    "    3540: 'healthcare_technical',\n",
    "    3600: 'healthcare_support',\n",
    "    3955: 'protective_services',\n",
    "    4160: 'food_prep_serving',\n",
    "    4250: 'cleaning_maintenance',\n",
    "    4650: 'personal_care',\n",
    "    4965: 'sales',\n",
    "    5940: 'administrative_support',\n",
    "    6130: 'farming_fishing_forestry',\n",
    "    6940: 'construction',\n",
    "    7630: 'installation',\n",
    "    8965: 'production',\n",
    "    9750: 'transportation',\n",
    "    9830: 'military',\n",
    "    9999: np.nan\n",
    "    \n",
    "}\n",
    "\n",
    "gss_father_occs = pd.DataFrame()\n",
    "gss_father_occs['occs'] = gss_select['father_occupation']\n",
    "gss_father_occs['occs_summary'] = gss_father_occs['occs']\n",
    "\n",
    "for occ in par_occ_dict:\n",
    "    for row in np.arange(0, len(gss_father_occs)):\n",
    "        if(isinstance(gss_father_occs.loc[row, 'occs_summary'], str)): \n",
    "            continue\n",
    "        if(gss_father_occs.loc[row, 'occs_summary'] <= occ): \n",
    "                gss_father_occs.loc[row, 'occs_summary'] = par_occ_dict[occ]\n",
    "    \n",
    "gss_features['father_occupation'] = gss_father_occs['occs_summary']\n",
    "\n",
    "gss_mother_occs = pd.DataFrame()\n",
    "gss_mother_occs['occs'] = gss_select['mother_occupation']\n",
    "gss_mother_occs['occs_summary'] = gss_mother_occs['occs']\n",
    "\n",
    "for occ in par_occ_dict:\n",
    "    for row in np.arange(0, len(gss_mother_occs)):\n",
    "        if(isinstance(gss_mother_occs.loc[row, 'occs_summary'], str)): \n",
    "            continue\n",
    "        if(gss_mother_occs.loc[row, 'occs_summary'] <= occ): \n",
    "                gss_mother_occs.loc[row, 'occs_summary'] = par_occ_dict[occ]\n",
    "    \n",
    "gss_features['mother_occupation'] = gss_mother_occs['occs_summary']\n",
    "\n",
    "dummies_needed.append('father_occupation')\n",
    "dummies_needed.append('mother_occupation')"
   ]
  },
  {
   "cell_type": "markdown",
   "metadata": {},
   "source": [
    "#### Self employed father and mother p.45 and 51"
   ]
  },
  {
   "cell_type": "code",
   "execution_count": 63,
   "metadata": {},
   "outputs": [],
   "source": [
    "## Leave out consistent with respondent"
   ]
  },
  {
   "cell_type": "markdown",
   "metadata": {},
   "source": [
    "#### Class p.236"
   ]
  },
  {
   "cell_type": "code",
   "execution_count": 64,
   "metadata": {},
   "outputs": [],
   "source": [
    "fill_gn('class', 'dont_know', 8)\n",
    "fill_gn('class', 'no_answer', 9)\n",
    "\n",
    "class_dict = {\n",
    "    1: 'lower_class', \n",
    "    2: 'working_class', \n",
    "    3: 'middle_class', \n",
    "    4: 'upper_class', \n",
    "    8: np.nan,\n",
    "    9: np.nan\n",
    "}\n",
    "\n",
    "gss_features['class'] = gss_select['class'].replace(class_dict)\n",
    "dummies_needed.append('class')"
   ]
  },
  {
   "cell_type": "markdown",
   "metadata": {},
   "source": [
    "#### Happiness p.210"
   ]
  },
  {
   "cell_type": "code",
   "execution_count": 65,
   "metadata": {},
   "outputs": [],
   "source": [
    "fill_gn('happiness', 'dont_know', 8)\n",
    "fill_gn('happiness', 'no_answer', 9)\n",
    "\n",
    "happy_dict = {\n",
    "    8: np.nan,\n",
    "    9: np.nan\n",
    "}\n",
    "\n",
    "gss_features['happy'] = gss_select['happiness'].replace(happy_dict)"
   ]
  },
  {
   "cell_type": "markdown",
   "metadata": {},
   "source": [
    "#### Political party p.140"
   ]
  },
  {
   "cell_type": "code",
   "execution_count": 66,
   "metadata": {},
   "outputs": [],
   "source": [
    "fill_gn('pol_party', 'no_answer', 9)\n",
    "\n",
    "pol_party_dict = {\n",
    "    0: 'democrat',\n",
    "    1: 'democrat',\n",
    "    2: 'independent',\n",
    "    3: 'independent', \n",
    "    4: 'independent', \n",
    "    5: 'republican', \n",
    "    6: 'republican',\n",
    "    7: 'other_party',\n",
    "    8: np.nan\n",
    "}\n",
    "\n",
    "gss_features['pol_party'] = gss_select['pol_party'].replace(pol_party_dict)\n",
    "dummies_needed.append('pol_party')"
   ]
  },
  {
   "cell_type": "markdown",
   "metadata": {},
   "source": [
    "#### Vote 2008, pres 2008 etc p.140"
   ]
  },
  {
   "cell_type": "code",
   "execution_count": 67,
   "metadata": {},
   "outputs": [],
   "source": [
    "## Ditch these - captured in political affiliation"
   ]
  },
  {
   "cell_type": "markdown",
   "metadata": {},
   "source": [
    "#### Religion now p.175"
   ]
  },
  {
   "cell_type": "code",
   "execution_count": 68,
   "metadata": {},
   "outputs": [],
   "source": [
    "fill_gn('religion', 'dont_know', 98)\n",
    "fill_gn('religion', 'no_answer', 99)\n",
    "\n",
    "relig_dict = {\n",
    "    1: 'protestant',\n",
    "    2: 'catholic',\n",
    "    3: 'jewish',\n",
    "    4: 'none',\n",
    "    5: 'other',\n",
    "    6: 'other',\n",
    "    7: 'other',\n",
    "    8: 'other',\n",
    "    9: 'other',\n",
    "    10: 'christian',\n",
    "    11: 'christian',\n",
    "    12: 'other',\n",
    "    13: 'other',\n",
    "    98: 'other', \n",
    "    99: np.nan\n",
    "}\n",
    "\n",
    "gss_features['religion_now'] = gss_select['religion'].replace(relig_dict)\n",
    "dummies_needed.append('religion_now')"
   ]
  },
  {
   "cell_type": "markdown",
   "metadata": {},
   "source": [
    "#### Religion strength p.183"
   ]
  },
  {
   "cell_type": "code",
   "execution_count": 69,
   "metadata": {},
   "outputs": [],
   "source": [
    "fill_gn('religion_strength', 'inapplicable', 0)\n",
    "fill_gn('religion_strength', 'dont_know', 8)\n",
    "fill_gn('religion_strength', 'no_answer', 9)\n",
    "\n",
    "relig_str_dict = {\n",
    "    0: 4, # Code inapplicable as no religion\n",
    "    8: np.nan,\n",
    "    9: np.nan\n",
    "}\n",
    "\n",
    "gss_features['relig_strength'] = gss_select['religion_strength'].replace(relig_str_dict)"
   ]
  },
  {
   "cell_type": "markdown",
   "metadata": {},
   "source": [
    "#### Other religious belief questions"
   ]
  },
  {
   "cell_type": "code",
   "execution_count": 70,
   "metadata": {},
   "outputs": [],
   "source": [
    "## Drop as mostly covered"
   ]
  },
  {
   "cell_type": "markdown",
   "metadata": {},
   "source": [
    "#### Belief in life after death p.184"
   ]
  },
  {
   "cell_type": "code",
   "execution_count": 71,
   "metadata": {},
   "outputs": [],
   "source": [
    "fill_gn('post_life', 'inapplicable', 0)\n",
    "fill_gn('post_life', 'dont_know', 8)\n",
    "fill_gn('post_life', 'no_answer', 9)\n",
    "\n",
    "postlife_dict = {\n",
    "    1: 'yes',\n",
    "    2: 'no',\n",
    "    8: 'maybe', \n",
    "    0: np.nan,\n",
    "    9: np.nan\n",
    "}\n",
    "\n",
    "gss_features['postlife'] = gss_select['post_life'].replace(postlife_dict)\n",
    "dummies_needed.append('postlife')"
   ]
  },
  {
   "cell_type": "markdown",
   "metadata": {},
   "source": [
    "#### How often pray? p.184"
   ]
  },
  {
   "cell_type": "code",
   "execution_count": 72,
   "metadata": {},
   "outputs": [],
   "source": [
    "fill_gn('pray', 'dont_know', 8)\n",
    "fill_gn('pray', 'no_answer', 9)\n",
    "\n",
    "pray_dict = {\n",
    "    8: np.nan,\n",
    "    9: np.nan\n",
    "}\n",
    "\n",
    "gss_features['pray'] = gss_select['pray'].replace(pray_dict)"
   ]
  },
  {
   "cell_type": "markdown",
   "metadata": {},
   "source": [
    "#### Opinion of road spending p.150"
   ]
  },
  {
   "cell_type": "code",
   "execution_count": 73,
   "metadata": {},
   "outputs": [],
   "source": [
    "fill_gn('op_road', 'dont_know', 8)\n",
    "fill_gn('op_road', 'no_answer', 9)\n",
    "\n",
    "road_dict ={\n",
    "    1: 'too_little',\n",
    "    2: 'about_right',\n",
    "    3: 'too_much',\n",
    "    8: 'dont_know',\n",
    "    9: np.nan\n",
    "}\n",
    "\n",
    "gss_features['op_road'] = gss_select['op_road'].replace(road_dict)\n",
    "dummies_needed.append('op_road')"
   ]
  },
  {
   "cell_type": "markdown",
   "metadata": {},
   "source": [
    "#### Opinion of social security spending p.151"
   ]
  },
  {
   "cell_type": "code",
   "execution_count": 74,
   "metadata": {},
   "outputs": [],
   "source": [
    "fill_gn('op_socsec', 'dont_know', 8)\n",
    "fill_gn('op_socsec', 'no_answer', 9)\n",
    "\n",
    "gss_features['op_socsec'] = gss_select['op_socsec'].replace(road_dict)\n",
    "dummies_needed.append('op_socsec')"
   ]
  },
  {
   "cell_type": "markdown",
   "metadata": {},
   "source": [
    "#### Opinion on mass transportation p.152"
   ]
  },
  {
   "cell_type": "code",
   "execution_count": 75,
   "metadata": {},
   "outputs": [],
   "source": [
    "fill_gn('op_masstrans', 'dont_know', 8)\n",
    "fill_gn('op_masstrans', 'no_answer', 9)\n",
    "\n",
    "gss_features['op_masstrans'] = gss_select['op_masstrans'].replace(road_dict)\n",
    "dummies_needed.append('op_masstrans')"
   ]
  },
  {
   "cell_type": "markdown",
   "metadata": {},
   "source": [
    "#### Opinion on national parks p.152"
   ]
  },
  {
   "cell_type": "code",
   "execution_count": 76,
   "metadata": {},
   "outputs": [],
   "source": [
    "fill_gn('op_parks', 'dont_know', 8)\n",
    "fill_gn('op_parks', 'no_answer', 9)\n",
    "\n",
    "gss_features['op_parks'] = gss_select['op_parks'].replace(road_dict)\n",
    "dummies_needed.append('op_parks')"
   ]
  },
  {
   "cell_type": "markdown",
   "metadata": {},
   "source": [
    "#### Opinion on assistance for childcare p.153"
   ]
  },
  {
   "cell_type": "code",
   "execution_count": 77,
   "metadata": {},
   "outputs": [],
   "source": [
    "fill_gn('op_childcare', 'dont_know', 8)\n",
    "fill_gn('op_childcare', 'no_answer', 9)\n",
    "\n",
    "gss_features['op_childcare'] = gss_select['op_childcare'].replace(road_dict)\n",
    "dummies_needed.append('op_childcare')"
   ]
  },
  {
   "cell_type": "markdown",
   "metadata": {},
   "source": [
    "#### Opinion on funding scientific research p.154"
   ]
  },
  {
   "cell_type": "code",
   "execution_count": 78,
   "metadata": {},
   "outputs": [],
   "source": [
    "fill_gn('op_scires', 'dont_know', 8)\n",
    "fill_gn('op_scires', 'no_answer', 9)\n",
    "\n",
    "gss_features['op_scires'] = gss_select['op_scires'].replace(road_dict)\n",
    "dummies_needed.append('op_scires')"
   ]
  },
  {
   "cell_type": "markdown",
   "metadata": {},
   "source": [
    "#### Opinion on capital punishment p.173"
   ]
  },
  {
   "cell_type": "code",
   "execution_count": 79,
   "metadata": {},
   "outputs": [],
   "source": [
    "fill_gn('op_cappun', 'dont_know', 8)\n",
    "fill_gn('op_cappun', 'no_answer', 9)\n",
    "\n",
    "cappun_dict ={\n",
    "    1: 'favor',\n",
    "    2: 'oppose',\n",
    "    8: 'dont_know',\n",
    "    9: np.nan\n",
    "}\n",
    "\n",
    "gss_features['op_cappun'] = gss_select['op_cappun'].replace(cappun_dict)\n",
    "dummies_needed.append('op_cappun')"
   ]
  },
  {
   "cell_type": "markdown",
   "metadata": {},
   "source": [
    "#### Opinion on gun laws p.173"
   ]
  },
  {
   "cell_type": "code",
   "execution_count": 80,
   "metadata": {},
   "outputs": [],
   "source": [
    "## Too many inapplicables (1669)"
   ]
  },
  {
   "cell_type": "markdown",
   "metadata": {},
   "source": [
    "#### Opinion on dealing with criminals p.174"
   ]
  },
  {
   "cell_type": "code",
   "execution_count": 81,
   "metadata": {},
   "outputs": [],
   "source": [
    "fill_gn('op_criminals', 'dont_know', 8)\n",
    "fill_gn('op_criminals', 'no_answer', 9)\n",
    "\n",
    "criminals_dict ={\n",
    "    1: 'too_harsh',\n",
    "    2: 'not_harsh_enough',\n",
    "    3: 'about_right',\n",
    "    8: 'dont_know',\n",
    "    9: np.nan\n",
    "}\n",
    "\n",
    "gss_features['op_criminals'] = gss_select['op_criminals'].replace(criminals_dict)\n",
    "dummies_needed.append('op_criminals')"
   ]
  },
  {
   "cell_type": "markdown",
   "metadata": {},
   "source": [
    "## Data features"
   ]
  },
  {
   "cell_type": "code",
   "execution_count": 82,
   "metadata": {},
   "outputs": [
    {
     "data": {
      "text/plain": [
       "(4820, 37)"
      ]
     },
     "execution_count": 82,
     "metadata": {},
     "output_type": "execute_result"
    }
   ],
   "source": [
    "gss_features.shape"
   ]
  },
  {
   "cell_type": "code",
   "execution_count": 83,
   "metadata": {},
   "outputs": [
    {
     "data": {
      "text/html": [
       "<div>\n",
       "<style scoped>\n",
       "    .dataframe tbody tr th:only-of-type {\n",
       "        vertical-align: middle;\n",
       "    }\n",
       "\n",
       "    .dataframe tbody tr th {\n",
       "        vertical-align: top;\n",
       "    }\n",
       "\n",
       "    .dataframe thead th {\n",
       "        text-align: right;\n",
       "    }\n",
       "</style>\n",
       "<table border=\"1\" class=\"dataframe\">\n",
       "  <thead>\n",
       "    <tr style=\"text-align: right;\">\n",
       "      <th></th>\n",
       "      <th>age</th>\n",
       "      <th>sex</th>\n",
       "      <th>siblings</th>\n",
       "      <th>place_size_000s</th>\n",
       "      <th>hours_worked</th>\n",
       "      <th>income</th>\n",
       "      <th>same_relig_raised</th>\n",
       "      <th>happy</th>\n",
       "      <th>relig_strength</th>\n",
       "      <th>pray</th>\n",
       "    </tr>\n",
       "  </thead>\n",
       "  <tbody>\n",
       "    <tr>\n",
       "      <th>count</th>\n",
       "      <td>4769.000000</td>\n",
       "      <td>4820.000000</td>\n",
       "      <td>4813.000000</td>\n",
       "      <td>4820.000000</td>\n",
       "      <td>4789.000000</td>\n",
       "      <td>4.820000e+03</td>\n",
       "      <td>4820.000000</td>\n",
       "      <td>4806.000000</td>\n",
       "      <td>4780.000000</td>\n",
       "      <td>4786.00000</td>\n",
       "    </tr>\n",
       "    <tr>\n",
       "      <th>mean</th>\n",
       "      <td>49.594674</td>\n",
       "      <td>0.442324</td>\n",
       "      <td>3.612300</td>\n",
       "      <td>365.207676</td>\n",
       "      <td>23.995197</td>\n",
       "      <td>4.180506e+04</td>\n",
       "      <td>0.709544</td>\n",
       "      <td>1.847690</td>\n",
       "      <td>2.103556</td>\n",
       "      <td>2.79837</td>\n",
       "    </tr>\n",
       "    <tr>\n",
       "      <th>std</th>\n",
       "      <td>17.187426</td>\n",
       "      <td>0.496714</td>\n",
       "      <td>3.063221</td>\n",
       "      <td>1269.694296</td>\n",
       "      <td>23.091663</td>\n",
       "      <td>6.155572e+04</td>\n",
       "      <td>0.454020</td>\n",
       "      <td>0.635166</td>\n",
       "      <td>1.099539</td>\n",
       "      <td>1.77610</td>\n",
       "    </tr>\n",
       "    <tr>\n",
       "      <th>min</th>\n",
       "      <td>18.000000</td>\n",
       "      <td>0.000000</td>\n",
       "      <td>0.000000</td>\n",
       "      <td>0.000000</td>\n",
       "      <td>0.000000</td>\n",
       "      <td>0.000000e+00</td>\n",
       "      <td>0.000000</td>\n",
       "      <td>1.000000</td>\n",
       "      <td>1.000000</td>\n",
       "      <td>1.00000</td>\n",
       "    </tr>\n",
       "    <tr>\n",
       "      <th>25%</th>\n",
       "      <td>35.000000</td>\n",
       "      <td>0.000000</td>\n",
       "      <td>2.000000</td>\n",
       "      <td>7.000000</td>\n",
       "      <td>0.000000</td>\n",
       "      <td>1.375000e+04</td>\n",
       "      <td>0.000000</td>\n",
       "      <td>1.000000</td>\n",
       "      <td>1.000000</td>\n",
       "      <td>1.00000</td>\n",
       "    </tr>\n",
       "    <tr>\n",
       "      <th>50%</th>\n",
       "      <td>49.000000</td>\n",
       "      <td>0.000000</td>\n",
       "      <td>3.000000</td>\n",
       "      <td>27.000000</td>\n",
       "      <td>25.000000</td>\n",
       "      <td>3.250000e+04</td>\n",
       "      <td>1.000000</td>\n",
       "      <td>2.000000</td>\n",
       "      <td>2.000000</td>\n",
       "      <td>2.00000</td>\n",
       "    </tr>\n",
       "    <tr>\n",
       "      <th>75%</th>\n",
       "      <td>62.000000</td>\n",
       "      <td>1.000000</td>\n",
       "      <td>5.000000</td>\n",
       "      <td>117.000000</td>\n",
       "      <td>40.000000</td>\n",
       "      <td>5.500000e+04</td>\n",
       "      <td>1.000000</td>\n",
       "      <td>2.000000</td>\n",
       "      <td>3.000000</td>\n",
       "      <td>4.00000</td>\n",
       "    </tr>\n",
       "    <tr>\n",
       "      <th>max</th>\n",
       "      <td>89.000000</td>\n",
       "      <td>1.000000</td>\n",
       "      <td>58.000000</td>\n",
       "      <td>8175.000000</td>\n",
       "      <td>89.000000</td>\n",
       "      <td>3.375000e+06</td>\n",
       "      <td>1.000000</td>\n",
       "      <td>3.000000</td>\n",
       "      <td>4.000000</td>\n",
       "      <td>6.00000</td>\n",
       "    </tr>\n",
       "  </tbody>\n",
       "</table>\n",
       "</div>"
      ],
      "text/plain": [
       "               age          sex     siblings  place_size_000s  hours_worked  \\\n",
       "count  4769.000000  4820.000000  4813.000000      4820.000000   4789.000000   \n",
       "mean     49.594674     0.442324     3.612300       365.207676     23.995197   \n",
       "std      17.187426     0.496714     3.063221      1269.694296     23.091663   \n",
       "min      18.000000     0.000000     0.000000         0.000000      0.000000   \n",
       "25%      35.000000     0.000000     2.000000         7.000000      0.000000   \n",
       "50%      49.000000     0.000000     3.000000        27.000000     25.000000   \n",
       "75%      62.000000     1.000000     5.000000       117.000000     40.000000   \n",
       "max      89.000000     1.000000    58.000000      8175.000000     89.000000   \n",
       "\n",
       "             income  same_relig_raised        happy  relig_strength  \\\n",
       "count  4.820000e+03        4820.000000  4806.000000     4780.000000   \n",
       "mean   4.180506e+04           0.709544     1.847690        2.103556   \n",
       "std    6.155572e+04           0.454020     0.635166        1.099539   \n",
       "min    0.000000e+00           0.000000     1.000000        1.000000   \n",
       "25%    1.375000e+04           0.000000     1.000000        1.000000   \n",
       "50%    3.250000e+04           1.000000     2.000000        2.000000   \n",
       "75%    5.500000e+04           1.000000     2.000000        3.000000   \n",
       "max    3.375000e+06           1.000000     3.000000        4.000000   \n",
       "\n",
       "             pray  \n",
       "count  4786.00000  \n",
       "mean      2.79837  \n",
       "std       1.77610  \n",
       "min       1.00000  \n",
       "25%       1.00000  \n",
       "50%       2.00000  \n",
       "75%       4.00000  \n",
       "max       6.00000  "
      ]
     },
     "execution_count": 83,
     "metadata": {},
     "output_type": "execute_result"
    }
   ],
   "source": [
    "gss_features.describe()"
   ]
  },
  {
   "cell_type": "code",
   "execution_count": 84,
   "metadata": {},
   "outputs": [],
   "source": [
    "## 58 siblings is apparently a value"
   ]
  },
  {
   "cell_type": "code",
   "execution_count": 85,
   "metadata": {},
   "outputs": [
    {
     "data": {
      "text/html": [
       "<div>\n",
       "<style scoped>\n",
       "    .dataframe tbody tr th:only-of-type {\n",
       "        vertical-align: middle;\n",
       "    }\n",
       "\n",
       "    .dataframe tbody tr th {\n",
       "        vertical-align: top;\n",
       "    }\n",
       "\n",
       "    .dataframe thead th {\n",
       "        text-align: right;\n",
       "    }\n",
       "</style>\n",
       "<table border=\"1\" class=\"dataframe\">\n",
       "  <thead>\n",
       "    <tr style=\"text-align: right;\">\n",
       "      <th></th>\n",
       "      <th>race</th>\n",
       "      <th>region</th>\n",
       "      <th>beltcode</th>\n",
       "      <th>occupation</th>\n",
       "      <th>education</th>\n",
       "      <th>residence_16</th>\n",
       "      <th>region_16</th>\n",
       "      <th>family_16</th>\n",
       "      <th>live_who_16</th>\n",
       "      <th>fam_income_16</th>\n",
       "      <th>...</th>\n",
       "      <th>religion_now</th>\n",
       "      <th>postlife</th>\n",
       "      <th>op_road</th>\n",
       "      <th>op_socsec</th>\n",
       "      <th>op_masstrans</th>\n",
       "      <th>op_parks</th>\n",
       "      <th>op_childcare</th>\n",
       "      <th>op_scires</th>\n",
       "      <th>op_cappun</th>\n",
       "      <th>op_criminals</th>\n",
       "    </tr>\n",
       "  </thead>\n",
       "  <tbody>\n",
       "    <tr>\n",
       "      <th>count</th>\n",
       "      <td>4820</td>\n",
       "      <td>4819</td>\n",
       "      <td>4820</td>\n",
       "      <td>4753</td>\n",
       "      <td>4820</td>\n",
       "      <td>4817</td>\n",
       "      <td>4820</td>\n",
       "      <td>4818</td>\n",
       "      <td>4820</td>\n",
       "      <td>4742</td>\n",
       "      <td>...</td>\n",
       "      <td>4809</td>\n",
       "      <td>4805</td>\n",
       "      <td>4819</td>\n",
       "      <td>4811</td>\n",
       "      <td>4814</td>\n",
       "      <td>4818</td>\n",
       "      <td>4807</td>\n",
       "      <td>4815</td>\n",
       "      <td>4774</td>\n",
       "      <td>4789</td>\n",
       "    </tr>\n",
       "    <tr>\n",
       "      <th>unique</th>\n",
       "      <td>5</td>\n",
       "      <td>9</td>\n",
       "      <td>3</td>\n",
       "      <td>24</td>\n",
       "      <td>5</td>\n",
       "      <td>3</td>\n",
       "      <td>10</td>\n",
       "      <td>5</td>\n",
       "      <td>4</td>\n",
       "      <td>5</td>\n",
       "      <td>...</td>\n",
       "      <td>6</td>\n",
       "      <td>3</td>\n",
       "      <td>4</td>\n",
       "      <td>4</td>\n",
       "      <td>4</td>\n",
       "      <td>4</td>\n",
       "      <td>4</td>\n",
       "      <td>4</td>\n",
       "      <td>3</td>\n",
       "      <td>4</td>\n",
       "    </tr>\n",
       "    <tr>\n",
       "      <th>top</th>\n",
       "      <td>white</td>\n",
       "      <td>South_Atlantic</td>\n",
       "      <td>urban</td>\n",
       "      <td>administrative_support</td>\n",
       "      <td>high_school</td>\n",
       "      <td>urban</td>\n",
       "      <td>East_North_Central</td>\n",
       "      <td>both_parents</td>\n",
       "      <td>not_applicable</td>\n",
       "      <td>average</td>\n",
       "      <td>...</td>\n",
       "      <td>protestant</td>\n",
       "      <td>yes</td>\n",
       "      <td>too_little</td>\n",
       "      <td>too_little</td>\n",
       "      <td>about_right</td>\n",
       "      <td>about_right</td>\n",
       "      <td>too_little</td>\n",
       "      <td>about_right</td>\n",
       "      <td>favor</td>\n",
       "      <td>not_harsh_enough</td>\n",
       "    </tr>\n",
       "    <tr>\n",
       "      <th>freq</th>\n",
       "      <td>3681</td>\n",
       "      <td>1041</td>\n",
       "      <td>2784</td>\n",
       "      <td>609</td>\n",
       "      <td>2394</td>\n",
       "      <td>3155</td>\n",
       "      <td>903</td>\n",
       "      <td>3233</td>\n",
       "      <td>3233</td>\n",
       "      <td>2099</td>\n",
       "      <td>...</td>\n",
       "      <td>2361</td>\n",
       "      <td>3475</td>\n",
       "      <td>2172</td>\n",
       "      <td>2648</td>\n",
       "      <td>2180</td>\n",
       "      <td>2923</td>\n",
       "      <td>2161</td>\n",
       "      <td>2168</td>\n",
       "      <td>2944</td>\n",
       "      <td>2874</td>\n",
       "    </tr>\n",
       "  </tbody>\n",
       "</table>\n",
       "<p>4 rows × 27 columns</p>\n",
       "</div>"
      ],
      "text/plain": [
       "         race          region beltcode              occupation    education  \\\n",
       "count    4820            4819     4820                    4753         4820   \n",
       "unique      5               9        3                      24            5   \n",
       "top     white  South_Atlantic    urban  administrative_support  high_school   \n",
       "freq     3681            1041     2784                     609         2394   \n",
       "\n",
       "       residence_16           region_16     family_16     live_who_16  \\\n",
       "count          4817                4820          4818            4820   \n",
       "unique            3                  10             5               4   \n",
       "top           urban  East_North_Central  both_parents  not_applicable   \n",
       "freq           3155                 903          3233            3233   \n",
       "\n",
       "       fam_income_16  ... religion_now postlife     op_road   op_socsec  \\\n",
       "count           4742  ...         4809     4805        4819        4811   \n",
       "unique             5  ...            6        3           4           4   \n",
       "top          average  ...   protestant      yes  too_little  too_little   \n",
       "freq            2099  ...         2361     3475        2172        2648   \n",
       "\n",
       "       op_masstrans     op_parks op_childcare    op_scires op_cappun  \\\n",
       "count          4814         4818         4807         4815      4774   \n",
       "unique            4            4            4            4         3   \n",
       "top     about_right  about_right   too_little  about_right     favor   \n",
       "freq           2180         2923         2161         2168      2944   \n",
       "\n",
       "            op_criminals  \n",
       "count               4789  \n",
       "unique                 4  \n",
       "top     not_harsh_enough  \n",
       "freq                2874  \n",
       "\n",
       "[4 rows x 27 columns]"
      ]
     },
     "execution_count": 85,
     "metadata": {},
     "output_type": "execute_result"
    }
   ],
   "source": [
    "gss_features.describe(include='object')"
   ]
  },
  {
   "cell_type": "markdown",
   "metadata": {},
   "source": [
    "### Decide which to drop"
   ]
  },
  {
   "cell_type": "code",
   "execution_count": 86,
   "metadata": {},
   "outputs": [],
   "source": [
    "gss_features = pd.concat([gss_features, gss_divsep], axis=1)"
   ]
  },
  {
   "cell_type": "code",
   "execution_count": 87,
   "metadata": {},
   "outputs": [
    {
     "data": {
      "text/plain": [
       "(4820, 38)"
      ]
     },
     "execution_count": 87,
     "metadata": {},
     "output_type": "execute_result"
    }
   ],
   "source": [
    "gss_features.shape"
   ]
  },
  {
   "cell_type": "code",
   "execution_count": 88,
   "metadata": {},
   "outputs": [
    {
     "data": {
      "text/plain": [
       "age                  51\n",
       "sex                   0\n",
       "race                  0\n",
       "siblings              7\n",
       "region                1\n",
       "place_size_000s       0\n",
       "beltcode              0\n",
       "hours_worked         31\n",
       "occupation           67\n",
       "income                0\n",
       "education             0\n",
       "residence_16          3\n",
       "region_16             0\n",
       "family_16             2\n",
       "live_who_16           0\n",
       "fam_income_16        78\n",
       "same_relig_raised     0\n",
       "geo_mobility          9\n",
       "father_ed             0\n",
       "mother_ed             0\n",
       "father_occupation    96\n",
       "mother_occupation    99\n",
       "class                38\n",
       "happy                14\n",
       "pol_party             0\n",
       "religion_now         11\n",
       "relig_strength       40\n",
       "postlife             15\n",
       "pray                 34\n",
       "op_road               1\n",
       "op_socsec             9\n",
       "op_masstrans          6\n",
       "op_parks              2\n",
       "op_childcare         13\n",
       "op_scires             5\n",
       "op_cappun            46\n",
       "op_criminals         31\n",
       "ever_divsep           0\n",
       "dtype: int64"
      ]
     },
     "execution_count": 88,
     "metadata": {},
     "output_type": "execute_result"
    }
   ],
   "source": [
    "gss_features.isnull().sum()"
   ]
  },
  {
   "cell_type": "code",
   "execution_count": 89,
   "metadata": {},
   "outputs": [],
   "source": [
    "## See how many remaining if drop all null\n",
    "\n",
    "gss_features_dropna = gss_features.dropna()"
   ]
  },
  {
   "cell_type": "code",
   "execution_count": 90,
   "metadata": {},
   "outputs": [
    {
     "data": {
      "text/plain": [
       "(4273, 38)"
      ]
     },
     "execution_count": 90,
     "metadata": {},
     "output_type": "execute_result"
    }
   ],
   "source": [
    "gss_features_dropna.shape"
   ]
  },
  {
   "cell_type": "code",
   "execution_count": 91,
   "metadata": {},
   "outputs": [
    {
     "data": {
      "text/plain": [
       "0.8863070539419087"
      ]
     },
     "execution_count": 91,
     "metadata": {},
     "output_type": "execute_result"
    }
   ],
   "source": [
    "4272/4820"
   ]
  },
  {
   "cell_type": "code",
   "execution_count": 92,
   "metadata": {},
   "outputs": [],
   "source": [
    "## Code missing parents' occupations as unknown\n",
    "gss_features_par = gss_features.copy()\n",
    "gss_features_par.loc[gss_features_par['father_occupation'].isnull(), 'father_occupation'] = 'unknown'\n",
    "gss_features_par.loc[gss_features_par['mother_occupation'].isnull(), 'mother_occupation'] = 'unknown'"
   ]
  },
  {
   "cell_type": "code",
   "execution_count": 93,
   "metadata": {},
   "outputs": [
    {
     "data": {
      "text/plain": [
       "(4432, 38)"
      ]
     },
     "execution_count": 93,
     "metadata": {},
     "output_type": "execute_result"
    }
   ],
   "source": [
    "gss_features_par.dropna(inplace=True)\n",
    "gss_features_par.shape"
   ]
  },
  {
   "cell_type": "code",
   "execution_count": 94,
   "metadata": {},
   "outputs": [
    {
     "data": {
      "text/plain": [
       "0.9192946058091286"
      ]
     },
     "execution_count": 94,
     "metadata": {},
     "output_type": "execute_result"
    }
   ],
   "source": [
    "4431/4820"
   ]
  },
  {
   "cell_type": "code",
   "execution_count": 95,
   "metadata": {},
   "outputs": [],
   "source": [
    "gss_features = gss_features_par.reset_index(drop=True)"
   ]
  },
  {
   "cell_type": "code",
   "execution_count": 96,
   "metadata": {},
   "outputs": [],
   "source": [
    "gss_outcome = gss_features['ever_divsep']\n",
    "gss_features = gss_features.drop(['ever_divsep'], axis=1)"
   ]
  },
  {
   "cell_type": "markdown",
   "metadata": {},
   "source": [
    "### Code dummies"
   ]
  },
  {
   "cell_type": "code",
   "execution_count": 97,
   "metadata": {},
   "outputs": [],
   "source": [
    "for var in dummies_needed:\n",
    "    dummies = pd.get_dummies(gss_features[var]).rename(columns=lambda x: str(var) + '_' + str(x))\n",
    "    gss_features = pd.concat([gss_features, dummies], axis=1)\n",
    "    gss_features.drop([var], inplace=True, axis=1)\n",
    "    "
   ]
  },
  {
   "cell_type": "code",
   "execution_count": 98,
   "metadata": {},
   "outputs": [
    {
     "name": "stdout",
     "output_type": "stream",
     "text": [
      "All dummies made as needed\n"
     ]
    }
   ],
   "source": [
    "try:\n",
    "    gss_features.describe(include='object') \n",
    "except ValueError:\n",
    "    print('All dummies made as needed')"
   ]
  },
  {
   "cell_type": "code",
   "execution_count": 99,
   "metadata": {},
   "outputs": [
    {
     "data": {
      "text/plain": [
       "(4432, 195)"
      ]
     },
     "execution_count": 99,
     "metadata": {},
     "output_type": "execute_result"
    }
   ],
   "source": [
    "gss_features.shape"
   ]
  },
  {
   "cell_type": "code",
   "execution_count": 100,
   "metadata": {},
   "outputs": [
    {
     "data": {
      "text/plain": [
       "(4432,)"
      ]
     },
     "execution_count": 100,
     "metadata": {},
     "output_type": "execute_result"
    }
   ],
   "source": [
    "gss_outcome.shape"
   ]
  },
  {
   "cell_type": "markdown",
   "metadata": {},
   "source": [
    "## Separate into training and testing set"
   ]
  },
  {
   "cell_type": "code",
   "execution_count": 101,
   "metadata": {},
   "outputs": [],
   "source": [
    "x_train, x_test, y_train, y_test = train_test_split(gss_features,\n",
    "                                                    gss_outcome,\n",
    "                                                    test_size=0.25,\n",
    "                                                    random_state=5322,\n",
    "                                                    stratify=gss_outcome)"
   ]
  },
  {
   "cell_type": "markdown",
   "metadata": {},
   "source": [
    "## Check for collinearity"
   ]
  },
  {
   "cell_type": "code",
   "execution_count": 102,
   "metadata": {},
   "outputs": [],
   "source": [
    "corr_matrix = x_train.corr().abs()"
   ]
  },
  {
   "cell_type": "code",
   "execution_count": 103,
   "metadata": {},
   "outputs": [
    {
     "data": {
      "text/plain": [
       "(195, 195)"
      ]
     },
     "execution_count": 103,
     "metadata": {},
     "output_type": "execute_result"
    }
   ],
   "source": [
    "corr_matrix.shape"
   ]
  },
  {
   "cell_type": "code",
   "execution_count": 104,
   "metadata": {},
   "outputs": [
    {
     "data": {
      "text/html": [
       "<div>\n",
       "<style scoped>\n",
       "    .dataframe tbody tr th:only-of-type {\n",
       "        vertical-align: middle;\n",
       "    }\n",
       "\n",
       "    .dataframe tbody tr th {\n",
       "        vertical-align: top;\n",
       "    }\n",
       "\n",
       "    .dataframe thead th {\n",
       "        text-align: right;\n",
       "    }\n",
       "</style>\n",
       "<table border=\"1\" class=\"dataframe\">\n",
       "  <thead>\n",
       "    <tr style=\"text-align: right;\">\n",
       "      <th></th>\n",
       "      <th>age</th>\n",
       "      <th>sex</th>\n",
       "      <th>siblings</th>\n",
       "      <th>place_size_000s</th>\n",
       "      <th>hours_worked</th>\n",
       "      <th>income</th>\n",
       "      <th>same_relig_raised</th>\n",
       "      <th>happy</th>\n",
       "      <th>relig_strength</th>\n",
       "      <th>pray</th>\n",
       "      <th>...</th>\n",
       "      <th>op_scires_dont_know</th>\n",
       "      <th>op_scires_too_little</th>\n",
       "      <th>op_scires_too_much</th>\n",
       "      <th>op_cappun_dont_know</th>\n",
       "      <th>op_cappun_favor</th>\n",
       "      <th>op_cappun_oppose</th>\n",
       "      <th>op_criminals_about_right</th>\n",
       "      <th>op_criminals_dont_know</th>\n",
       "      <th>op_criminals_not_harsh_enough</th>\n",
       "      <th>op_criminals_too_harsh</th>\n",
       "    </tr>\n",
       "  </thead>\n",
       "  <tbody>\n",
       "    <tr>\n",
       "      <th>age</th>\n",
       "      <td>1.000000</td>\n",
       "      <td>0.015632</td>\n",
       "      <td>0.099166</td>\n",
       "      <td>0.028452</td>\n",
       "      <td>0.332969</td>\n",
       "      <td>0.075042</td>\n",
       "      <td>0.112645</td>\n",
       "      <td>0.007088</td>\n",
       "      <td>0.179934</td>\n",
       "      <td>0.168944</td>\n",
       "      <td>...</td>\n",
       "      <td>0.003863</td>\n",
       "      <td>0.032124</td>\n",
       "      <td>0.003494</td>\n",
       "      <td>0.007653</td>\n",
       "      <td>0.022744</td>\n",
       "      <td>0.019885</td>\n",
       "      <td>0.041536</td>\n",
       "      <td>0.045341</td>\n",
       "      <td>0.073517</td>\n",
       "      <td>0.122800</td>\n",
       "    </tr>\n",
       "    <tr>\n",
       "      <th>sex</th>\n",
       "      <td>0.015632</td>\n",
       "      <td>1.000000</td>\n",
       "      <td>0.035410</td>\n",
       "      <td>0.005795</td>\n",
       "      <td>0.191657</td>\n",
       "      <td>0.114480</td>\n",
       "      <td>0.065530</td>\n",
       "      <td>0.003635</td>\n",
       "      <td>0.132610</td>\n",
       "      <td>0.236969</td>\n",
       "      <td>...</td>\n",
       "      <td>0.061748</td>\n",
       "      <td>0.091320</td>\n",
       "      <td>0.031899</td>\n",
       "      <td>0.071274</td>\n",
       "      <td>0.081130</td>\n",
       "      <td>0.049998</td>\n",
       "      <td>0.047792</td>\n",
       "      <td>0.052180</td>\n",
       "      <td>0.039471</td>\n",
       "      <td>0.041079</td>\n",
       "    </tr>\n",
       "    <tr>\n",
       "      <th>siblings</th>\n",
       "      <td>0.099166</td>\n",
       "      <td>0.035410</td>\n",
       "      <td>1.000000</td>\n",
       "      <td>0.001450</td>\n",
       "      <td>0.082884</td>\n",
       "      <td>0.072458</td>\n",
       "      <td>0.041017</td>\n",
       "      <td>0.050227</td>\n",
       "      <td>0.076315</td>\n",
       "      <td>0.146826</td>\n",
       "      <td>...</td>\n",
       "      <td>0.034461</td>\n",
       "      <td>0.069823</td>\n",
       "      <td>0.082750</td>\n",
       "      <td>0.002267</td>\n",
       "      <td>0.039546</td>\n",
       "      <td>0.041990</td>\n",
       "      <td>0.047692</td>\n",
       "      <td>0.047213</td>\n",
       "      <td>0.016063</td>\n",
       "      <td>0.069739</td>\n",
       "    </tr>\n",
       "    <tr>\n",
       "      <th>place_size_000s</th>\n",
       "      <td>0.028452</td>\n",
       "      <td>0.005795</td>\n",
       "      <td>0.001450</td>\n",
       "      <td>1.000000</td>\n",
       "      <td>0.003751</td>\n",
       "      <td>0.024341</td>\n",
       "      <td>0.027047</td>\n",
       "      <td>0.027569</td>\n",
       "      <td>0.036063</td>\n",
       "      <td>0.018684</td>\n",
       "      <td>...</td>\n",
       "      <td>0.005948</td>\n",
       "      <td>0.019434</td>\n",
       "      <td>0.028368</td>\n",
       "      <td>0.025989</td>\n",
       "      <td>0.074386</td>\n",
       "      <td>0.064580</td>\n",
       "      <td>0.023077</td>\n",
       "      <td>0.000991</td>\n",
       "      <td>0.006312</td>\n",
       "      <td>0.036097</td>\n",
       "    </tr>\n",
       "    <tr>\n",
       "      <th>hours_worked</th>\n",
       "      <td>0.332969</td>\n",
       "      <td>0.191657</td>\n",
       "      <td>0.082884</td>\n",
       "      <td>0.003751</td>\n",
       "      <td>1.000000</td>\n",
       "      <td>0.124786</td>\n",
       "      <td>0.068877</td>\n",
       "      <td>0.124075</td>\n",
       "      <td>0.095679</td>\n",
       "      <td>0.093076</td>\n",
       "      <td>...</td>\n",
       "      <td>0.015456</td>\n",
       "      <td>0.007172</td>\n",
       "      <td>0.005284</td>\n",
       "      <td>0.021232</td>\n",
       "      <td>0.020694</td>\n",
       "      <td>0.011300</td>\n",
       "      <td>0.027895</td>\n",
       "      <td>0.019979</td>\n",
       "      <td>0.026001</td>\n",
       "      <td>0.010500</td>\n",
       "    </tr>\n",
       "  </tbody>\n",
       "</table>\n",
       "<p>5 rows × 195 columns</p>\n",
       "</div>"
      ],
      "text/plain": [
       "                      age       sex  siblings  place_size_000s  hours_worked  \\\n",
       "age              1.000000  0.015632  0.099166         0.028452      0.332969   \n",
       "sex              0.015632  1.000000  0.035410         0.005795      0.191657   \n",
       "siblings         0.099166  0.035410  1.000000         0.001450      0.082884   \n",
       "place_size_000s  0.028452  0.005795  0.001450         1.000000      0.003751   \n",
       "hours_worked     0.332969  0.191657  0.082884         0.003751      1.000000   \n",
       "\n",
       "                   income  same_relig_raised     happy  relig_strength  \\\n",
       "age              0.075042           0.112645  0.007088        0.179934   \n",
       "sex              0.114480           0.065530  0.003635        0.132610   \n",
       "siblings         0.072458           0.041017  0.050227        0.076315   \n",
       "place_size_000s  0.024341           0.027047  0.027569        0.036063   \n",
       "hours_worked     0.124786           0.068877  0.124075        0.095679   \n",
       "\n",
       "                     pray  ...  op_scires_dont_know  op_scires_too_little  \\\n",
       "age              0.168944  ...             0.003863              0.032124   \n",
       "sex              0.236969  ...             0.061748              0.091320   \n",
       "siblings         0.146826  ...             0.034461              0.069823   \n",
       "place_size_000s  0.018684  ...             0.005948              0.019434   \n",
       "hours_worked     0.093076  ...             0.015456              0.007172   \n",
       "\n",
       "                 op_scires_too_much  op_cappun_dont_know  op_cappun_favor  \\\n",
       "age                        0.003494             0.007653         0.022744   \n",
       "sex                        0.031899             0.071274         0.081130   \n",
       "siblings                   0.082750             0.002267         0.039546   \n",
       "place_size_000s            0.028368             0.025989         0.074386   \n",
       "hours_worked               0.005284             0.021232         0.020694   \n",
       "\n",
       "                 op_cappun_oppose  op_criminals_about_right  \\\n",
       "age                      0.019885                  0.041536   \n",
       "sex                      0.049998                  0.047792   \n",
       "siblings                 0.041990                  0.047692   \n",
       "place_size_000s          0.064580                  0.023077   \n",
       "hours_worked             0.011300                  0.027895   \n",
       "\n",
       "                 op_criminals_dont_know  op_criminals_not_harsh_enough  \\\n",
       "age                            0.045341                       0.073517   \n",
       "sex                            0.052180                       0.039471   \n",
       "siblings                       0.047213                       0.016063   \n",
       "place_size_000s                0.000991                       0.006312   \n",
       "hours_worked                   0.019979                       0.026001   \n",
       "\n",
       "                 op_criminals_too_harsh  \n",
       "age                            0.122800  \n",
       "sex                            0.041079  \n",
       "siblings                       0.069739  \n",
       "place_size_000s                0.036097  \n",
       "hours_worked                   0.010500  \n",
       "\n",
       "[5 rows x 195 columns]"
      ]
     },
     "execution_count": 104,
     "metadata": {},
     "output_type": "execute_result"
    }
   ],
   "source": [
    "corr_matrix.head()"
   ]
  },
  {
   "cell_type": "code",
   "execution_count": 105,
   "metadata": {},
   "outputs": [],
   "source": [
    "upper = corr_matrix.where(np.triu(np.ones(corr_matrix.shape), k=1).astype(np.bool))"
   ]
  },
  {
   "cell_type": "code",
   "execution_count": 106,
   "metadata": {},
   "outputs": [],
   "source": [
    "collinear_features = [column for column in upper.columns if any(upper[column] > 0.70)]"
   ]
  },
  {
   "cell_type": "code",
   "execution_count": 107,
   "metadata": {},
   "outputs": [
    {
     "data": {
      "text/plain": [
       "['race_white',\n",
       " 'beltcode_urban',\n",
       " 'residence_16_urban',\n",
       " 'region_16_East_North_Central',\n",
       " 'region_16_Middle_Atlantic',\n",
       " 'region_16_New_England',\n",
       " 'region_16_West_North_Central',\n",
       " 'region_16_West_South_Central',\n",
       " 'live_who_16_not_applicable',\n",
       " 'father_ed_unknown',\n",
       " 'father_occupation_unknown',\n",
       " 'class_working_class',\n",
       " 'religion_now_none',\n",
       " 'postlife_yes',\n",
       " 'op_road_too_little',\n",
       " 'op_socsec_too_little',\n",
       " 'op_masstrans_too_little',\n",
       " 'op_parks_too_little',\n",
       " 'op_childcare_too_little',\n",
       " 'op_cappun_oppose']"
      ]
     },
     "execution_count": 107,
     "metadata": {},
     "output_type": "execute_result"
    }
   ],
   "source": [
    "collinear_features"
   ]
  },
  {
   "cell_type": "code",
   "execution_count": 108,
   "metadata": {},
   "outputs": [],
   "source": [
    "lower = corr_matrix.where(np.tril(np.ones(corr_matrix.shape), k=-1).astype(np.bool))"
   ]
  },
  {
   "cell_type": "code",
   "execution_count": 109,
   "metadata": {},
   "outputs": [
    {
     "data": {
      "text/html": [
       "<div>\n",
       "<style scoped>\n",
       "    .dataframe tbody tr th:only-of-type {\n",
       "        vertical-align: middle;\n",
       "    }\n",
       "\n",
       "    .dataframe tbody tr th {\n",
       "        vertical-align: top;\n",
       "    }\n",
       "\n",
       "    .dataframe thead th {\n",
       "        text-align: right;\n",
       "    }\n",
       "</style>\n",
       "<table border=\"1\" class=\"dataframe\">\n",
       "  <thead>\n",
       "    <tr style=\"text-align: right;\">\n",
       "      <th></th>\n",
       "      <th>age</th>\n",
       "      <th>sex</th>\n",
       "      <th>siblings</th>\n",
       "      <th>place_size_000s</th>\n",
       "      <th>hours_worked</th>\n",
       "      <th>income</th>\n",
       "      <th>same_relig_raised</th>\n",
       "      <th>happy</th>\n",
       "      <th>relig_strength</th>\n",
       "      <th>pray</th>\n",
       "      <th>...</th>\n",
       "      <th>op_scires_dont_know</th>\n",
       "      <th>op_scires_too_little</th>\n",
       "      <th>op_scires_too_much</th>\n",
       "      <th>op_cappun_dont_know</th>\n",
       "      <th>op_cappun_favor</th>\n",
       "      <th>op_cappun_oppose</th>\n",
       "      <th>op_criminals_about_right</th>\n",
       "      <th>op_criminals_dont_know</th>\n",
       "      <th>op_criminals_not_harsh_enough</th>\n",
       "      <th>op_criminals_too_harsh</th>\n",
       "    </tr>\n",
       "  </thead>\n",
       "  <tbody>\n",
       "    <tr>\n",
       "      <th>age</th>\n",
       "      <td>NaN</td>\n",
       "      <td>NaN</td>\n",
       "      <td>NaN</td>\n",
       "      <td>NaN</td>\n",
       "      <td>NaN</td>\n",
       "      <td>NaN</td>\n",
       "      <td>NaN</td>\n",
       "      <td>NaN</td>\n",
       "      <td>NaN</td>\n",
       "      <td>NaN</td>\n",
       "      <td>...</td>\n",
       "      <td>NaN</td>\n",
       "      <td>NaN</td>\n",
       "      <td>NaN</td>\n",
       "      <td>NaN</td>\n",
       "      <td>NaN</td>\n",
       "      <td>NaN</td>\n",
       "      <td>NaN</td>\n",
       "      <td>NaN</td>\n",
       "      <td>NaN</td>\n",
       "      <td>NaN</td>\n",
       "    </tr>\n",
       "    <tr>\n",
       "      <th>sex</th>\n",
       "      <td>0.015632</td>\n",
       "      <td>NaN</td>\n",
       "      <td>NaN</td>\n",
       "      <td>NaN</td>\n",
       "      <td>NaN</td>\n",
       "      <td>NaN</td>\n",
       "      <td>NaN</td>\n",
       "      <td>NaN</td>\n",
       "      <td>NaN</td>\n",
       "      <td>NaN</td>\n",
       "      <td>...</td>\n",
       "      <td>NaN</td>\n",
       "      <td>NaN</td>\n",
       "      <td>NaN</td>\n",
       "      <td>NaN</td>\n",
       "      <td>NaN</td>\n",
       "      <td>NaN</td>\n",
       "      <td>NaN</td>\n",
       "      <td>NaN</td>\n",
       "      <td>NaN</td>\n",
       "      <td>NaN</td>\n",
       "    </tr>\n",
       "    <tr>\n",
       "      <th>siblings</th>\n",
       "      <td>0.099166</td>\n",
       "      <td>0.035410</td>\n",
       "      <td>NaN</td>\n",
       "      <td>NaN</td>\n",
       "      <td>NaN</td>\n",
       "      <td>NaN</td>\n",
       "      <td>NaN</td>\n",
       "      <td>NaN</td>\n",
       "      <td>NaN</td>\n",
       "      <td>NaN</td>\n",
       "      <td>...</td>\n",
       "      <td>NaN</td>\n",
       "      <td>NaN</td>\n",
       "      <td>NaN</td>\n",
       "      <td>NaN</td>\n",
       "      <td>NaN</td>\n",
       "      <td>NaN</td>\n",
       "      <td>NaN</td>\n",
       "      <td>NaN</td>\n",
       "      <td>NaN</td>\n",
       "      <td>NaN</td>\n",
       "    </tr>\n",
       "    <tr>\n",
       "      <th>place_size_000s</th>\n",
       "      <td>0.028452</td>\n",
       "      <td>0.005795</td>\n",
       "      <td>0.001450</td>\n",
       "      <td>NaN</td>\n",
       "      <td>NaN</td>\n",
       "      <td>NaN</td>\n",
       "      <td>NaN</td>\n",
       "      <td>NaN</td>\n",
       "      <td>NaN</td>\n",
       "      <td>NaN</td>\n",
       "      <td>...</td>\n",
       "      <td>NaN</td>\n",
       "      <td>NaN</td>\n",
       "      <td>NaN</td>\n",
       "      <td>NaN</td>\n",
       "      <td>NaN</td>\n",
       "      <td>NaN</td>\n",
       "      <td>NaN</td>\n",
       "      <td>NaN</td>\n",
       "      <td>NaN</td>\n",
       "      <td>NaN</td>\n",
       "    </tr>\n",
       "    <tr>\n",
       "      <th>hours_worked</th>\n",
       "      <td>0.332969</td>\n",
       "      <td>0.191657</td>\n",
       "      <td>0.082884</td>\n",
       "      <td>0.003751</td>\n",
       "      <td>NaN</td>\n",
       "      <td>NaN</td>\n",
       "      <td>NaN</td>\n",
       "      <td>NaN</td>\n",
       "      <td>NaN</td>\n",
       "      <td>NaN</td>\n",
       "      <td>...</td>\n",
       "      <td>NaN</td>\n",
       "      <td>NaN</td>\n",
       "      <td>NaN</td>\n",
       "      <td>NaN</td>\n",
       "      <td>NaN</td>\n",
       "      <td>NaN</td>\n",
       "      <td>NaN</td>\n",
       "      <td>NaN</td>\n",
       "      <td>NaN</td>\n",
       "      <td>NaN</td>\n",
       "    </tr>\n",
       "  </tbody>\n",
       "</table>\n",
       "<p>5 rows × 195 columns</p>\n",
       "</div>"
      ],
      "text/plain": [
       "                      age       sex  siblings  place_size_000s  hours_worked  \\\n",
       "age                   NaN       NaN       NaN              NaN           NaN   \n",
       "sex              0.015632       NaN       NaN              NaN           NaN   \n",
       "siblings         0.099166  0.035410       NaN              NaN           NaN   \n",
       "place_size_000s  0.028452  0.005795  0.001450              NaN           NaN   \n",
       "hours_worked     0.332969  0.191657  0.082884         0.003751           NaN   \n",
       "\n",
       "                 income  same_relig_raised  happy  relig_strength  pray  ...  \\\n",
       "age                 NaN                NaN    NaN             NaN   NaN  ...   \n",
       "sex                 NaN                NaN    NaN             NaN   NaN  ...   \n",
       "siblings            NaN                NaN    NaN             NaN   NaN  ...   \n",
       "place_size_000s     NaN                NaN    NaN             NaN   NaN  ...   \n",
       "hours_worked        NaN                NaN    NaN             NaN   NaN  ...   \n",
       "\n",
       "                 op_scires_dont_know  op_scires_too_little  \\\n",
       "age                              NaN                   NaN   \n",
       "sex                              NaN                   NaN   \n",
       "siblings                         NaN                   NaN   \n",
       "place_size_000s                  NaN                   NaN   \n",
       "hours_worked                     NaN                   NaN   \n",
       "\n",
       "                 op_scires_too_much  op_cappun_dont_know  op_cappun_favor  \\\n",
       "age                             NaN                  NaN              NaN   \n",
       "sex                             NaN                  NaN              NaN   \n",
       "siblings                        NaN                  NaN              NaN   \n",
       "place_size_000s                 NaN                  NaN              NaN   \n",
       "hours_worked                    NaN                  NaN              NaN   \n",
       "\n",
       "                 op_cappun_oppose  op_criminals_about_right  \\\n",
       "age                           NaN                       NaN   \n",
       "sex                           NaN                       NaN   \n",
       "siblings                      NaN                       NaN   \n",
       "place_size_000s               NaN                       NaN   \n",
       "hours_worked                  NaN                       NaN   \n",
       "\n",
       "                 op_criminals_dont_know  op_criminals_not_harsh_enough  \\\n",
       "age                                 NaN                            NaN   \n",
       "sex                                 NaN                            NaN   \n",
       "siblings                            NaN                            NaN   \n",
       "place_size_000s                     NaN                            NaN   \n",
       "hours_worked                        NaN                            NaN   \n",
       "\n",
       "                 op_criminals_too_harsh  \n",
       "age                                 NaN  \n",
       "sex                                 NaN  \n",
       "siblings                            NaN  \n",
       "place_size_000s                     NaN  \n",
       "hours_worked                        NaN  \n",
       "\n",
       "[5 rows x 195 columns]"
      ]
     },
     "execution_count": 109,
     "metadata": {},
     "output_type": "execute_result"
    }
   ],
   "source": [
    "lower.head()"
   ]
  },
  {
   "cell_type": "code",
   "execution_count": 110,
   "metadata": {},
   "outputs": [],
   "source": [
    "collinear_features_a = [column for column in lower.columns if any(lower[column] > 0.70)]"
   ]
  },
  {
   "cell_type": "code",
   "execution_count": 111,
   "metadata": {},
   "outputs": [
    {
     "data": {
      "text/plain": [
       "['relig_strength',\n",
       " 'race_black',\n",
       " 'region_East_North_Central',\n",
       " 'region_Middle_Atlantic',\n",
       " 'region_New_England',\n",
       " 'region_West_North_Central',\n",
       " 'region_West_South_Central',\n",
       " 'beltcode_suburban',\n",
       " 'residence_16_rural',\n",
       " 'family_16_both_parents',\n",
       " 'family_16_single_parent',\n",
       " 'father_ed_unknown',\n",
       " 'class_middle_class',\n",
       " 'postlife_no',\n",
       " 'op_road_about_right',\n",
       " 'op_socsec_about_right',\n",
       " 'op_masstrans_about_right',\n",
       " 'op_parks_about_right',\n",
       " 'op_childcare_about_right',\n",
       " 'op_cappun_favor']"
      ]
     },
     "execution_count": 111,
     "metadata": {},
     "output_type": "execute_result"
    }
   ],
   "source": [
    "collinear_features_a"
   ]
  },
  {
   "cell_type": "code",
   "execution_count": 112,
   "metadata": {},
   "outputs": [],
   "source": [
    "most_collinear = corr_matrix.loc[collinear_features_a, collinear_features]"
   ]
  },
  {
   "cell_type": "code",
   "execution_count": 113,
   "metadata": {},
   "outputs": [
    {
     "data": {
      "image/png": "[encoded data removed]",
      "text/plain": [
       "<Figure size 864x720 with 2 Axes>"
      ]
     },
     "metadata": {
      "needs_background": "light"
     },
     "output_type": "display_data"
    }
   ],
   "source": [
    "plt.figure(figsize=(12, 10))\n",
    "sns.heatmap(most_collinear,\n",
    "           cmap='PRGn',\n",
    "           center=0)\n",
    "plt.show()"
   ]
  },
  {
   "cell_type": "code",
   "execution_count": 114,
   "metadata": {},
   "outputs": [
    {
     "name": "stderr",
     "output_type": "stream",
     "text": [
      "/usr/local/lib/python3.7/site-packages/pandas/core/frame.py:3940: SettingWithCopyWarning: \n",
      "A value is trying to be set on a copy of a slice from a DataFrame\n",
      "\n",
      "See the caveats in the documentation: http://pandas.pydata.org/pandas-docs/stable/indexing.html#indexing-view-versus-copy\n",
      "  errors=errors)\n"
     ]
    }
   ],
   "source": [
    "## Drop things on x axis\n",
    "\n",
    "## live_who_16_not_applicable is because it's the same as living with both parents - remove.\n",
    "\n",
    "## Region at 16 very correlated with region now\n",
    "## Could do a variable to see whether it has changed\n",
    "## This is already covered in geo mobility\n",
    "## Drop region at 16 for variables mentioned\n",
    "\n",
    "## Also drop one answer to each opinion question\n",
    "## Covered via other answers\n",
    "\n",
    "## Same for religion now = none\n",
    "## Same for beltcode urban\n",
    "## Same for residence 16 urban\n",
    "## Same for race white\n",
    "## Same for father ed unknown and father occ unknown\n",
    "## Same for working class\n",
    "\n",
    "x_train.drop(columns=['live_who_16_not_applicable',\n",
    "                      'region_16_East_North_Central', \n",
    "                      'region_16_Middle_Atlantic', \n",
    "                      'region_16_New_England', \n",
    "                      'region_16_West_North_Central',\n",
    "                      'region_16_West_South_Central',\n",
    "                      'postlife_yes', \n",
    "                      'op_road_too_little',\n",
    "                      'op_socsec_too_little',\n",
    "                      'op_masstrans_too_little',\n",
    "                      'op_parks_too_little',\n",
    "                      'op_childcare_too_little',\n",
    "                      'op_scires_too_little',\n",
    "                      'op_cappun_oppose',\n",
    "                      'religion_now_none',\n",
    "                      'beltcode_urban',\n",
    "                      'residence_16_urban',\n",
    "                      'race_white',\n",
    "                      'father_ed_unknown',\n",
    "                      'father_occupation_unknown',\n",
    "                      'class_working_class'], inplace=True)\n",
    "x_test.drop(columns=['live_who_16_not_applicable',\n",
    "                     'region_16_East_North_Central', \n",
    "                      'region_16_Middle_Atlantic', \n",
    "                      'region_16_New_England', \n",
    "                      'region_16_West_North_Central',\n",
    "                      'region_16_West_South_Central',\n",
    "                      'postlife_yes', \n",
    "                      'op_road_too_little',\n",
    "                      'op_socsec_too_little',\n",
    "                      'op_masstrans_too_little',\n",
    "                      'op_parks_too_little',\n",
    "                      'op_childcare_too_little',\n",
    "                      'op_scires_too_little',\n",
    "                      'op_cappun_oppose',\n",
    "                      'religion_now_none',\n",
    "                      'beltcode_urban',\n",
    "                      'residence_16_urban',\n",
    "                      'race_white',\n",
    "                      'father_ed_unknown',\n",
    "                      'father_occupation_unknown',\n",
    "                      'class_working_class'], inplace=True)"
   ]
  },
  {
   "cell_type": "code",
   "execution_count": 115,
   "metadata": {},
   "outputs": [
    {
     "data": {
      "image/png": "[encoded data removed]",
      "text/plain": [
       "<Figure size 864x720 with 2 Axes>"
      ]
     },
     "metadata": {
      "needs_background": "light"
     },
     "output_type": "display_data"
    }
   ],
   "source": [
    "## Could drop variables up to 0.5 correlation\n",
    "## Leave for now\n",
    "\n",
    "corr_matrix2 = x_train.corr().abs()\n",
    "upper2 = corr_matrix2.where(np.triu(np.ones(corr_matrix2.shape), k=1).astype(np.bool))\n",
    "lower2 = corr_matrix2.where(np.tril(np.ones(corr_matrix2.shape), k=-1).astype(np.bool))\n",
    "collinear_features2 = [column for column in upper2.columns if any(upper2[column] > 0.50)]\n",
    "collinear_features2a = [column for column in lower2.columns if any(lower2[column] > 0.50)]\n",
    "most_collinear2 = corr_matrix2.loc[collinear_features2a, collinear_features2]\n",
    "plt.figure(figsize=(12, 10))\n",
    "sns.heatmap(most_collinear2,\n",
    "           cmap='PRGn',\n",
    "           center=0)\n",
    "plt.show()"
   ]
  },
  {
   "cell_type": "code",
   "execution_count": 116,
   "metadata": {},
   "outputs": [
    {
     "data": {
      "text/plain": [
       "(3324, 174)"
      ]
     },
     "execution_count": 116,
     "metadata": {},
     "output_type": "execute_result"
    }
   ],
   "source": [
    "x_train.shape"
   ]
  },
  {
   "cell_type": "code",
   "execution_count": 117,
   "metadata": {},
   "outputs": [
    {
     "data": {
      "text/plain": [
       "1118"
      ]
     },
     "execution_count": 117,
     "metadata": {},
     "output_type": "execute_result"
    }
   ],
   "source": [
    "y_train.sum()"
   ]
  },
  {
   "cell_type": "markdown",
   "metadata": {},
   "source": [
    "## Transform continuous variables to be normal shaped"
   ]
  },
  {
   "cell_type": "code",
   "execution_count": 118,
   "metadata": {},
   "outputs": [
    {
     "data": {
      "image/png": "[encoded data removed]",
      "text/plain": [
       "<Figure size 432x288 with 1 Axes>"
      ]
     },
     "metadata": {
      "needs_background": "light"
     },
     "output_type": "display_data"
    },
    {
     "data": {
      "image/png": "[encoded data removed]",
      "text/plain": [
       "<Figure size 432x288 with 1 Axes>"
      ]
     },
     "metadata": {
      "needs_background": "light"
     },
     "output_type": "display_data"
    },
    {
     "data": {
      "image/png": "[encoded data removed]",
      "text/plain": [
       "<Figure size 432x288 with 1 Axes>"
      ]
     },
     "metadata": {
      "needs_background": "light"
     },
     "output_type": "display_data"
    },
    {
     "data": {
      "image/png": "[encoded data removed]",
      "text/plain": [
       "<Figure size 432x288 with 1 Axes>"
      ]
     },
     "metadata": {
      "needs_background": "light"
     },
     "output_type": "display_data"
    },
    {
     "data": {
      "image/png": "[encoded data removed]",
      "text/plain": [
       "<Figure size 432x288 with 1 Axes>"
      ]
     },
     "metadata": {
      "needs_background": "light"
     },
     "output_type": "display_data"
    },
    {
     "data": {
      "image/png": "[encoded data removed]",
      "text/plain": [
       "<Figure size 432x288 with 1 Axes>"
      ]
     },
     "metadata": {
      "needs_background": "light"
     },
     "output_type": "display_data"
    },
    {
     "data": {
      "image/png": "[encoded data removed]",
      "text/plain": [
       "<Figure size 432x288 with 1 Axes>"
      ]
     },
     "metadata": {
      "needs_background": "light"
     },
     "output_type": "display_data"
    },
    {
     "data": {
      "image/png": "[encoded data removed]",
      "text/plain": [
       "<Figure size 432x288 with 1 Axes>"
      ]
     },
     "metadata": {
      "needs_background": "light"
     },
     "output_type": "display_data"
    },
    {
     "data": {
      "image/png": "[encoded data removed]",
      "text/plain": [
       "<Figure size 432x288 with 1 Axes>"
      ]
     },
     "metadata": {
      "needs_background": "light"
     },
     "output_type": "display_data"
    },
    {
     "data": {
      "image/png": "[encoded data removed]",
      "text/plain": [
       "<Figure size 432x288 with 1 Axes>"
      ]
     },
     "metadata": {
      "needs_background": "light"
     },
     "output_type": "display_data"
    }
   ],
   "source": [
    "## View continuous variable shapes\n",
    "\n",
    "for i in np.arange(0, 10):\n",
    "    plt.hist(x_train.iloc[:, i])\n",
    "    plt.title(x_train.columns[i])\n",
    "    plt.show()"
   ]
  },
  {
   "cell_type": "code",
   "execution_count": 119,
   "metadata": {},
   "outputs": [
    {
     "data": {
      "image/png": "[encoded data removed]",
      "text/plain": [
       "<Figure size 432x288 with 1 Axes>"
      ]
     },
     "metadata": {
      "needs_background": "light"
     },
     "output_type": "display_data"
    }
   ],
   "source": [
    "## This looks better\n",
    "\n",
    "plt.hist(np.log(x_train.loc[:, 'siblings']+1))\n",
    "plt.title('siblings')\n",
    "plt.show()"
   ]
  },
  {
   "cell_type": "code",
   "execution_count": 120,
   "metadata": {},
   "outputs": [
    {
     "data": {
      "image/png": "[encoded data removed]",
      "text/plain": [
       "<Figure size 432x288 with 1 Axes>"
      ]
     },
     "metadata": {
      "needs_background": "light"
     },
     "output_type": "display_data"
    }
   ],
   "source": [
    "## This looks better\n",
    "\n",
    "plt.hist(np.log(x_train.loc[:, 'place_size_000s']+1))\n",
    "plt.title('place_size_000s')\n",
    "plt.show()"
   ]
  },
  {
   "cell_type": "code",
   "execution_count": 121,
   "metadata": {},
   "outputs": [
    {
     "data": {
      "image/png": "[encoded data removed]",
      "text/plain": [
       "<Figure size 432x288 with 1 Axes>"
      ]
     },
     "metadata": {
      "needs_background": "light"
     },
     "output_type": "display_data"
    }
   ],
   "source": [
    "## This does not look better\n",
    "\n",
    "plt.hist(np.log(x_train.loc[:, 'hours_worked']+1))\n",
    "plt.title('hours_worked')\n",
    "plt.show()"
   ]
  },
  {
   "cell_type": "code",
   "execution_count": 122,
   "metadata": {},
   "outputs": [
    {
     "data": {
      "image/png": "[encoded data removed]",
      "text/plain": [
       "<Figure size 432x288 with 1 Axes>"
      ]
     },
     "metadata": {
      "needs_background": "light"
     },
     "output_type": "display_data"
    }
   ],
   "source": [
    "## This does not look better\n",
    "\n",
    "plt.hist(np.log(x_train.loc[:, 'pray']+1))\n",
    "plt.title('pray')\n",
    "plt.show()"
   ]
  },
  {
   "cell_type": "code",
   "execution_count": 123,
   "metadata": {},
   "outputs": [
    {
     "name": "stderr",
     "output_type": "stream",
     "text": [
      "/usr/local/lib/python3.7/site-packages/ipykernel_launcher.py:3: SettingWithCopyWarning: \n",
      "A value is trying to be set on a copy of a slice from a DataFrame.\n",
      "Try using .loc[row_indexer,col_indexer] = value instead\n",
      "\n",
      "See the caveats in the documentation: http://pandas.pydata.org/pandas-docs/stable/indexing.html#indexing-view-versus-copy\n",
      "  This is separate from the ipykernel package so we can avoid doing imports until\n",
      "/usr/local/lib/python3.7/site-packages/ipykernel_launcher.py:4: SettingWithCopyWarning: \n",
      "A value is trying to be set on a copy of a slice from a DataFrame.\n",
      "Try using .loc[row_indexer,col_indexer] = value instead\n",
      "\n",
      "See the caveats in the documentation: http://pandas.pydata.org/pandas-docs/stable/indexing.html#indexing-view-versus-copy\n",
      "  after removing the cwd from sys.path.\n",
      "/usr/local/lib/python3.7/site-packages/ipykernel_launcher.py:7: SettingWithCopyWarning: \n",
      "A value is trying to be set on a copy of a slice from a DataFrame.\n",
      "Try using .loc[row_indexer,col_indexer] = value instead\n",
      "\n",
      "See the caveats in the documentation: http://pandas.pydata.org/pandas-docs/stable/indexing.html#indexing-view-versus-copy\n",
      "  import sys\n",
      "/usr/local/lib/python3.7/site-packages/ipykernel_launcher.py:8: SettingWithCopyWarning: \n",
      "A value is trying to be set on a copy of a slice from a DataFrame.\n",
      "Try using .loc[row_indexer,col_indexer] = value instead\n",
      "\n",
      "See the caveats in the documentation: http://pandas.pydata.org/pandas-docs/stable/indexing.html#indexing-view-versus-copy\n",
      "  \n"
     ]
    }
   ],
   "source": [
    "## Tranforms to include:\n",
    "\n",
    "x_train['siblings_log'] = np.log(x_train['siblings']+1)\n",
    "x_train['place_size_000s_log'] = np.log(x_train['place_size_000s']+1)\n",
    "x_train.drop(columns=['siblings', 'place_size_000s'], inplace=True)\n",
    "\n",
    "x_test['siblings_log'] = np.log(x_test['siblings']+1)\n",
    "x_test['place_size_000s_log'] = np.log(x_test['place_size_000s']+1)\n",
    "x_test.drop(columns=['siblings', 'place_size_000s'], inplace=True)"
   ]
  },
  {
   "cell_type": "code",
   "execution_count": 124,
   "metadata": {},
   "outputs": [
    {
     "data": {
      "text/html": [
       "<div>\n",
       "<style scoped>\n",
       "    .dataframe tbody tr th:only-of-type {\n",
       "        vertical-align: middle;\n",
       "    }\n",
       "\n",
       "    .dataframe tbody tr th {\n",
       "        vertical-align: top;\n",
       "    }\n",
       "\n",
       "    .dataframe thead th {\n",
       "        text-align: right;\n",
       "    }\n",
       "</style>\n",
       "<table border=\"1\" class=\"dataframe\">\n",
       "  <thead>\n",
       "    <tr style=\"text-align: right;\">\n",
       "      <th></th>\n",
       "      <th>age</th>\n",
       "      <th>sex</th>\n",
       "      <th>hours_worked</th>\n",
       "      <th>income</th>\n",
       "      <th>same_relig_raised</th>\n",
       "      <th>happy</th>\n",
       "      <th>relig_strength</th>\n",
       "      <th>pray</th>\n",
       "      <th>race_american_indian</th>\n",
       "      <th>race_black</th>\n",
       "      <th>...</th>\n",
       "      <th>op_scires_dont_know</th>\n",
       "      <th>op_scires_too_much</th>\n",
       "      <th>op_cappun_dont_know</th>\n",
       "      <th>op_cappun_favor</th>\n",
       "      <th>op_criminals_about_right</th>\n",
       "      <th>op_criminals_dont_know</th>\n",
       "      <th>op_criminals_not_harsh_enough</th>\n",
       "      <th>op_criminals_too_harsh</th>\n",
       "      <th>siblings_log</th>\n",
       "      <th>place_size_000s_log</th>\n",
       "    </tr>\n",
       "  </thead>\n",
       "  <tbody>\n",
       "    <tr>\n",
       "      <th>3580</th>\n",
       "      <td>32.0</td>\n",
       "      <td>0</td>\n",
       "      <td>40.0</td>\n",
       "      <td>32500.000000</td>\n",
       "      <td>1</td>\n",
       "      <td>2.0</td>\n",
       "      <td>2.0</td>\n",
       "      <td>4.0</td>\n",
       "      <td>0</td>\n",
       "      <td>0</td>\n",
       "      <td>...</td>\n",
       "      <td>0</td>\n",
       "      <td>0</td>\n",
       "      <td>0</td>\n",
       "      <td>1</td>\n",
       "      <td>0</td>\n",
       "      <td>0</td>\n",
       "      <td>1</td>\n",
       "      <td>0</td>\n",
       "      <td>1.098612</td>\n",
       "      <td>2.302585</td>\n",
       "    </tr>\n",
       "    <tr>\n",
       "      <th>4369</th>\n",
       "      <td>52.0</td>\n",
       "      <td>0</td>\n",
       "      <td>0.0</td>\n",
       "      <td>21938.115530</td>\n",
       "      <td>1</td>\n",
       "      <td>3.0</td>\n",
       "      <td>2.0</td>\n",
       "      <td>2.0</td>\n",
       "      <td>0</td>\n",
       "      <td>0</td>\n",
       "      <td>...</td>\n",
       "      <td>0</td>\n",
       "      <td>0</td>\n",
       "      <td>0</td>\n",
       "      <td>1</td>\n",
       "      <td>0</td>\n",
       "      <td>0</td>\n",
       "      <td>1</td>\n",
       "      <td>0</td>\n",
       "      <td>1.609438</td>\n",
       "      <td>1.945910</td>\n",
       "    </tr>\n",
       "    <tr>\n",
       "      <th>3999</th>\n",
       "      <td>84.0</td>\n",
       "      <td>0</td>\n",
       "      <td>0.0</td>\n",
       "      <td>37190.263268</td>\n",
       "      <td>1</td>\n",
       "      <td>1.0</td>\n",
       "      <td>1.0</td>\n",
       "      <td>2.0</td>\n",
       "      <td>0</td>\n",
       "      <td>0</td>\n",
       "      <td>...</td>\n",
       "      <td>0</td>\n",
       "      <td>0</td>\n",
       "      <td>0</td>\n",
       "      <td>1</td>\n",
       "      <td>0</td>\n",
       "      <td>0</td>\n",
       "      <td>1</td>\n",
       "      <td>0</td>\n",
       "      <td>1.945910</td>\n",
       "      <td>3.496508</td>\n",
       "    </tr>\n",
       "    <tr>\n",
       "      <th>192</th>\n",
       "      <td>22.0</td>\n",
       "      <td>1</td>\n",
       "      <td>20.0</td>\n",
       "      <td>21250.000000</td>\n",
       "      <td>0</td>\n",
       "      <td>1.0</td>\n",
       "      <td>1.0</td>\n",
       "      <td>5.0</td>\n",
       "      <td>0</td>\n",
       "      <td>0</td>\n",
       "      <td>...</td>\n",
       "      <td>0</td>\n",
       "      <td>1</td>\n",
       "      <td>0</td>\n",
       "      <td>0</td>\n",
       "      <td>1</td>\n",
       "      <td>0</td>\n",
       "      <td>0</td>\n",
       "      <td>0</td>\n",
       "      <td>1.609438</td>\n",
       "      <td>2.197225</td>\n",
       "    </tr>\n",
       "    <tr>\n",
       "      <th>3996</th>\n",
       "      <td>23.0</td>\n",
       "      <td>0</td>\n",
       "      <td>0.0</td>\n",
       "      <td>11250.000000</td>\n",
       "      <td>1</td>\n",
       "      <td>2.0</td>\n",
       "      <td>2.0</td>\n",
       "      <td>1.0</td>\n",
       "      <td>0</td>\n",
       "      <td>0</td>\n",
       "      <td>...</td>\n",
       "      <td>0</td>\n",
       "      <td>0</td>\n",
       "      <td>0</td>\n",
       "      <td>0</td>\n",
       "      <td>0</td>\n",
       "      <td>0</td>\n",
       "      <td>0</td>\n",
       "      <td>1</td>\n",
       "      <td>1.386294</td>\n",
       "      <td>3.496508</td>\n",
       "    </tr>\n",
       "  </tbody>\n",
       "</table>\n",
       "<p>5 rows × 174 columns</p>\n",
       "</div>"
      ],
      "text/plain": [
       "       age  sex  hours_worked        income  same_relig_raised  happy  \\\n",
       "3580  32.0    0          40.0  32500.000000                  1    2.0   \n",
       "4369  52.0    0           0.0  21938.115530                  1    3.0   \n",
       "3999  84.0    0           0.0  37190.263268                  1    1.0   \n",
       "192   22.0    1          20.0  21250.000000                  0    1.0   \n",
       "3996  23.0    0           0.0  11250.000000                  1    2.0   \n",
       "\n",
       "      relig_strength  pray  race_american_indian  race_black  ...  \\\n",
       "3580             2.0   4.0                     0           0  ...   \n",
       "4369             2.0   2.0                     0           0  ...   \n",
       "3999             1.0   2.0                     0           0  ...   \n",
       "192              1.0   5.0                     0           0  ...   \n",
       "3996             2.0   1.0                     0           0  ...   \n",
       "\n",
       "      op_scires_dont_know  op_scires_too_much  op_cappun_dont_know  \\\n",
       "3580                    0                   0                    0   \n",
       "4369                    0                   0                    0   \n",
       "3999                    0                   0                    0   \n",
       "192                     0                   1                    0   \n",
       "3996                    0                   0                    0   \n",
       "\n",
       "      op_cappun_favor  op_criminals_about_right  op_criminals_dont_know  \\\n",
       "3580                1                         0                       0   \n",
       "4369                1                         0                       0   \n",
       "3999                1                         0                       0   \n",
       "192                 0                         1                       0   \n",
       "3996                0                         0                       0   \n",
       "\n",
       "      op_criminals_not_harsh_enough  op_criminals_too_harsh  siblings_log  \\\n",
       "3580                              1                       0      1.098612   \n",
       "4369                              1                       0      1.609438   \n",
       "3999                              1                       0      1.945910   \n",
       "192                               0                       0      1.609438   \n",
       "3996                              0                       1      1.386294   \n",
       "\n",
       "      place_size_000s_log  \n",
       "3580             2.302585  \n",
       "4369             1.945910  \n",
       "3999             3.496508  \n",
       "192              2.197225  \n",
       "3996             3.496508  \n",
       "\n",
       "[5 rows x 174 columns]"
      ]
     },
     "execution_count": 124,
     "metadata": {},
     "output_type": "execute_result"
    }
   ],
   "source": [
    "x_train.head()"
   ]
  },
  {
   "cell_type": "markdown",
   "metadata": {},
   "source": [
    "## Data variations"
   ]
  },
  {
   "cell_type": "markdown",
   "metadata": {},
   "source": [
    "### Scaling"
   ]
  },
  {
   "cell_type": "markdown",
   "metadata": {},
   "source": [
    "#### StandardScaler\n",
    "This is a standardization scaler - all variables mean 0 var 1."
   ]
  },
  {
   "cell_type": "code",
   "execution_count": 125,
   "metadata": {},
   "outputs": [
    {
     "name": "stderr",
     "output_type": "stream",
     "text": [
      "/usr/local/lib/python3.7/site-packages/sklearn/preprocessing/data.py:645: DataConversionWarning: Data with input dtype uint8, int64, float64 were all converted to float64 by StandardScaler.\n",
      "  return self.partial_fit(X, y)\n"
     ]
    }
   ],
   "source": [
    "standard_scaler = preprocessing.StandardScaler().fit(x_train)"
   ]
  },
  {
   "cell_type": "code",
   "execution_count": 126,
   "metadata": {},
   "outputs": [
    {
     "data": {
      "text/plain": [
       "StandardScaler(copy=True, with_mean=True, with_std=True)"
      ]
     },
     "execution_count": 126,
     "metadata": {},
     "output_type": "execute_result"
    }
   ],
   "source": [
    "standard_scaler"
   ]
  },
  {
   "cell_type": "code",
   "execution_count": 127,
   "metadata": {},
   "outputs": [
    {
     "name": "stderr",
     "output_type": "stream",
     "text": [
      "/usr/local/lib/python3.7/site-packages/ipykernel_launcher.py:1: DataConversionWarning: Data with input dtype uint8, int64, float64 were all converted to float64 by StandardScaler.\n",
      "  \"\"\"Entry point for launching an IPython kernel.\n",
      "/usr/local/lib/python3.7/site-packages/ipykernel_launcher.py:2: DataConversionWarning: Data with input dtype uint8, int64, float64 were all converted to float64 by StandardScaler.\n",
      "  \n"
     ]
    }
   ],
   "source": [
    "x_train_ss = standard_scaler.transform(x_train)\n",
    "x_test_ss = standard_scaler.transform(x_test)"
   ]
  },
  {
   "cell_type": "markdown",
   "metadata": {},
   "source": [
    "#### MinMaxScaler\n",
    "This is a normalization scaler - all variables in range 0 to 1."
   ]
  },
  {
   "cell_type": "code",
   "execution_count": 128,
   "metadata": {},
   "outputs": [
    {
     "name": "stderr",
     "output_type": "stream",
     "text": [
      "/usr/local/lib/python3.7/site-packages/sklearn/preprocessing/data.py:334: DataConversionWarning: Data with input dtype uint8, int64, float64 were all converted to float64 by MinMaxScaler.\n",
      "  return self.partial_fit(X, y)\n"
     ]
    }
   ],
   "source": [
    "min_max_scaler = preprocessing.MinMaxScaler().fit(x_train)"
   ]
  },
  {
   "cell_type": "code",
   "execution_count": 129,
   "metadata": {},
   "outputs": [
    {
     "data": {
      "text/plain": [
       "MinMaxScaler(copy=True, feature_range=(0, 1))"
      ]
     },
     "execution_count": 129,
     "metadata": {},
     "output_type": "execute_result"
    }
   ],
   "source": [
    "min_max_scaler"
   ]
  },
  {
   "cell_type": "code",
   "execution_count": 130,
   "metadata": {},
   "outputs": [],
   "source": [
    "x_train_mm = min_max_scaler.transform(x_train)\n",
    "x_test_mm = min_max_scaler.transform(x_test)"
   ]
  },
  {
   "cell_type": "markdown",
   "metadata": {},
   "source": [
    "## PCA"
   ]
  },
  {
   "cell_type": "markdown",
   "metadata": {},
   "source": [
    "#### StandardScaler data"
   ]
  },
  {
   "cell_type": "code",
   "execution_count": 132,
   "metadata": {},
   "outputs": [
    {
     "data": {
      "text/plain": [
       "PCA(copy=True, iterated_power='auto', n_components=None, random_state=None,\n",
       "  svd_solver='auto', tol=0.0, whiten=False)"
      ]
     },
     "execution_count": 132,
     "metadata": {},
     "output_type": "execute_result"
    }
   ],
   "source": [
    "pca_ss = PCA()\n",
    "pca_ss.fit(x_train_ss)"
   ]
  },
  {
   "cell_type": "code",
   "execution_count": 138,
   "metadata": {},
   "outputs": [
    {
     "data": {
      "text/plain": [
       "array([5.0724933 , 3.79136086, 3.42424698, 2.91746056, 2.514244  ,\n",
       "       2.31843554, 2.25946005, 2.20099787, 2.0507507 , 2.01343748])"
      ]
     },
     "execution_count": 138,
     "metadata": {},
     "output_type": "execute_result"
    }
   ],
   "source": [
    "pca_ss.explained_variance_[:10]"
   ]
  },
  {
   "cell_type": "code",
   "execution_count": 141,
   "metadata": {},
   "outputs": [
    {
     "data": {
      "text/plain": [
       "78"
      ]
     },
     "execution_count": 141,
     "metadata": {},
     "output_type": "execute_result"
    }
   ],
   "source": [
    "sum(pca_ss.explained_variance_ > 1)"
   ]
  },
  {
   "cell_type": "code",
   "execution_count": 139,
   "metadata": {},
   "outputs": [
    {
     "data": {
      "image/png": "[encoded data removed]",
      "text/plain": [
       "<Figure size 432x288 with 1 Axes>"
      ]
     },
     "metadata": {
      "needs_background": "light"
     },
     "output_type": "display_data"
    }
   ],
   "source": [
    "plt.plot(pca_ss.explained_variance_)\n",
    "plt.show()"
   ]
  },
  {
   "cell_type": "code",
   "execution_count": 143,
   "metadata": {},
   "outputs": [
    {
     "data": {
      "image/png": "[encoded data removed]",
      "text/plain": [
       "<Figure size 432x288 with 1 Axes>"
      ]
     },
     "metadata": {
      "needs_background": "light"
     },
     "output_type": "display_data"
    }
   ],
   "source": [
    "plt.plot(pca_ss.explained_variance_[:25])\n",
    "plt.show()"
   ]
  },
  {
   "cell_type": "code",
   "execution_count": 144,
   "metadata": {},
   "outputs": [],
   "source": [
    "## drastic change at point 5 - keep only 5?\n",
    "\n",
    "##pca_ss = PCA(n_components = 5)\n",
    "##pca_ss.fit(x_train_ss)\n",
    "##x_train_ss_pca = pca_ss.transform(x_train_ss)\n",
    "##x_test_ss_pca = pca_ss.transform(x_test_ss)"
   ]
  },
  {
   "cell_type": "markdown",
   "metadata": {},
   "source": [
    "#### MinMaxScaler data"
   ]
  },
  {
   "cell_type": "code",
   "execution_count": 145,
   "metadata": {},
   "outputs": [
    {
     "data": {
      "text/plain": [
       "PCA(copy=True, iterated_power='auto', n_components=None, random_state=None,\n",
       "  svd_solver='auto', tol=0.0, whiten=False)"
      ]
     },
     "execution_count": 145,
     "metadata": {},
     "output_type": "execute_result"
    }
   ],
   "source": [
    "pca_mm = PCA()\n",
    "pca_mm.fit(x_train_mm)"
   ]
  },
  {
   "cell_type": "code",
   "execution_count": 146,
   "metadata": {},
   "outputs": [
    {
     "data": {
      "text/plain": [
       "array([0.66984672, 0.59649421, 0.55726042, 0.4659343 , 0.42891324,\n",
       "       0.40036844, 0.35010119, 0.34192636, 0.31195455, 0.30470883])"
      ]
     },
     "execution_count": 146,
     "metadata": {},
     "output_type": "execute_result"
    }
   ],
   "source": [
    "pca_mm.explained_variance_[:10]"
   ]
  },
  {
   "cell_type": "code",
   "execution_count": 147,
   "metadata": {},
   "outputs": [
    {
     "data": {
      "image/png": "[encoded data removed]",
      "text/plain": [
       "<Figure size 432x288 with 1 Axes>"
      ]
     },
     "metadata": {
      "needs_background": "light"
     },
     "output_type": "display_data"
    }
   ],
   "source": [
    "plt.plot(pca_mm.explained_variance_)\n",
    "plt.show()"
   ]
  },
  {
   "cell_type": "code",
   "execution_count": 148,
   "metadata": {},
   "outputs": [
    {
     "data": {
      "image/png": "[encoded data removed]",
      "text/plain": [
       "<Figure size 432x288 with 1 Axes>"
      ]
     },
     "metadata": {
      "needs_background": "light"
     },
     "output_type": "display_data"
    }
   ],
   "source": [
    "plt.plot(pca_mm.explained_variance_[:50])\n",
    "plt.show()"
   ]
  },
  {
   "cell_type": "code",
   "execution_count": 149,
   "metadata": {},
   "outputs": [],
   "source": [
    "## Changes after about 11? Or maybe 27?\n",
    "\n",
    "##pca_mm = PCA(n_components=11)\n",
    "##pca_mm.fit(x_train_mm)\n",
    "##x_train_mm_pca = pca_mm.transform(x_train_mm)\n",
    "##x_test_mm_pca = pca_mm.transform(x_test_mm)"
   ]
  },
  {
   "cell_type": "markdown",
   "metadata": {},
   "source": [
    "## Preparing nested cross validation"
   ]
  },
  {
   "cell_type": "markdown",
   "metadata": {},
   "source": [
    "### KNN\n",
    "#### Unscaled data"
   ]
  },
  {
   "cell_type": "code",
   "execution_count": 206,
   "metadata": {},
   "outputs": [],
   "source": [
    "knn = KNeighborsClassifier()\n",
    "knn_param_grid = {'n_neighbors': np.arange(1, 31), \n",
    "                  'weights': ['uniform', 'distance']}"
   ]
  },
  {
   "cell_type": "code",
   "execution_count": 207,
   "metadata": {},
   "outputs": [],
   "source": [
    "inner_cv = StratifiedKFold(n_splits=5, random_state=5322)\n",
    "outer_cv = StratifiedKFold(n_splits=10, random_state=5322)"
   ]
  },
  {
   "cell_type": "code",
   "execution_count": 208,
   "metadata": {},
   "outputs": [],
   "source": [
    "knn_inner = GridSearchCV(estimator=knn, \n",
    "                         param_grid=knn_param_grid,\n",
    "                         cv=inner_cv,\n",
    "                         verbose=10)"
   ]
  },
  {
   "cell_type": "code",
   "execution_count": 210,
   "metadata": {},
   "outputs": [
    {
     "name": "stderr",
     "output_type": "stream",
     "text": [
      "/usr/local/lib/python3.7/site-packages/ipykernel_launcher.py:1: DeprecationWarning: time.clock has been deprecated in Python 3.3 and will be removed from Python 3.8: use time.perf_counter or time.process_time instead\n",
      "  \"\"\"Entry point for launching an IPython kernel.\n",
      "[Parallel(n_jobs=2)]: Using backend LokyBackend with 2 concurrent workers.\n",
      "[Parallel(n_jobs=2)]: Done   1 tasks      | elapsed:  1.2min\n",
      "[Parallel(n_jobs=2)]: Done   4 tasks      | elapsed:  2.4min\n"
     ]
    },
    {
     "name": "stdout",
     "output_type": "stream",
     "text": [
      "0.5681390000000022\n"
     ]
    },
    {
     "name": "stderr",
     "output_type": "stream",
     "text": [
      "[Parallel(n_jobs=2)]: Done  10 out of  10 | elapsed:  6.0min finished\n",
      "/usr/local/lib/python3.7/site-packages/ipykernel_launcher.py:10: DeprecationWarning: time.clock has been deprecated in Python 3.3 and will be removed from Python 3.8: use time.perf_counter or time.process_time instead\n",
      "  # Remove the CWD from sys.path while we load stuff.\n"
     ]
    }
   ],
   "source": [
    "start = time.clock()\n",
    "knn_scores = cross_validate(knn_inner, \n",
    "                            x_train, \n",
    "                            y_train,\n",
    "                            scoring='accuracy',\n",
    "                            cv=outer_cv,\n",
    "                            n_jobs=2,\n",
    "                            verbose=10,\n",
    "                            return_estimator=True)\n",
    "print(time.clock() - start)"
   ]
  },
  {
   "cell_type": "code",
   "execution_count": 211,
   "metadata": {},
   "outputs": [
    {
     "name": "stderr",
     "output_type": "stream",
     "text": [
      "/usr/local/lib/python3.7/site-packages/sklearn/utils/deprecation.py:125: FutureWarning: You are accessing a training score ('train_score'), which will not be available by default any more in 0.21. If you need training scores, please set return_train_score=True\n",
      "  warnings.warn(*warn_args, **warn_kwargs)\n"
     ]
    },
    {
     "data": {
      "text/plain": [
       "{'fit_time': array([69.14529204, 69.41971517, 71.89318991, 70.80280304, 75.26989007,\n",
       "        74.24636626, 70.25637674, 70.41429305, 68.89707375, 69.74057388]),\n",
       " 'score_time': array([0.03233314, 0.02831507, 0.05433393, 0.03043699, 0.0348978 ,\n",
       "        0.0289669 , 0.03366208, 0.03800869, 0.03203106, 0.02844119]),\n",
       " 'estimator': (GridSearchCV(cv=StratifiedKFold(n_splits=5, random_state=5322, shuffle=False),\n",
       "         error_score='raise-deprecating',\n",
       "         estimator=KNeighborsClassifier(algorithm='auto', leaf_size=30, metric='minkowski',\n",
       "             metric_params=None, n_jobs=None, n_neighbors=5, p=2,\n",
       "             weights='uniform'),\n",
       "         fit_params=None, iid='warn', n_jobs=None,\n",
       "         param_grid={'n_neighbors': array([ 1,  2,  3,  4,  5,  6,  7,  8,  9, 10, 11, 12, 13, 14, 15, 16, 17,\n",
       "         18, 19, 20, 21, 22, 23, 24, 25, 26, 27, 28, 29, 30]), 'weights': ['uniform', 'distance']},\n",
       "         pre_dispatch='2*n_jobs', refit=True, return_train_score='warn',\n",
       "         scoring=None, verbose=10),\n",
       "  GridSearchCV(cv=StratifiedKFold(n_splits=5, random_state=5322, shuffle=False),\n",
       "         error_score='raise-deprecating',\n",
       "         estimator=KNeighborsClassifier(algorithm='auto', leaf_size=30, metric='minkowski',\n",
       "             metric_params=None, n_jobs=None, n_neighbors=5, p=2,\n",
       "             weights='uniform'),\n",
       "         fit_params=None, iid='warn', n_jobs=None,\n",
       "         param_grid={'n_neighbors': array([ 1,  2,  3,  4,  5,  6,  7,  8,  9, 10, 11, 12, 13, 14, 15, 16, 17,\n",
       "         18, 19, 20, 21, 22, 23, 24, 25, 26, 27, 28, 29, 30]), 'weights': ['uniform', 'distance']},\n",
       "         pre_dispatch='2*n_jobs', refit=True, return_train_score='warn',\n",
       "         scoring=None, verbose=10),\n",
       "  GridSearchCV(cv=StratifiedKFold(n_splits=5, random_state=5322, shuffle=False),\n",
       "         error_score='raise-deprecating',\n",
       "         estimator=KNeighborsClassifier(algorithm='auto', leaf_size=30, metric='minkowski',\n",
       "             metric_params=None, n_jobs=None, n_neighbors=5, p=2,\n",
       "             weights='uniform'),\n",
       "         fit_params=None, iid='warn', n_jobs=None,\n",
       "         param_grid={'n_neighbors': array([ 1,  2,  3,  4,  5,  6,  7,  8,  9, 10, 11, 12, 13, 14, 15, 16, 17,\n",
       "         18, 19, 20, 21, 22, 23, 24, 25, 26, 27, 28, 29, 30]), 'weights': ['uniform', 'distance']},\n",
       "         pre_dispatch='2*n_jobs', refit=True, return_train_score='warn',\n",
       "         scoring=None, verbose=10),\n",
       "  GridSearchCV(cv=StratifiedKFold(n_splits=5, random_state=5322, shuffle=False),\n",
       "         error_score='raise-deprecating',\n",
       "         estimator=KNeighborsClassifier(algorithm='auto', leaf_size=30, metric='minkowski',\n",
       "             metric_params=None, n_jobs=None, n_neighbors=5, p=2,\n",
       "             weights='uniform'),\n",
       "         fit_params=None, iid='warn', n_jobs=None,\n",
       "         param_grid={'n_neighbors': array([ 1,  2,  3,  4,  5,  6,  7,  8,  9, 10, 11, 12, 13, 14, 15, 16, 17,\n",
       "         18, 19, 20, 21, 22, 23, 24, 25, 26, 27, 28, 29, 30]), 'weights': ['uniform', 'distance']},\n",
       "         pre_dispatch='2*n_jobs', refit=True, return_train_score='warn',\n",
       "         scoring=None, verbose=10),\n",
       "  GridSearchCV(cv=StratifiedKFold(n_splits=5, random_state=5322, shuffle=False),\n",
       "         error_score='raise-deprecating',\n",
       "         estimator=KNeighborsClassifier(algorithm='auto', leaf_size=30, metric='minkowski',\n",
       "             metric_params=None, n_jobs=None, n_neighbors=5, p=2,\n",
       "             weights='uniform'),\n",
       "         fit_params=None, iid='warn', n_jobs=None,\n",
       "         param_grid={'n_neighbors': array([ 1,  2,  3,  4,  5,  6,  7,  8,  9, 10, 11, 12, 13, 14, 15, 16, 17,\n",
       "         18, 19, 20, 21, 22, 23, 24, 25, 26, 27, 28, 29, 30]), 'weights': ['uniform', 'distance']},\n",
       "         pre_dispatch='2*n_jobs', refit=True, return_train_score='warn',\n",
       "         scoring=None, verbose=10),\n",
       "  GridSearchCV(cv=StratifiedKFold(n_splits=5, random_state=5322, shuffle=False),\n",
       "         error_score='raise-deprecating',\n",
       "         estimator=KNeighborsClassifier(algorithm='auto', leaf_size=30, metric='minkowski',\n",
       "             metric_params=None, n_jobs=None, n_neighbors=5, p=2,\n",
       "             weights='uniform'),\n",
       "         fit_params=None, iid='warn', n_jobs=None,\n",
       "         param_grid={'n_neighbors': array([ 1,  2,  3,  4,  5,  6,  7,  8,  9, 10, 11, 12, 13, 14, 15, 16, 17,\n",
       "         18, 19, 20, 21, 22, 23, 24, 25, 26, 27, 28, 29, 30]), 'weights': ['uniform', 'distance']},\n",
       "         pre_dispatch='2*n_jobs', refit=True, return_train_score='warn',\n",
       "         scoring=None, verbose=10),\n",
       "  GridSearchCV(cv=StratifiedKFold(n_splits=5, random_state=5322, shuffle=False),\n",
       "         error_score='raise-deprecating',\n",
       "         estimator=KNeighborsClassifier(algorithm='auto', leaf_size=30, metric='minkowski',\n",
       "             metric_params=None, n_jobs=None, n_neighbors=5, p=2,\n",
       "             weights='uniform'),\n",
       "         fit_params=None, iid='warn', n_jobs=None,\n",
       "         param_grid={'n_neighbors': array([ 1,  2,  3,  4,  5,  6,  7,  8,  9, 10, 11, 12, 13, 14, 15, 16, 17,\n",
       "         18, 19, 20, 21, 22, 23, 24, 25, 26, 27, 28, 29, 30]), 'weights': ['uniform', 'distance']},\n",
       "         pre_dispatch='2*n_jobs', refit=True, return_train_score='warn',\n",
       "         scoring=None, verbose=10),\n",
       "  GridSearchCV(cv=StratifiedKFold(n_splits=5, random_state=5322, shuffle=False),\n",
       "         error_score='raise-deprecating',\n",
       "         estimator=KNeighborsClassifier(algorithm='auto', leaf_size=30, metric='minkowski',\n",
       "             metric_params=None, n_jobs=None, n_neighbors=5, p=2,\n",
       "             weights='uniform'),\n",
       "         fit_params=None, iid='warn', n_jobs=None,\n",
       "         param_grid={'n_neighbors': array([ 1,  2,  3,  4,  5,  6,  7,  8,  9, 10, 11, 12, 13, 14, 15, 16, 17,\n",
       "         18, 19, 20, 21, 22, 23, 24, 25, 26, 27, 28, 29, 30]), 'weights': ['uniform', 'distance']},\n",
       "         pre_dispatch='2*n_jobs', refit=True, return_train_score='warn',\n",
       "         scoring=None, verbose=10),\n",
       "  GridSearchCV(cv=StratifiedKFold(n_splits=5, random_state=5322, shuffle=False),\n",
       "         error_score='raise-deprecating',\n",
       "         estimator=KNeighborsClassifier(algorithm='auto', leaf_size=30, metric='minkowski',\n",
       "             metric_params=None, n_jobs=None, n_neighbors=5, p=2,\n",
       "             weights='uniform'),\n",
       "         fit_params=None, iid='warn', n_jobs=None,\n",
       "         param_grid={'n_neighbors': array([ 1,  2,  3,  4,  5,  6,  7,  8,  9, 10, 11, 12, 13, 14, 15, 16, 17,\n",
       "         18, 19, 20, 21, 22, 23, 24, 25, 26, 27, 28, 29, 30]), 'weights': ['uniform', 'distance']},\n",
       "         pre_dispatch='2*n_jobs', refit=True, return_train_score='warn',\n",
       "         scoring=None, verbose=10),\n",
       "  GridSearchCV(cv=StratifiedKFold(n_splits=5, random_state=5322, shuffle=False),\n",
       "         error_score='raise-deprecating',\n",
       "         estimator=KNeighborsClassifier(algorithm='auto', leaf_size=30, metric='minkowski',\n",
       "             metric_params=None, n_jobs=None, n_neighbors=5, p=2,\n",
       "             weights='uniform'),\n",
       "         fit_params=None, iid='warn', n_jobs=None,\n",
       "         param_grid={'n_neighbors': array([ 1,  2,  3,  4,  5,  6,  7,  8,  9, 10, 11, 12, 13, 14, 15, 16, 17,\n",
       "         18, 19, 20, 21, 22, 23, 24, 25, 26, 27, 28, 29, 30]), 'weights': ['uniform', 'distance']},\n",
       "         pre_dispatch='2*n_jobs', refit=True, return_train_score='warn',\n",
       "         scoring=None, verbose=10)),\n",
       " 'test_score': array([0.69069069, 0.66066066, 0.65165165, 0.64264264, 0.62462462,\n",
       "        0.63663664, 0.64156627, 0.6686747 , 0.60725076, 0.66767372]),\n",
       " 'train_score': array([0.7111334 , 0.73988633, 0.72149783, 0.69007021, 0.69040455,\n",
       "        0.73152792, 0.6848262 , 0.67780749, 0.69595723, 0.68559973])}"
      ]
     },
     "execution_count": 211,
     "metadata": {},
     "output_type": "execute_result"
    }
   ],
   "source": [
    "knn_scores"
   ]
  },
  {
   "cell_type": "code",
   "execution_count": 212,
   "metadata": {},
   "outputs": [
    {
     "name": "stderr",
     "output_type": "stream",
     "text": [
      "[Parallel(n_jobs=2)]: Using backend LokyBackend with 2 concurrent workers.\n",
      "[Parallel(n_jobs=2)]: Done   1 tasks      | elapsed:  1.2min\n",
      "[Parallel(n_jobs=2)]: Done   4 tasks      | elapsed:  2.5min\n"
     ]
    },
    {
     "name": "stdout",
     "output_type": "stream",
     "text": [
      "0.46489199999999187\n"
     ]
    },
    {
     "name": "stderr",
     "output_type": "stream",
     "text": [
      "[Parallel(n_jobs=2)]: Done  10 out of  10 | elapsed:  5.9min finished\n"
     ]
    }
   ],
   "source": [
    "start = time.process_time()\n",
    "knn_scores_f1 = cross_validate(knn_inner, \n",
    "                               x_train, \n",
    "                               y_train, \n",
    "                               scoring='f1',\n",
    "                               cv=outer_cv,\n",
    "                               n_jobs=2,\n",
    "                               verbose=10,\n",
    "                               return_estimator=True)\n",
    "print(time.process_time() - start)"
   ]
  },
  {
   "cell_type": "code",
   "execution_count": 213,
   "metadata": {},
   "outputs": [
    {
     "name": "stderr",
     "output_type": "stream",
     "text": [
      "/usr/local/lib/python3.7/site-packages/sklearn/utils/deprecation.py:125: FutureWarning: You are accessing a training score ('train_score'), which will not be available by default any more in 0.21. If you need training scores, please set return_train_score=True\n",
      "  warnings.warn(*warn_args, **warn_kwargs)\n"
     ]
    },
    {
     "data": {
      "text/plain": [
       "{'fit_time': array([74.52329707, 74.75321174, 74.98834205, 73.95401025, 71.31198716,\n",
       "        70.40957808, 70.57052875, 70.75005221, 62.84848285, 63.66065788]),\n",
       " 'score_time': array([0.04126   , 0.02972007, 0.03802872, 0.03155088, 0.03878808,\n",
       "        0.03544903, 0.03291512, 0.03097773, 0.03146887, 0.02857709]),\n",
       " 'estimator': (GridSearchCV(cv=StratifiedKFold(n_splits=5, random_state=5322, shuffle=False),\n",
       "         error_score='raise-deprecating',\n",
       "         estimator=KNeighborsClassifier(algorithm='auto', leaf_size=30, metric='minkowski',\n",
       "             metric_params=None, n_jobs=None, n_neighbors=5, p=2,\n",
       "             weights='uniform'),\n",
       "         fit_params=None, iid='warn', n_jobs=None,\n",
       "         param_grid={'n_neighbors': array([ 1,  2,  3,  4,  5,  6,  7,  8,  9, 10, 11, 12, 13, 14, 15, 16, 17,\n",
       "         18, 19, 20, 21, 22, 23, 24, 25, 26, 27, 28, 29, 30]), 'weights': ['uniform', 'distance']},\n",
       "         pre_dispatch='2*n_jobs', refit=True, return_train_score='warn',\n",
       "         scoring=None, verbose=10),\n",
       "  GridSearchCV(cv=StratifiedKFold(n_splits=5, random_state=5322, shuffle=False),\n",
       "         error_score='raise-deprecating',\n",
       "         estimator=KNeighborsClassifier(algorithm='auto', leaf_size=30, metric='minkowski',\n",
       "             metric_params=None, n_jobs=None, n_neighbors=5, p=2,\n",
       "             weights='uniform'),\n",
       "         fit_params=None, iid='warn', n_jobs=None,\n",
       "         param_grid={'n_neighbors': array([ 1,  2,  3,  4,  5,  6,  7,  8,  9, 10, 11, 12, 13, 14, 15, 16, 17,\n",
       "         18, 19, 20, 21, 22, 23, 24, 25, 26, 27, 28, 29, 30]), 'weights': ['uniform', 'distance']},\n",
       "         pre_dispatch='2*n_jobs', refit=True, return_train_score='warn',\n",
       "         scoring=None, verbose=10),\n",
       "  GridSearchCV(cv=StratifiedKFold(n_splits=5, random_state=5322, shuffle=False),\n",
       "         error_score='raise-deprecating',\n",
       "         estimator=KNeighborsClassifier(algorithm='auto', leaf_size=30, metric='minkowski',\n",
       "             metric_params=None, n_jobs=None, n_neighbors=5, p=2,\n",
       "             weights='uniform'),\n",
       "         fit_params=None, iid='warn', n_jobs=None,\n",
       "         param_grid={'n_neighbors': array([ 1,  2,  3,  4,  5,  6,  7,  8,  9, 10, 11, 12, 13, 14, 15, 16, 17,\n",
       "         18, 19, 20, 21, 22, 23, 24, 25, 26, 27, 28, 29, 30]), 'weights': ['uniform', 'distance']},\n",
       "         pre_dispatch='2*n_jobs', refit=True, return_train_score='warn',\n",
       "         scoring=None, verbose=10),\n",
       "  GridSearchCV(cv=StratifiedKFold(n_splits=5, random_state=5322, shuffle=False),\n",
       "         error_score='raise-deprecating',\n",
       "         estimator=KNeighborsClassifier(algorithm='auto', leaf_size=30, metric='minkowski',\n",
       "             metric_params=None, n_jobs=None, n_neighbors=5, p=2,\n",
       "             weights='uniform'),\n",
       "         fit_params=None, iid='warn', n_jobs=None,\n",
       "         param_grid={'n_neighbors': array([ 1,  2,  3,  4,  5,  6,  7,  8,  9, 10, 11, 12, 13, 14, 15, 16, 17,\n",
       "         18, 19, 20, 21, 22, 23, 24, 25, 26, 27, 28, 29, 30]), 'weights': ['uniform', 'distance']},\n",
       "         pre_dispatch='2*n_jobs', refit=True, return_train_score='warn',\n",
       "         scoring=None, verbose=10),\n",
       "  GridSearchCV(cv=StratifiedKFold(n_splits=5, random_state=5322, shuffle=False),\n",
       "         error_score='raise-deprecating',\n",
       "         estimator=KNeighborsClassifier(algorithm='auto', leaf_size=30, metric='minkowski',\n",
       "             metric_params=None, n_jobs=None, n_neighbors=5, p=2,\n",
       "             weights='uniform'),\n",
       "         fit_params=None, iid='warn', n_jobs=None,\n",
       "         param_grid={'n_neighbors': array([ 1,  2,  3,  4,  5,  6,  7,  8,  9, 10, 11, 12, 13, 14, 15, 16, 17,\n",
       "         18, 19, 20, 21, 22, 23, 24, 25, 26, 27, 28, 29, 30]), 'weights': ['uniform', 'distance']},\n",
       "         pre_dispatch='2*n_jobs', refit=True, return_train_score='warn',\n",
       "         scoring=None, verbose=10),\n",
       "  GridSearchCV(cv=StratifiedKFold(n_splits=5, random_state=5322, shuffle=False),\n",
       "         error_score='raise-deprecating',\n",
       "         estimator=KNeighborsClassifier(algorithm='auto', leaf_size=30, metric='minkowski',\n",
       "             metric_params=None, n_jobs=None, n_neighbors=5, p=2,\n",
       "             weights='uniform'),\n",
       "         fit_params=None, iid='warn', n_jobs=None,\n",
       "         param_grid={'n_neighbors': array([ 1,  2,  3,  4,  5,  6,  7,  8,  9, 10, 11, 12, 13, 14, 15, 16, 17,\n",
       "         18, 19, 20, 21, 22, 23, 24, 25, 26, 27, 28, 29, 30]), 'weights': ['uniform', 'distance']},\n",
       "         pre_dispatch='2*n_jobs', refit=True, return_train_score='warn',\n",
       "         scoring=None, verbose=10),\n",
       "  GridSearchCV(cv=StratifiedKFold(n_splits=5, random_state=5322, shuffle=False),\n",
       "         error_score='raise-deprecating',\n",
       "         estimator=KNeighborsClassifier(algorithm='auto', leaf_size=30, metric='minkowski',\n",
       "             metric_params=None, n_jobs=None, n_neighbors=5, p=2,\n",
       "             weights='uniform'),\n",
       "         fit_params=None, iid='warn', n_jobs=None,\n",
       "         param_grid={'n_neighbors': array([ 1,  2,  3,  4,  5,  6,  7,  8,  9, 10, 11, 12, 13, 14, 15, 16, 17,\n",
       "         18, 19, 20, 21, 22, 23, 24, 25, 26, 27, 28, 29, 30]), 'weights': ['uniform', 'distance']},\n",
       "         pre_dispatch='2*n_jobs', refit=True, return_train_score='warn',\n",
       "         scoring=None, verbose=10),\n",
       "  GridSearchCV(cv=StratifiedKFold(n_splits=5, random_state=5322, shuffle=False),\n",
       "         error_score='raise-deprecating',\n",
       "         estimator=KNeighborsClassifier(algorithm='auto', leaf_size=30, metric='minkowski',\n",
       "             metric_params=None, n_jobs=None, n_neighbors=5, p=2,\n",
       "             weights='uniform'),\n",
       "         fit_params=None, iid='warn', n_jobs=None,\n",
       "         param_grid={'n_neighbors': array([ 1,  2,  3,  4,  5,  6,  7,  8,  9, 10, 11, 12, 13, 14, 15, 16, 17,\n",
       "         18, 19, 20, 21, 22, 23, 24, 25, 26, 27, 28, 29, 30]), 'weights': ['uniform', 'distance']},\n",
       "         pre_dispatch='2*n_jobs', refit=True, return_train_score='warn',\n",
       "         scoring=None, verbose=10),\n",
       "  GridSearchCV(cv=StratifiedKFold(n_splits=5, random_state=5322, shuffle=False),\n",
       "         error_score='raise-deprecating',\n",
       "         estimator=KNeighborsClassifier(algorithm='auto', leaf_size=30, metric='minkowski',\n",
       "             metric_params=None, n_jobs=None, n_neighbors=5, p=2,\n",
       "             weights='uniform'),\n",
       "         fit_params=None, iid='warn', n_jobs=None,\n",
       "         param_grid={'n_neighbors': array([ 1,  2,  3,  4,  5,  6,  7,  8,  9, 10, 11, 12, 13, 14, 15, 16, 17,\n",
       "         18, 19, 20, 21, 22, 23, 24, 25, 26, 27, 28, 29, 30]), 'weights': ['uniform', 'distance']},\n",
       "         pre_dispatch='2*n_jobs', refit=True, return_train_score='warn',\n",
       "         scoring=None, verbose=10),\n",
       "  GridSearchCV(cv=StratifiedKFold(n_splits=5, random_state=5322, shuffle=False),\n",
       "         error_score='raise-deprecating',\n",
       "         estimator=KNeighborsClassifier(algorithm='auto', leaf_size=30, metric='minkowski',\n",
       "             metric_params=None, n_jobs=None, n_neighbors=5, p=2,\n",
       "             weights='uniform'),\n",
       "         fit_params=None, iid='warn', n_jobs=None,\n",
       "         param_grid={'n_neighbors': array([ 1,  2,  3,  4,  5,  6,  7,  8,  9, 10, 11, 12, 13, 14, 15, 16, 17,\n",
       "         18, 19, 20, 21, 22, 23, 24, 25, 26, 27, 28, 29, 30]), 'weights': ['uniform', 'distance']},\n",
       "         pre_dispatch='2*n_jobs', refit=True, return_train_score='warn',\n",
       "         scoring=None, verbose=10)),\n",
       " 'test_score': array([0.38323353, 0.28025478, 0.25641026, 0.21192053, 0.21383648,\n",
       "        0.25766871, 0.17931034, 0.17910448, 0.17721519, 0.23611111]),\n",
       " 'train_score': array([0.4       , 0.46418733, 0.43448744, 0.30561798, 0.33285303,\n",
       "        0.45706558, 0.28830189, 0.25502318, 0.35552408, 0.27110767])}"
      ]
     },
     "execution_count": 213,
     "metadata": {},
     "output_type": "execute_result"
    }
   ],
   "source": [
    "knn_scores_f1"
   ]
  },
  {
   "cell_type": "markdown",
   "metadata": {},
   "source": [
    "#### StandardScaler data"
   ]
  },
  {
   "cell_type": "code",
   "execution_count": null,
   "metadata": {},
   "outputs": [
    {
     "name": "stderr",
     "output_type": "stream",
     "text": [
      "/usr/local/lib/python3.7/site-packages/ipykernel_launcher.py:1: DeprecationWarning: time.clock has been deprecated in Python 3.3 and will be removed from Python 3.8: use time.perf_counter or time.process_time instead\n",
      "  \"\"\"Entry point for launching an IPython kernel.\n",
      "[Parallel(n_jobs=2)]: Using backend LokyBackend with 2 concurrent workers.\n",
      "[Parallel(n_jobs=2)]: Done   1 tasks      | elapsed: 11.8min\n",
      "[Parallel(n_jobs=2)]: Done   4 tasks      | elapsed: 23.0min\n"
     ]
    }
   ],
   "source": [
    "start = time.clock()\n",
    "knn_scores_ss = cross_validate(knn_inner, \n",
    "                               x_train_ss, \n",
    "                               y_train,\n",
    "                               scoring='accuracy',\n",
    "                               cv=outer_cv,\n",
    "                               n_jobs=2,\n",
    "                               verbose=10,\n",
    "                               return_estimator=True)\n",
    "print(time.clock() - start)"
   ]
  },
  {
   "cell_type": "code",
   "execution_count": null,
   "metadata": {},
   "outputs": [],
   "source": [
    "knn_scores_ss"
   ]
  },
  {
   "cell_type": "code",
   "execution_count": null,
   "metadata": {},
   "outputs": [],
   "source": [
    "start = time.process_time()\n",
    "knn_scores_ss_f1 = cross_validate(knn_inner, \n",
    "                                  x_train_ss, \n",
    "                                  y_train, \n",
    "                                  scoring='f1',\n",
    "                                  cv=outer_cv,\n",
    "                                  n_jobs=2,\n",
    "                                  verbose=10,\n",
    "                                  return_estimator=True)\n",
    "print(time.process_time() - start)"
   ]
  },
  {
   "cell_type": "code",
   "execution_count": null,
   "metadata": {},
   "outputs": [],
   "source": [
    "knn_scores_ss_f1"
   ]
  },
  {
   "cell_type": "markdown",
   "metadata": {},
   "source": [
    "#### MinMaxScaler data"
   ]
  },
  {
   "cell_type": "code",
   "execution_count": null,
   "metadata": {},
   "outputs": [],
   "source": [
    "start = time.clock()\n",
    "knn_scores_mm = cross_validate(knn_inner, \n",
    "                               x_train_mm, \n",
    "                               y_train,\n",
    "                               scoring='accuracy',\n",
    "                               cv=outer_cv,\n",
    "                               n_jobs=2,\n",
    "                               verbose=10,\n",
    "                               return_estimator=True)\n",
    "print(time.clock() - start)"
   ]
  },
  {
   "cell_type": "code",
   "execution_count": null,
   "metadata": {},
   "outputs": [],
   "source": [
    "knn_scores_mm"
   ]
  },
  {
   "cell_type": "code",
   "execution_count": null,
   "metadata": {},
   "outputs": [],
   "source": [
    "start = time.process_time()\n",
    "knn_scores_mm_f1 = cross_validate(knn_inner, \n",
    "                                  x_train_mm, \n",
    "                                  y_train, \n",
    "                                  scoring='f1',\n",
    "                                  cv=outer_cv,\n",
    "                                  n_jobs=2,\n",
    "                                  verbose=10,\n",
    "                                  return_estimator=True)\n",
    "print(time.process_time() - start)"
   ]
  },
  {
   "cell_type": "code",
   "execution_count": null,
   "metadata": {},
   "outputs": [],
   "source": [
    "knn_scores_mm_f1"
   ]
  },
  {
   "cell_type": "code",
   "execution_count": null,
   "metadata": {},
   "outputs": [],
   "source": [
    "## Things that are interesting\n",
    "## Graph showing how F1 score changes with neighbors\n",
    "\n",
    "\n",
    "## How to split manually\n",
    "\n",
    "##outer_folds = StratifiedKFold(n_splits=5, random_state=5322)\n",
    "##outer_arry_ls_x_train=[]\n",
    "##outer_arry_ls_x_test=[]\n",
    "\n",
    "##for train, test in outer_folds.split(x_train, y_train):\n",
    "##    x_outer_train, x_outer_test = x_train.iloc[train], x_train.iloc[test]\n",
    "##   outer_arry_ls_x_train.append(x_outer_train)\n",
    "##    outer_arry_ls_x_test.append(x_outer_test)\n",
    "##    y_outer_train, y_outer_test = y_train.iloc[train], y_train.iloc[test]"
   ]
  }
 ],
 "metadata": {
  "kernelspec": {
   "display_name": "Python 3",
   "language": "python",
   "name": "python3"
  },
  "language_info": {
   "codemirror_mode": {
    "name": "ipython",
    "version": 3
   },
   "file_extension": ".py",
   "mimetype": "text/x-python",
   "name": "python",
   "nbconvert_exporter": "python",
   "pygments_lexer": "ipython3",
   "version": "3.7.3"
  }
 },
 "nbformat": 4,
 "nbformat_minor": 2
}
