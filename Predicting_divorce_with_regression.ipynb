{
 "cells": [
  {
   "cell_type": "code",
   "execution_count": 2,
   "metadata": {},
   "outputs": [],
   "source": [
    "import pandas as pd\n",
    "import numpy as np\n",
    "import matplotlib.pyplot as plt\n",
    "import seaborn as sns\n",
    "import math\n",
    "%matplotlib inline\n",
    "\n",
    "import sklearn\n",
    "from sklearn import linear_model\n",
    "from sklearn import preprocessing"
   ]
  },
  {
   "cell_type": "markdown",
   "metadata": {},
   "source": [
    "## Load dataset"
   ]
  },
  {
   "cell_type": "code",
   "execution_count": 3,
   "metadata": {},
   "outputs": [
    {
     "data": {
      "text/html": [
       "<div>\n",
       "<style scoped>\n",
       "    .dataframe tbody tr th:only-of-type {\n",
       "        vertical-align: middle;\n",
       "    }\n",
       "\n",
       "    .dataframe tbody tr th {\n",
       "        vertical-align: top;\n",
       "    }\n",
       "\n",
       "    .dataframe thead th {\n",
       "        text-align: right;\n",
       "    }\n",
       "</style>\n",
       "<table border=\"1\" class=\"dataframe\">\n",
       "  <thead>\n",
       "    <tr style=\"text-align: right;\">\n",
       "      <th></th>\n",
       "      <th>YEAR</th>\n",
       "      <th>ID</th>\n",
       "      <th>INTID</th>\n",
       "      <th>FEEUSED</th>\n",
       "      <th>FEELEVEL</th>\n",
       "      <th>DATEINTV</th>\n",
       "      <th>LNGTHINV</th>\n",
       "      <th>INTAGE</th>\n",
       "      <th>INTETHN</th>\n",
       "      <th>MODE</th>\n",
       "      <th>...</th>\n",
       "      <th>SAMPCODE</th>\n",
       "      <th>SAMPLE</th>\n",
       "      <th>OVERSAMP</th>\n",
       "      <th>WTSS</th>\n",
       "      <th>WTSSNR</th>\n",
       "      <th>WTSSALL</th>\n",
       "      <th>WTCOMB</th>\n",
       "      <th>WTCOMBNR</th>\n",
       "      <th>VSTRAT</th>\n",
       "      <th>VPSU</th>\n",
       "    </tr>\n",
       "  </thead>\n",
       "  <tbody>\n",
       "    <tr>\n",
       "      <th>0</th>\n",
       "      <td>2012</td>\n",
       "      <td>1</td>\n",
       "      <td>49</td>\n",
       "      <td>1</td>\n",
       "      <td>75</td>\n",
       "      <td>721</td>\n",
       "      <td>69</td>\n",
       "      <td>60</td>\n",
       "      <td>1</td>\n",
       "      <td>1</td>\n",
       "      <td>...</td>\n",
       "      <td>601</td>\n",
       "      <td>10</td>\n",
       "      <td>1</td>\n",
       "      <td>2.621963</td>\n",
       "      <td>2.869532</td>\n",
       "      <td>2.621963</td>\n",
       "      <td>6.402159</td>\n",
       "      <td>7.006659</td>\n",
       "      <td>-1</td>\n",
       "      <td>-1</td>\n",
       "    </tr>\n",
       "    <tr>\n",
       "      <th>1</th>\n",
       "      <td>2012</td>\n",
       "      <td>2</td>\n",
       "      <td>150</td>\n",
       "      <td>1</td>\n",
       "      <td>75</td>\n",
       "      <td>624</td>\n",
       "      <td>53</td>\n",
       "      <td>32</td>\n",
       "      <td>1</td>\n",
       "      <td>1</td>\n",
       "      <td>...</td>\n",
       "      <td>601</td>\n",
       "      <td>10</td>\n",
       "      <td>1</td>\n",
       "      <td>3.495950</td>\n",
       "      <td>3.826043</td>\n",
       "      <td>3.495950</td>\n",
       "      <td>6.514477</td>\n",
       "      <td>7.129583</td>\n",
       "      <td>-1</td>\n",
       "      <td>-1</td>\n",
       "    </tr>\n",
       "    <tr>\n",
       "      <th>2</th>\n",
       "      <td>2012</td>\n",
       "      <td>3</td>\n",
       "      <td>150</td>\n",
       "      <td>1</td>\n",
       "      <td>75</td>\n",
       "      <td>627</td>\n",
       "      <td>77</td>\n",
       "      <td>32</td>\n",
       "      <td>1</td>\n",
       "      <td>1</td>\n",
       "      <td>...</td>\n",
       "      <td>601</td>\n",
       "      <td>10</td>\n",
       "      <td>1</td>\n",
       "      <td>1.747975</td>\n",
       "      <td>1.913021</td>\n",
       "      <td>1.747975</td>\n",
       "      <td>1.671130</td>\n",
       "      <td>1.828920</td>\n",
       "      <td>-1</td>\n",
       "      <td>-1</td>\n",
       "    </tr>\n",
       "    <tr>\n",
       "      <th>3</th>\n",
       "      <td>2012</td>\n",
       "      <td>4</td>\n",
       "      <td>49</td>\n",
       "      <td>1</td>\n",
       "      <td>20</td>\n",
       "      <td>527</td>\n",
       "      <td>78</td>\n",
       "      <td>60</td>\n",
       "      <td>1</td>\n",
       "      <td>1</td>\n",
       "      <td>...</td>\n",
       "      <td>601</td>\n",
       "      <td>10</td>\n",
       "      <td>1</td>\n",
       "      <td>1.235694</td>\n",
       "      <td>1.352370</td>\n",
       "      <td>1.235694</td>\n",
       "      <td>1.181370</td>\n",
       "      <td>1.292917</td>\n",
       "      <td>-1</td>\n",
       "      <td>-1</td>\n",
       "    </tr>\n",
       "    <tr>\n",
       "      <th>4</th>\n",
       "      <td>2012</td>\n",
       "      <td>5</td>\n",
       "      <td>235</td>\n",
       "      <td>1</td>\n",
       "      <td>75</td>\n",
       "      <td>620</td>\n",
       "      <td>149</td>\n",
       "      <td>62</td>\n",
       "      <td>1</td>\n",
       "      <td>1</td>\n",
       "      <td>...</td>\n",
       "      <td>601</td>\n",
       "      <td>10</td>\n",
       "      <td>1</td>\n",
       "      <td>0.873988</td>\n",
       "      <td>0.956511</td>\n",
       "      <td>0.873988</td>\n",
       "      <td>0.835565</td>\n",
       "      <td>0.914460</td>\n",
       "      <td>-1</td>\n",
       "      <td>-1</td>\n",
       "    </tr>\n",
       "  </tbody>\n",
       "</table>\n",
       "<p>5 rows × 1069 columns</p>\n",
       "</div>"
      ],
      "text/plain": [
       "   YEAR  ID  INTID  FEEUSED  FEELEVEL  DATEINTV  LNGTHINV  INTAGE  INTETHN  \\\n",
       "0  2012   1     49        1        75       721        69      60        1   \n",
       "1  2012   2    150        1        75       624        53      32        1   \n",
       "2  2012   3    150        1        75       627        77      32        1   \n",
       "3  2012   4     49        1        20       527        78      60        1   \n",
       "4  2012   5    235        1        75       620       149      62        1   \n",
       "\n",
       "   MODE  ...  SAMPCODE  SAMPLE  OVERSAMP      WTSS    WTSSNR   WTSSALL  \\\n",
       "0     1  ...       601      10         1  2.621963  2.869532  2.621963   \n",
       "1     1  ...       601      10         1  3.495950  3.826043  3.495950   \n",
       "2     1  ...       601      10         1  1.747975  1.913021  1.747975   \n",
       "3     1  ...       601      10         1  1.235694  1.352370  1.235694   \n",
       "4     1  ...       601      10         1  0.873988  0.956511  0.873988   \n",
       "\n",
       "     WTCOMB  WTCOMBNR  VSTRAT  VPSU  \n",
       "0  6.402159  7.006659      -1    -1  \n",
       "1  6.514477  7.129583      -1    -1  \n",
       "2  1.671130  1.828920      -1    -1  \n",
       "3  1.181370  1.292917      -1    -1  \n",
       "4  0.835565  0.914460      -1    -1  \n",
       "\n",
       "[5 rows x 1069 columns]"
      ]
     },
     "execution_count": 3,
     "metadata": {},
     "output_type": "execute_result"
    }
   ],
   "source": [
    "## Load data\n",
    "\n",
    "gss = pd.read_csv('../../GSS_2012/ICPSR_35478/DS0001/35478-0001-Data.tsv', sep='\\t')\n",
    "gss.head()"
   ]
  },
  {
   "cell_type": "markdown",
   "metadata": {},
   "source": [
    "## Choose variables"
   ]
  },
  {
   "cell_type": "code",
   "execution_count": 3,
   "metadata": {},
   "outputs": [
    {
     "data": {
      "text/html": [
       "<div>\n",
       "<style scoped>\n",
       "    .dataframe tbody tr th:only-of-type {\n",
       "        vertical-align: middle;\n",
       "    }\n",
       "\n",
       "    .dataframe tbody tr th {\n",
       "        vertical-align: top;\n",
       "    }\n",
       "\n",
       "    .dataframe thead th {\n",
       "        text-align: right;\n",
       "    }\n",
       "</style>\n",
       "<table border=\"1\" class=\"dataframe\">\n",
       "  <thead>\n",
       "    <tr style=\"text-align: right;\">\n",
       "      <th></th>\n",
       "      <th>id</th>\n",
       "      <th>wrkstat</th>\n",
       "      <th>marital</th>\n",
       "      <th>divorce</th>\n",
       "      <th>sibs</th>\n",
       "      <th>children</th>\n",
       "      <th>age</th>\n",
       "      <th>age_1_child</th>\n",
       "      <th>degree</th>\n",
       "      <th>sex</th>\n",
       "    </tr>\n",
       "  </thead>\n",
       "  <tbody>\n",
       "    <tr>\n",
       "      <th>0</th>\n",
       "      <td>1</td>\n",
       "      <td>2</td>\n",
       "      <td>5</td>\n",
       "      <td>0</td>\n",
       "      <td>1</td>\n",
       "      <td>0</td>\n",
       "      <td>22</td>\n",
       "      <td>0</td>\n",
       "      <td>3</td>\n",
       "      <td>1</td>\n",
       "    </tr>\n",
       "    <tr>\n",
       "      <th>1</th>\n",
       "      <td>2</td>\n",
       "      <td>2</td>\n",
       "      <td>5</td>\n",
       "      <td>0</td>\n",
       "      <td>2</td>\n",
       "      <td>0</td>\n",
       "      <td>21</td>\n",
       "      <td>0</td>\n",
       "      <td>1</td>\n",
       "      <td>1</td>\n",
       "    </tr>\n",
       "    <tr>\n",
       "      <th>2</th>\n",
       "      <td>3</td>\n",
       "      <td>1</td>\n",
       "      <td>1</td>\n",
       "      <td>2</td>\n",
       "      <td>1</td>\n",
       "      <td>2</td>\n",
       "      <td>42</td>\n",
       "      <td>32</td>\n",
       "      <td>1</td>\n",
       "      <td>1</td>\n",
       "    </tr>\n",
       "    <tr>\n",
       "      <th>3</th>\n",
       "      <td>4</td>\n",
       "      <td>8</td>\n",
       "      <td>1</td>\n",
       "      <td>1</td>\n",
       "      <td>2</td>\n",
       "      <td>2</td>\n",
       "      <td>49</td>\n",
       "      <td>24</td>\n",
       "      <td>1</td>\n",
       "      <td>2</td>\n",
       "    </tr>\n",
       "    <tr>\n",
       "      <th>4</th>\n",
       "      <td>5</td>\n",
       "      <td>5</td>\n",
       "      <td>4</td>\n",
       "      <td>0</td>\n",
       "      <td>0</td>\n",
       "      <td>3</td>\n",
       "      <td>70</td>\n",
       "      <td>24</td>\n",
       "      <td>3</td>\n",
       "      <td>2</td>\n",
       "    </tr>\n",
       "  </tbody>\n",
       "</table>\n",
       "</div>"
      ],
      "text/plain": [
       "   id  wrkstat  marital  divorce  sibs  children  age  age_1_child  degree  \\\n",
       "0   1        2        5        0     1         0   22            0       3   \n",
       "1   2        2        5        0     2         0   21            0       1   \n",
       "2   3        1        1        2     1         2   42           32       1   \n",
       "3   4        8        1        1     2         2   49           24       1   \n",
       "4   5        5        4        0     0         3   70           24       3   \n",
       "\n",
       "   sex  \n",
       "0    1  \n",
       "1    1  \n",
       "2    1  \n",
       "3    2  \n",
       "4    2  "
      ]
     },
     "execution_count": 3,
     "metadata": {},
     "output_type": "execute_result"
    }
   ],
   "source": [
    "## Choose some features\n",
    "\n",
    "gss_select = pd.DataFrame()\n",
    "gss_select['id'] = gss['ID']\n",
    "gss_select['wrkstat'] = gss['WRKSTAT']\n",
    "## Work status\n",
    "\n",
    "gss_select['marital'] = gss['MARITAL']\n",
    "## 1 = married, 2 = widowed, 3 = divorced, 4 = separated, 5 = never married 9 = no answer\n",
    "\n",
    "gss_select['divorce'] = gss['DIVORCE']\n",
    "## 1 = yes, 2 = no, 0 = inapplicable, 8,9 = don't know/no answer\n",
    "\n",
    "gss_select['sibs'] = gss['SIBS']\n",
    "gss_select['children'] = gss['CHILDS']\n",
    "gss_select['age'] = gss['AGE']\n",
    "gss_select['age_1_child'] = gss['AGEKDBRN']\n",
    "## Age first child born\n",
    "\n",
    "gss_select['degree'] = gss['DEGREE']\n",
    "## 0 = less than high school, 1 = high school, 2 = junior college, \n",
    "## 3 = bachelor, 4 = graduate\n",
    "\n",
    "gss_select['sex'] = gss['SEX']\n",
    "gss_select.head()"
   ]
  },
  {
   "cell_type": "code",
   "execution_count": 4,
   "metadata": {},
   "outputs": [
    {
     "data": {
      "text/html": [
       "<div>\n",
       "<style scoped>\n",
       "    .dataframe tbody tr th:only-of-type {\n",
       "        vertical-align: middle;\n",
       "    }\n",
       "\n",
       "    .dataframe tbody tr th {\n",
       "        vertical-align: top;\n",
       "    }\n",
       "\n",
       "    .dataframe thead th {\n",
       "        text-align: right;\n",
       "    }\n",
       "</style>\n",
       "<table border=\"1\" class=\"dataframe\">\n",
       "  <thead>\n",
       "    <tr style=\"text-align: right;\">\n",
       "      <th></th>\n",
       "      <th>wrkstat</th>\n",
       "      <th>marital</th>\n",
       "      <th>divorce</th>\n",
       "      <th>sex</th>\n",
       "    </tr>\n",
       "  </thead>\n",
       "  <tbody>\n",
       "    <tr>\n",
       "      <th>0</th>\n",
       "      <td>1</td>\n",
       "      <td>0</td>\n",
       "      <td>0</td>\n",
       "      <td>1</td>\n",
       "    </tr>\n",
       "    <tr>\n",
       "      <th>1</th>\n",
       "      <td>1</td>\n",
       "      <td>0</td>\n",
       "      <td>0</td>\n",
       "      <td>1</td>\n",
       "    </tr>\n",
       "    <tr>\n",
       "      <th>2</th>\n",
       "      <td>1</td>\n",
       "      <td>0</td>\n",
       "      <td>0</td>\n",
       "      <td>1</td>\n",
       "    </tr>\n",
       "    <tr>\n",
       "      <th>3</th>\n",
       "      <td>0</td>\n",
       "      <td>0</td>\n",
       "      <td>1</td>\n",
       "      <td>0</td>\n",
       "    </tr>\n",
       "    <tr>\n",
       "      <th>4</th>\n",
       "      <td>0</td>\n",
       "      <td>1</td>\n",
       "      <td>0</td>\n",
       "      <td>0</td>\n",
       "    </tr>\n",
       "  </tbody>\n",
       "</table>\n",
       "</div>"
      ],
      "text/plain": [
       "   wrkstat  marital  divorce  sex\n",
       "0        1        0        0    1\n",
       "1        1        0        0    1\n",
       "2        1        0        0    1\n",
       "3        0        0        1    0\n",
       "4        0        1        0    0"
      ]
     },
     "execution_count": 4,
     "metadata": {},
     "output_type": "execute_result"
    }
   ],
   "source": [
    "## Clean some features\n",
    "\n",
    "gss_clean = pd.DataFrame()\n",
    "\n",
    "## Change full time, part time and with a job (1, 2, 3) to employed, otherwise unemployed\n",
    "gss_clean['wrkstat'] = np.where(gss_select['wrkstat'].isin([1, 2, 3]), 1, 0)\n",
    "\n",
    "## Currently divorced or separated (3, 4)\n",
    "gss_clean['marital'] = np.where(gss_select['marital'].isin([3, 4]), 1, 0)\n",
    "\n",
    "## Ever divorced or separated (1)\n",
    "gss_clean['divorce'] = np.where(gss_select['divorce'] == 1, 1, 0)\n",
    "\n",
    "## 1 = Male, 2 = female, change female to 0\n",
    "gss_clean['sex'] = np.where(gss_select['sex'] == 2, 0, 1)\n",
    "\n",
    "gss_clean\n",
    "gss_clean.head()"
   ]
  },
  {
   "cell_type": "code",
   "execution_count": 5,
   "metadata": {},
   "outputs": [
    {
     "data": {
      "text/html": [
       "<div>\n",
       "<style scoped>\n",
       "    .dataframe tbody tr th:only-of-type {\n",
       "        vertical-align: middle;\n",
       "    }\n",
       "\n",
       "    .dataframe tbody tr th {\n",
       "        vertical-align: top;\n",
       "    }\n",
       "\n",
       "    .dataframe thead th {\n",
       "        text-align: right;\n",
       "    }\n",
       "</style>\n",
       "<table border=\"1\" class=\"dataframe\">\n",
       "  <thead>\n",
       "    <tr style=\"text-align: right;\">\n",
       "      <th></th>\n",
       "      <th>sibs</th>\n",
       "      <th>children</th>\n",
       "      <th>age</th>\n",
       "      <th>age_1_child</th>\n",
       "      <th>degree</th>\n",
       "      <th>wrkstat</th>\n",
       "      <th>sex</th>\n",
       "      <th>div_sep</th>\n",
       "    </tr>\n",
       "  </thead>\n",
       "  <tbody>\n",
       "    <tr>\n",
       "      <th>0</th>\n",
       "      <td>1</td>\n",
       "      <td>0</td>\n",
       "      <td>22</td>\n",
       "      <td>0</td>\n",
       "      <td>3</td>\n",
       "      <td>1</td>\n",
       "      <td>1</td>\n",
       "      <td>0</td>\n",
       "    </tr>\n",
       "    <tr>\n",
       "      <th>1</th>\n",
       "      <td>2</td>\n",
       "      <td>0</td>\n",
       "      <td>21</td>\n",
       "      <td>0</td>\n",
       "      <td>1</td>\n",
       "      <td>1</td>\n",
       "      <td>1</td>\n",
       "      <td>0</td>\n",
       "    </tr>\n",
       "    <tr>\n",
       "      <th>2</th>\n",
       "      <td>1</td>\n",
       "      <td>2</td>\n",
       "      <td>42</td>\n",
       "      <td>32</td>\n",
       "      <td>1</td>\n",
       "      <td>1</td>\n",
       "      <td>1</td>\n",
       "      <td>0</td>\n",
       "    </tr>\n",
       "    <tr>\n",
       "      <th>3</th>\n",
       "      <td>2</td>\n",
       "      <td>2</td>\n",
       "      <td>49</td>\n",
       "      <td>24</td>\n",
       "      <td>1</td>\n",
       "      <td>0</td>\n",
       "      <td>0</td>\n",
       "      <td>1</td>\n",
       "    </tr>\n",
       "    <tr>\n",
       "      <th>4</th>\n",
       "      <td>0</td>\n",
       "      <td>3</td>\n",
       "      <td>70</td>\n",
       "      <td>24</td>\n",
       "      <td>3</td>\n",
       "      <td>0</td>\n",
       "      <td>0</td>\n",
       "      <td>1</td>\n",
       "    </tr>\n",
       "  </tbody>\n",
       "</table>\n",
       "</div>"
      ],
      "text/plain": [
       "   sibs  children  age  age_1_child  degree  wrkstat  sex  div_sep\n",
       "0     1         0   22            0       3        1    1        0\n",
       "1     2         0   21            0       1        1    1        0\n",
       "2     1         2   42           32       1        1    1        0\n",
       "3     2         2   49           24       1        0    0        1\n",
       "4     0         3   70           24       3        0    0        1"
      ]
     },
     "execution_count": 5,
     "metadata": {},
     "output_type": "execute_result"
    }
   ],
   "source": [
    "## Create features dataframe\n",
    "\n",
    "gss_features = gss_select.copy()\n",
    "gss_features.drop(['id', 'wrkstat', 'marital', 'divorce', 'sex'], axis=1, inplace=True)\n",
    "gss_features['wrkstat'] = gss_clean['wrkstat']\n",
    "gss_features['sex'] = gss_clean['sex']\n",
    "gss_features['div_sep'] = gss_clean['marital'] + gss_clean['divorce']\n",
    "gss_features.head()"
   ]
  },
  {
   "cell_type": "markdown",
   "metadata": {},
   "source": [
    "## Check features for sense and remove some values"
   ]
  },
  {
   "cell_type": "code",
   "execution_count": 6,
   "metadata": {},
   "outputs": [
    {
     "data": {
      "text/plain": [
       "array([0])"
      ]
     },
     "execution_count": 6,
     "metadata": {},
     "output_type": "execute_result"
    }
   ],
   "source": [
    "## Check for sense - all people with no children have no 1st child age\n",
    "\n",
    "gss_features.loc[gss_features['children'] == 0, 'age_1_child'].unique()"
   ]
  },
  {
   "cell_type": "code",
   "execution_count": 7,
   "metadata": {},
   "outputs": [
    {
     "data": {
      "text/plain": [
       "array([ 1,  2,  0,  4,  6,  7,  5,  9,  3, 10, 15,  8, 13, 12, 11, 98, 99,\n",
       "       14, 30, 16, 17, 22, 18, 20, 21, 58, 19])"
      ]
     },
     "execution_count": 7,
     "metadata": {},
     "output_type": "execute_result"
    }
   ],
   "source": [
    "## Remove unknown values for siblings\n",
    "\n",
    "gss_features.sibs.unique()"
   ]
  },
  {
   "cell_type": "code",
   "execution_count": 8,
   "metadata": {},
   "outputs": [
    {
     "data": {
      "text/plain": [
       "array([ 1,  2,  0,  4,  6,  7,  5,  9,  3, 10, 15,  8, 13, 12, 11, 14, 30,\n",
       "       16, 17, 22, 18, 20, 21, 58, 19])"
      ]
     },
     "execution_count": 8,
     "metadata": {},
     "output_type": "execute_result"
    }
   ],
   "source": [
    "sibs_drop = gss_features.loc[gss_features.sibs.isin([98, 99]),].index\n",
    "gss_features.drop(sibs_drop, inplace=True)\n",
    "gss_features.sibs.unique()"
   ]
  },
  {
   "cell_type": "code",
   "execution_count": 9,
   "metadata": {},
   "outputs": [
    {
     "data": {
      "text/plain": [
       "2    1372\n",
       "0    1250\n",
       "3     784\n",
       "1     696\n",
       "4     390\n",
       "5     155\n",
       "6      75\n",
       "8      52\n",
       "7      35\n",
       "9       4\n",
       "Name: children, dtype: int64"
      ]
     },
     "execution_count": 9,
     "metadata": {},
     "output_type": "execute_result"
    }
   ],
   "source": [
    "## Check number of children - 9 is don't know so remove\n",
    "\n",
    "gss_features.children.value_counts()"
   ]
  },
  {
   "cell_type": "code",
   "execution_count": 10,
   "metadata": {},
   "outputs": [
    {
     "data": {
      "text/plain": [
       "2    1372\n",
       "0    1250\n",
       "3     784\n",
       "1     696\n",
       "4     390\n",
       "5     155\n",
       "6      75\n",
       "8      52\n",
       "7      35\n",
       "Name: children, dtype: int64"
      ]
     },
     "execution_count": 10,
     "metadata": {},
     "output_type": "execute_result"
    }
   ],
   "source": [
    "children_drop = gss_features.loc[gss_features.children == 9, ].index\n",
    "gss_features.drop(children_drop, inplace=True)\n",
    "gss_features.children.value_counts()"
   ]
  },
  {
   "cell_type": "code",
   "execution_count": 11,
   "metadata": {},
   "outputs": [],
   "source": [
    "## Remove no answer to age\n",
    "\n",
    "age_drop = gss_features.loc[gss_features['age'] == 99, ].index\n",
    "gss_features.drop(age_drop, inplace=True)"
   ]
  },
  {
   "cell_type": "code",
   "execution_count": 12,
   "metadata": {},
   "outputs": [],
   "source": [
    "## Remove don't know and no answer to age when 1st child born\n",
    "\n",
    "child_age_drop = gss_features.loc[gss_features['age_1_child'].isin([98, 99]),].index\n",
    "gss_features.drop(child_age_drop, inplace=True)"
   ]
  },
  {
   "cell_type": "code",
   "execution_count": 13,
   "metadata": {},
   "outputs": [
    {
     "data": {
      "text/plain": [
       "array([0])"
      ]
     },
     "execution_count": 13,
     "metadata": {},
     "output_type": "execute_result"
    }
   ],
   "source": [
    "## Check 0s all make sense\n",
    "gss_features.loc[gss_features['age_1_child'] == 0, 'children'].unique()"
   ]
  },
  {
   "cell_type": "code",
   "execution_count": 14,
   "metadata": {
    "scrolled": true
   },
   "outputs": [
    {
     "data": {
      "text/plain": [
       "array([3, 1, 2, 0, 4])"
      ]
     },
     "execution_count": 14,
     "metadata": {},
     "output_type": "execute_result"
    }
   ],
   "source": [
    "gss_features.degree.unique()"
   ]
  },
  {
   "cell_type": "code",
   "execution_count": 15,
   "metadata": {},
   "outputs": [],
   "source": [
    "gss_features.reset_index(inplace=True, drop=True)"
   ]
  },
  {
   "cell_type": "code",
   "execution_count": 16,
   "metadata": {},
   "outputs": [
    {
     "data": {
      "text/plain": [
       "0.9852697095435685"
      ]
     },
     "execution_count": 16,
     "metadata": {},
     "output_type": "execute_result"
    }
   ],
   "source": [
    "## Data retained:\n",
    "\n",
    "len(gss_features) / len(gss)"
   ]
  },
  {
   "cell_type": "code",
   "execution_count": 17,
   "metadata": {},
   "outputs": [
    {
     "data": {
      "text/html": [
       "<div>\n",
       "<style scoped>\n",
       "    .dataframe tbody tr th:only-of-type {\n",
       "        vertical-align: middle;\n",
       "    }\n",
       "\n",
       "    .dataframe tbody tr th {\n",
       "        vertical-align: top;\n",
       "    }\n",
       "\n",
       "    .dataframe thead th {\n",
       "        text-align: right;\n",
       "    }\n",
       "</style>\n",
       "<table border=\"1\" class=\"dataframe\">\n",
       "  <thead>\n",
       "    <tr style=\"text-align: right;\">\n",
       "      <th></th>\n",
       "      <th>sibs</th>\n",
       "      <th>children</th>\n",
       "      <th>age</th>\n",
       "      <th>age_1_child</th>\n",
       "      <th>degree</th>\n",
       "      <th>wrkstat</th>\n",
       "      <th>sex</th>\n",
       "      <th>div_sep</th>\n",
       "    </tr>\n",
       "  </thead>\n",
       "  <tbody>\n",
       "    <tr>\n",
       "      <th>0</th>\n",
       "      <td>1</td>\n",
       "      <td>0</td>\n",
       "      <td>22</td>\n",
       "      <td>0</td>\n",
       "      <td>3</td>\n",
       "      <td>1</td>\n",
       "      <td>1</td>\n",
       "      <td>0</td>\n",
       "    </tr>\n",
       "    <tr>\n",
       "      <th>1</th>\n",
       "      <td>2</td>\n",
       "      <td>0</td>\n",
       "      <td>21</td>\n",
       "      <td>0</td>\n",
       "      <td>1</td>\n",
       "      <td>1</td>\n",
       "      <td>1</td>\n",
       "      <td>0</td>\n",
       "    </tr>\n",
       "    <tr>\n",
       "      <th>2</th>\n",
       "      <td>1</td>\n",
       "      <td>2</td>\n",
       "      <td>42</td>\n",
       "      <td>32</td>\n",
       "      <td>1</td>\n",
       "      <td>1</td>\n",
       "      <td>1</td>\n",
       "      <td>0</td>\n",
       "    </tr>\n",
       "    <tr>\n",
       "      <th>3</th>\n",
       "      <td>2</td>\n",
       "      <td>2</td>\n",
       "      <td>49</td>\n",
       "      <td>24</td>\n",
       "      <td>1</td>\n",
       "      <td>0</td>\n",
       "      <td>0</td>\n",
       "      <td>1</td>\n",
       "    </tr>\n",
       "    <tr>\n",
       "      <th>4</th>\n",
       "      <td>0</td>\n",
       "      <td>3</td>\n",
       "      <td>70</td>\n",
       "      <td>24</td>\n",
       "      <td>3</td>\n",
       "      <td>0</td>\n",
       "      <td>0</td>\n",
       "      <td>1</td>\n",
       "    </tr>\n",
       "  </tbody>\n",
       "</table>\n",
       "</div>"
      ],
      "text/plain": [
       "   sibs  children  age  age_1_child  degree  wrkstat  sex  div_sep\n",
       "0     1         0   22            0       3        1    1        0\n",
       "1     2         0   21            0       1        1    1        0\n",
       "2     1         2   42           32       1        1    1        0\n",
       "3     2         2   49           24       1        0    0        1\n",
       "4     0         3   70           24       3        0    0        1"
      ]
     },
     "execution_count": 17,
     "metadata": {},
     "output_type": "execute_result"
    }
   ],
   "source": [
    "gss_features.head()"
   ]
  },
  {
   "cell_type": "markdown",
   "metadata": {},
   "source": [
    "## Engineer more features"
   ]
  },
  {
   "cell_type": "code",
   "execution_count": 18,
   "metadata": {},
   "outputs": [
    {
     "data": {
      "text/html": [
       "<div>\n",
       "<style scoped>\n",
       "    .dataframe tbody tr th:only-of-type {\n",
       "        vertical-align: middle;\n",
       "    }\n",
       "\n",
       "    .dataframe tbody tr th {\n",
       "        vertical-align: top;\n",
       "    }\n",
       "\n",
       "    .dataframe thead th {\n",
       "        text-align: right;\n",
       "    }\n",
       "</style>\n",
       "<table border=\"1\" class=\"dataframe\">\n",
       "  <thead>\n",
       "    <tr style=\"text-align: right;\">\n",
       "      <th></th>\n",
       "      <th>sibs</th>\n",
       "      <th>children</th>\n",
       "      <th>age</th>\n",
       "      <th>age_1_child</th>\n",
       "      <th>degree</th>\n",
       "      <th>wrkstat</th>\n",
       "      <th>sex</th>\n",
       "      <th>div_sep</th>\n",
       "      <th>age_age_1_child</th>\n",
       "      <th>children_age_1_child</th>\n",
       "      <th>sibs_children</th>\n",
       "      <th>degree_wrkstat</th>\n",
       "      <th>wrkstat_sex</th>\n",
       "      <th>age_1_child_sex</th>\n",
       "      <th>age2</th>\n",
       "      <th>age3</th>\n",
       "      <th>age_sqrt</th>\n",
       "    </tr>\n",
       "  </thead>\n",
       "  <tbody>\n",
       "    <tr>\n",
       "      <th>0</th>\n",
       "      <td>1</td>\n",
       "      <td>0</td>\n",
       "      <td>22</td>\n",
       "      <td>0</td>\n",
       "      <td>3</td>\n",
       "      <td>1</td>\n",
       "      <td>1</td>\n",
       "      <td>0</td>\n",
       "      <td>0</td>\n",
       "      <td>0</td>\n",
       "      <td>0</td>\n",
       "      <td>3</td>\n",
       "      <td>1</td>\n",
       "      <td>0</td>\n",
       "      <td>484</td>\n",
       "      <td>10648</td>\n",
       "      <td>4.690416</td>\n",
       "    </tr>\n",
       "    <tr>\n",
       "      <th>1</th>\n",
       "      <td>2</td>\n",
       "      <td>0</td>\n",
       "      <td>21</td>\n",
       "      <td>0</td>\n",
       "      <td>1</td>\n",
       "      <td>1</td>\n",
       "      <td>1</td>\n",
       "      <td>0</td>\n",
       "      <td>0</td>\n",
       "      <td>0</td>\n",
       "      <td>0</td>\n",
       "      <td>1</td>\n",
       "      <td>1</td>\n",
       "      <td>0</td>\n",
       "      <td>441</td>\n",
       "      <td>9261</td>\n",
       "      <td>4.582576</td>\n",
       "    </tr>\n",
       "    <tr>\n",
       "      <th>2</th>\n",
       "      <td>1</td>\n",
       "      <td>2</td>\n",
       "      <td>42</td>\n",
       "      <td>32</td>\n",
       "      <td>1</td>\n",
       "      <td>1</td>\n",
       "      <td>1</td>\n",
       "      <td>0</td>\n",
       "      <td>1344</td>\n",
       "      <td>64</td>\n",
       "      <td>2</td>\n",
       "      <td>1</td>\n",
       "      <td>1</td>\n",
       "      <td>32</td>\n",
       "      <td>1764</td>\n",
       "      <td>74088</td>\n",
       "      <td>6.480741</td>\n",
       "    </tr>\n",
       "    <tr>\n",
       "      <th>3</th>\n",
       "      <td>2</td>\n",
       "      <td>2</td>\n",
       "      <td>49</td>\n",
       "      <td>24</td>\n",
       "      <td>1</td>\n",
       "      <td>0</td>\n",
       "      <td>0</td>\n",
       "      <td>1</td>\n",
       "      <td>1176</td>\n",
       "      <td>48</td>\n",
       "      <td>4</td>\n",
       "      <td>0</td>\n",
       "      <td>0</td>\n",
       "      <td>0</td>\n",
       "      <td>2401</td>\n",
       "      <td>117649</td>\n",
       "      <td>7.000000</td>\n",
       "    </tr>\n",
       "    <tr>\n",
       "      <th>4</th>\n",
       "      <td>0</td>\n",
       "      <td>3</td>\n",
       "      <td>70</td>\n",
       "      <td>24</td>\n",
       "      <td>3</td>\n",
       "      <td>0</td>\n",
       "      <td>0</td>\n",
       "      <td>1</td>\n",
       "      <td>1680</td>\n",
       "      <td>72</td>\n",
       "      <td>0</td>\n",
       "      <td>0</td>\n",
       "      <td>0</td>\n",
       "      <td>0</td>\n",
       "      <td>4900</td>\n",
       "      <td>343000</td>\n",
       "      <td>8.366600</td>\n",
       "    </tr>\n",
       "  </tbody>\n",
       "</table>\n",
       "</div>"
      ],
      "text/plain": [
       "   sibs  children  age  age_1_child  degree  wrkstat  sex  div_sep  \\\n",
       "0     1         0   22            0       3        1    1        0   \n",
       "1     2         0   21            0       1        1    1        0   \n",
       "2     1         2   42           32       1        1    1        0   \n",
       "3     2         2   49           24       1        0    0        1   \n",
       "4     0         3   70           24       3        0    0        1   \n",
       "\n",
       "   age_age_1_child  children_age_1_child  sibs_children  degree_wrkstat  \\\n",
       "0                0                     0              0               3   \n",
       "1                0                     0              0               1   \n",
       "2             1344                    64              2               1   \n",
       "3             1176                    48              4               0   \n",
       "4             1680                    72              0               0   \n",
       "\n",
       "   wrkstat_sex  age_1_child_sex  age2    age3  age_sqrt  \n",
       "0            1                0   484   10648  4.690416  \n",
       "1            1                0   441    9261  4.582576  \n",
       "2            1               32  1764   74088  6.480741  \n",
       "3            0                0  2401  117649  7.000000  \n",
       "4            0                0  4900  343000  8.366600  "
      ]
     },
     "execution_count": 18,
     "metadata": {},
     "output_type": "execute_result"
    }
   ],
   "source": [
    "gss_features['age_age_1_child'] = gss_features['age'] * gss_features['age_1_child']\n",
    "gss_features['children_age_1_child'] = gss_features['children'] * gss_features['age_1_child']\n",
    "gss_features['sibs_children'] = gss_features['sibs'] * gss_features['children']\n",
    "gss_features['degree_wrkstat'] = gss_features['degree'] * gss_features['wrkstat']\n",
    "gss_features['wrkstat_sex'] = gss_features['wrkstat'] * gss_features['sex']\n",
    "gss_features['age_1_child_sex'] = gss_features['age_1_child'] * gss_features['sex']\n",
    "gss_features['age2'] = gss_features['age'] ** 2\n",
    "gss_features['age3'] = gss_features['age'] ** 3\n",
    "gss_features['age_sqrt'] = gss_features['age'] ** 0.5\n",
    "\n",
    "gss_features.head()"
   ]
  },
  {
   "cell_type": "markdown",
   "metadata": {},
   "source": [
    "## Create models\n",
    "### Split into train and test set"
   ]
  },
  {
   "cell_type": "code",
   "execution_count": 19,
   "metadata": {},
   "outputs": [],
   "source": [
    "y_all = gss_features['div_sep']\n",
    "x_all = gss_features.drop('div_sep', axis=1)"
   ]
  },
  {
   "cell_type": "code",
   "execution_count": 20,
   "metadata": {},
   "outputs": [],
   "source": [
    "x_train, x_test, y_train, y_test = sklearn.model_selection.train_test_split(x_all, y_all, test_size=0.3)"
   ]
  },
  {
   "cell_type": "markdown",
   "metadata": {},
   "source": [
    "### Vanilla regression"
   ]
  },
  {
   "cell_type": "code",
   "execution_count": 21,
   "metadata": {},
   "outputs": [
    {
     "name": "stdout",
     "output_type": "stream",
     "text": [
      "div_sep     0    1\n",
      "row_0             \n",
      "0        1894  698\n",
      "1         328  404\n",
      "0.6913357400722022\n"
     ]
    }
   ],
   "source": [
    "## First attempt - set C as very large\n",
    "\n",
    "lr_1 = linear_model.LogisticRegression(C=1e9, solver='liblinear') ## One vs rest (binary)\n",
    "fit_1 = lr_1.fit(x_train, y_train)\n",
    "pred_y_1 = lr_1.predict(x_train)\n",
    "print(pd.crosstab(pred_y_1, y_train))\n",
    "print(lr_1.score(x_train, y_train))"
   ]
  },
  {
   "cell_type": "code",
   "execution_count": 44,
   "metadata": {},
   "outputs": [
    {
     "name": "stdout",
     "output_type": "stream",
     "text": [
      "2.345\n"
     ]
    }
   ],
   "source": [
    "print('{0:.3f}'.format(2.344565))"
   ]
  },
  {
   "cell_type": "code",
   "execution_count": 89,
   "metadata": {},
   "outputs": [],
   "source": [
    "## Use cross validation to experiment with C\n",
    "\n",
    "def lr_cost(c_min, c_max, c_step):\n",
    "    for i in np.arange(c_min, c_max, c_step):\n",
    "        lr = linear_model.LogisticRegression(C=i, solver='liblinear')\n",
    "        lr_score = sklearn.model_selection.cross_val_score(lr, x_train, y_train, cv=5)\n",
    "        #print('lr with C = {0:0f} \\nValues = {1:.3f} \\nMean = {2:.3f}'.format(i, lr_score, lr_score.mean()))\n",
    "        print('lr with C = ', i, ' \\nValues = ', lr_score, '\\nMean = ', lr_score.mean()) "
   ]
  },
  {
   "cell_type": "code",
   "execution_count": 90,
   "metadata": {},
   "outputs": [
    {
     "name": "stdout",
     "output_type": "stream",
     "text": [
      "lr with C =  0.01  \n",
      "Values =  [0.6951952  0.67867868 0.67018072 0.69277108 0.69578313] \n",
      "Mean =  0.686521762726582\n",
      "lr with C =  0.11  \n",
      "Values =  [0.6951952  0.67117117 0.67921687 0.69126506 0.68825301] \n",
      "Mean =  0.6850202612250805\n",
      "lr with C =  0.21000000000000002  \n",
      "Values =  [0.69369369 0.66966967 0.67921687 0.68825301 0.6746988 ] \n",
      "Mean =  0.6811064076124318\n",
      "lr with C =  0.31000000000000005  \n",
      "Values =  [0.6996997  0.67117117 0.67771084 0.69126506 0.6746988 ] \n",
      "Mean =  0.6829091139332103\n",
      "lr with C =  0.41000000000000003  \n",
      "Values =  [0.6996997  0.66816817 0.67771084 0.68524096 0.69728916] \n",
      "Mean =  0.6856217663446579\n",
      "lr with C =  0.51  \n",
      "Values =  [0.69369369 0.68018018 0.67018072 0.69126506 0.69126506] \n",
      "Mean =  0.6853169434494736\n",
      "lr with C =  0.6100000000000001  \n",
      "Values =  [0.6996997  0.67267267 0.68072289 0.68825301 0.69277108] \n",
      "Mean =  0.6868238720648359\n",
      "lr with C =  0.7100000000000001  \n",
      "Values =  [0.69369369 0.68168168 0.67168675 0.69126506 0.68825301] \n",
      "Mean =  0.6853160389304966\n",
      "lr with C =  0.81  \n",
      "Values =  [0.6951952  0.67267267 0.6746988  0.67620482 0.67620482] \n",
      "Mean =  0.6789952603205617\n",
      "lr with C =  0.91  \n",
      "Values =  [0.69369369 0.67267267 0.67620482 0.69126506 0.68524096] \n",
      "Mean =  0.683815441947972\n"
     ]
    }
   ],
   "source": [
    "lr_cost(0.01, 1, 0.1)"
   ]
  },
  {
   "cell_type": "code",
   "execution_count": 91,
   "metadata": {},
   "outputs": [
    {
     "name": "stdout",
     "output_type": "stream",
     "text": [
      "lr with C =  1  \n",
      "Values =  [0.6966967  0.67267267 0.67771084 0.68825301 0.68825301] \n",
      "Mean =  0.6847172473678498\n",
      "lr with C =  11  \n",
      "Values =  [0.6981982  0.67417417 0.67771084 0.67620482 0.68975904] \n",
      "Mean =  0.6832094142335107\n",
      "lr with C =  21  \n",
      "Values =  [0.69369369 0.67267267 0.67921687 0.69126506 0.68825301] \n",
      "Mean =  0.6850202612250805\n",
      "lr with C =  31  \n",
      "Values =  [0.69369369 0.67267267 0.67771084 0.67620482 0.6746988 ] \n",
      "Mean =  0.6789961648395383\n",
      "lr with C =  41  \n",
      "Values =  [0.6996997  0.67867868 0.67771084 0.68373494 0.6746988 ] \n",
      "Mean =  0.6829045913383263\n",
      "lr with C =  51  \n",
      "Values =  [0.6981982  0.67417417 0.67771084 0.68825301 0.68222892] \n",
      "Mean =  0.6841130286913419\n",
      "lr with C =  61  \n",
      "Values =  [0.6951952  0.67267267 0.67771084 0.69126506 0.68975904] \n",
      "Mean =  0.6853205615253808\n",
      "lr with C =  71  \n",
      "Values =  [0.69369369 0.67267267 0.67168675 0.68825301 0.69578313] \n",
      "Mean =  0.6844178515865262\n",
      "lr with C =  81  \n",
      "Values =  [0.69369369 0.67267267 0.67771084 0.67620482 0.68825301] \n",
      "Mean =  0.6817070082130322\n",
      "lr with C =  91  \n",
      "Values =  [0.6996997  0.67267267 0.68222892 0.69126506 0.6746988 ] \n",
      "Mean =  0.6841130286913419\n"
     ]
    }
   ],
   "source": [
    "lr_cost(1, 100, 10)"
   ]
  },
  {
   "cell_type": "code",
   "execution_count": 92,
   "metadata": {},
   "outputs": [
    {
     "name": "stdout",
     "output_type": "stream",
     "text": [
      "lr with C =  100  \n",
      "Values =  [0.69369369 0.67867868 0.67771084 0.69427711 0.6746988 ] \n",
      "Mean =  0.6838118238720649\n",
      "lr with C =  200  \n",
      "Values =  [0.69369369 0.68318318 0.67771084 0.67620482 0.6746988 ] \n",
      "Mean =  0.6810982669416406\n",
      "lr with C =  300  \n",
      "Values =  [0.6966967  0.67267267 0.67771084 0.68524096 0.6746988 ] \n",
      "Mean =  0.6814039943558016\n",
      "lr with C =  400  \n",
      "Values =  [0.6996997  0.67267267 0.67771084 0.68825301 0.68674699] \n",
      "Mean =  0.6850166431491733\n",
      "lr with C =  500  \n",
      "Values =  [0.6996997  0.67417417 0.67771084 0.69126506 0.68975904] \n",
      "Mean =  0.686521762726582\n",
      "lr with C =  600  \n",
      "Values =  [0.69369369 0.68018018 0.67771084 0.67319277 0.68825301] \n",
      "Mean =  0.6826061000759795\n",
      "lr with C =  700  \n",
      "Values =  [0.69369369 0.67417417 0.67771084 0.69126506 0.69126506] \n",
      "Mean =  0.6856217663446579\n",
      "lr with C =  800  \n",
      "Values =  [0.6996997  0.67267267 0.67771084 0.68524096 0.68222892] \n",
      "Mean =  0.6835106190527878\n",
      "lr with C =  900  \n",
      "Values =  [0.69369369 0.67417417 0.67771084 0.69427711 0.6746988 ] \n",
      "Mean =  0.6829109229711638\n"
     ]
    }
   ],
   "source": [
    "lr_cost(100, 1000, 100)"
   ]
  },
  {
   "cell_type": "code",
   "execution_count": 93,
   "metadata": {},
   "outputs": [
    {
     "name": "stdout",
     "output_type": "stream",
     "text": [
      "lr with C =  0.001  \n",
      "Values =  [0.6981982  0.67267267 0.67620482 0.69427711 0.67319277] \n",
      "Mean =  0.6829091139332103\n",
      "lr with C =  0.011  \n",
      "Values =  [0.6951952  0.67567568 0.68072289 0.68674699 0.68975904] \n",
      "Mean =  0.6856199573067043\n",
      "lr with C =  0.020999999999999998  \n",
      "Values =  [0.6996997  0.67867868 0.67771084 0.67620482 0.69427711] \n",
      "Mean =  0.6853142298925431\n",
      "lr with C =  0.030999999999999996  \n",
      "Values =  [0.69369369 0.67867868 0.67771084 0.68674699 0.68524096] \n",
      "Mean =  0.684414233510619\n",
      "lr with C =  0.040999999999999995  \n",
      "Values =  [0.69369369 0.67267267 0.67771084 0.69277108 0.69126506] \n",
      "Mean =  0.6856226708636347\n",
      "lr with C =  0.05099999999999999  \n",
      "Values =  [0.6996997  0.67867868 0.67771084 0.69277108 0.69427711] \n",
      "Mean =  0.6886274829045914\n",
      "lr with C =  0.06099999999999999  \n",
      "Values =  [0.6996997  0.67117117 0.67771084 0.68975904 0.69126506] \n",
      "Mean =  0.6859211621259814\n",
      "lr with C =  0.071  \n",
      "Values =  [0.69369369 0.67567568 0.67771084 0.67771084 0.69427711] \n",
      "Mean =  0.6838136329100185\n",
      "lr with C =  0.08099999999999999  \n",
      "Values =  [0.6966967  0.68918919 0.68072289 0.69126506 0.6746988 ] \n",
      "Mean =  0.6865145265747675\n",
      "lr with C =  0.09099999999999998  \n",
      "Values =  [0.69369369 0.66816817 0.67771084 0.69126506 0.68825301] \n",
      "Mean =  0.6838181555049025\n"
     ]
    }
   ],
   "source": [
    "lr_cost(0.001, 0.1, 0.01)"
   ]
  },
  {
   "cell_type": "code",
   "execution_count": 101,
   "metadata": {},
   "outputs": [
    {
     "name": "stdout",
     "output_type": "stream",
     "text": [
      "lr with C =  1000  \n",
      "Values =  [0.69369369 0.67567568 0.67771084 0.69427711 0.69277108] \n",
      "Mean =  0.6868256811027896\n",
      "lr with C =  2000  \n",
      "Values =  [0.6951952  0.67867868 0.68072289 0.68975904 0.68524096] \n",
      "Mean =  0.6859193530880278\n",
      "lr with C =  3000  \n",
      "Values =  [0.69369369 0.67417417 0.67771084 0.68825301 0.68975904] \n",
      "Mean =  0.6847181518868266\n",
      "lr with C =  4000  \n",
      "Values =  [0.69369369 0.67417417 0.67771084 0.68825301 0.6746988 ] \n",
      "Mean =  0.6817061036940555\n",
      "lr with C =  5000  \n",
      "Values =  [0.69369369 0.67267267 0.67771084 0.68825301 0.68975904] \n",
      "Mean =  0.6844178515865262\n",
      "lr with C =  6000  \n",
      "Values =  [0.69369369 0.67867868 0.67771084 0.68373494 0.6746988 ] \n",
      "Mean =  0.6817033901371251\n",
      "lr with C =  7000  \n",
      "Values =  [0.69369369 0.67867868 0.67771084 0.69126506 0.6746988 ] \n",
      "Mean =  0.6832094142335106\n",
      "lr with C =  8000  \n",
      "Values =  [0.6996997  0.67267267 0.67771084 0.69126506 0.68975904] \n",
      "Mean =  0.6862214624262817\n",
      "lr with C =  9000  \n",
      "Values =  [0.7012012  0.67567568 0.67771084 0.68373494 0.68524096] \n",
      "Mean =  0.6847127247729657\n"
     ]
    }
   ],
   "source": [
    "lr_cost(1000, 10000, 1000)"
   ]
  },
  {
   "cell_type": "code",
   "execution_count": 105,
   "metadata": {},
   "outputs": [
    {
     "name": "stdout",
     "output_type": "stream",
     "text": [
      "lr with C =  1e-05  \n",
      "Values =  [0.66666667 0.66966967 0.6626506  0.66716867 0.6686747 ] \n",
      "Mean =  0.6669660624479901\n",
      "lr with C =  2e-05  \n",
      "Values =  [0.66816817 0.66816817 0.66566265 0.66716867 0.6686747 ] \n",
      "Mean =  0.6675684720865444\n",
      "lr with C =  3.0000000000000004e-05  \n",
      "Values =  [0.66816817 0.66816817 0.66716867 0.6626506  0.67018072] \n",
      "Mean =  0.6672672672672674\n",
      "lr with C =  4e-05  \n",
      "Values =  [0.66816817 0.66816817 0.66566265 0.6626506  0.67168675] \n",
      "Mean =  0.6672672672672672\n",
      "lr with C =  5e-05  \n",
      "Values =  [0.66516517 0.66816817 0.66415663 0.65963855 0.6686747 ] \n",
      "Mean =  0.6651606425702812\n",
      "lr with C =  6e-05  \n",
      "Values =  [0.66666667 0.66966967 0.66114458 0.65963855 0.66716867] \n",
      "Mean =  0.6648576287130503\n",
      "lr with C =  7.000000000000001e-05  \n",
      "Values =  [0.66816817 0.66966967 0.65963855 0.65963855 0.6626506 ] \n",
      "Mean =  0.6639531097362422\n",
      "lr with C =  8e-05  \n",
      "Values =  [0.66966967 0.66816817 0.65963855 0.65963855 0.66566265] \n",
      "Mean =  0.6645555193747964\n",
      "lr with C =  9e-05  \n",
      "Values =  [0.66516517 0.67417417 0.65813253 0.65963855 0.65963855] \n",
      "Mean =  0.6633497955787112\n"
     ]
    }
   ],
   "source": [
    "lr_cost(0.00001, 0.0001, 0.00001 )"
   ]
  },
  {
   "cell_type": "markdown",
   "metadata": {},
   "source": [
    "### Ridge regression"
   ]
  },
  {
   "cell_type": "code",
   "execution_count": null,
   "metadata": {},
   "outputs": [],
   "source": []
  }
 ],
 "metadata": {
  "kernelspec": {
   "display_name": "Python 3",
   "language": "python",
   "name": "python3"
  },
  "language_info": {
   "codemirror_mode": {
    "name": "ipython",
    "version": 3
   },
   "file_extension": ".py",
   "mimetype": "text/x-python",
   "name": "python",
   "nbconvert_exporter": "python",
   "pygments_lexer": "ipython3",
   "version": "3.7.3"
  }
 },
 "nbformat": 4,
 "nbformat_minor": 2
}
