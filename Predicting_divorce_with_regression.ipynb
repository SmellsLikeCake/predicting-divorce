{
 "cells": [
  {
   "cell_type": "code",
   "execution_count": 1,
   "metadata": {},
   "outputs": [],
   "source": [
    "import pandas as pd\n",
    "import numpy as np\n",
    "import matplotlib.pyplot as plt\n",
    "import seaborn as sns\n",
    "import math\n",
    "%matplotlib inline\n",
    "\n",
    "import sklearn\n",
    "from sklearn import linear_model\n",
    "from sklearn import preprocessing\n",
    "import statsmodels.api as sm"
   ]
  },
  {
   "cell_type": "markdown",
   "metadata": {},
   "source": [
    "## Load dataset"
   ]
  },
  {
   "cell_type": "code",
   "execution_count": 2,
   "metadata": {},
   "outputs": [
    {
     "data": {
      "text/html": [
       "<div>\n",
       "<style scoped>\n",
       "    .dataframe tbody tr th:only-of-type {\n",
       "        vertical-align: middle;\n",
       "    }\n",
       "\n",
       "    .dataframe tbody tr th {\n",
       "        vertical-align: top;\n",
       "    }\n",
       "\n",
       "    .dataframe thead th {\n",
       "        text-align: right;\n",
       "    }\n",
       "</style>\n",
       "<table border=\"1\" class=\"dataframe\">\n",
       "  <thead>\n",
       "    <tr style=\"text-align: right;\">\n",
       "      <th></th>\n",
       "      <th>YEAR</th>\n",
       "      <th>ID</th>\n",
       "      <th>INTID</th>\n",
       "      <th>FEEUSED</th>\n",
       "      <th>FEELEVEL</th>\n",
       "      <th>DATEINTV</th>\n",
       "      <th>LNGTHINV</th>\n",
       "      <th>INTAGE</th>\n",
       "      <th>INTETHN</th>\n",
       "      <th>MODE</th>\n",
       "      <th>...</th>\n",
       "      <th>SAMPCODE</th>\n",
       "      <th>SAMPLE</th>\n",
       "      <th>OVERSAMP</th>\n",
       "      <th>WTSS</th>\n",
       "      <th>WTSSNR</th>\n",
       "      <th>WTSSALL</th>\n",
       "      <th>WTCOMB</th>\n",
       "      <th>WTCOMBNR</th>\n",
       "      <th>VSTRAT</th>\n",
       "      <th>VPSU</th>\n",
       "    </tr>\n",
       "  </thead>\n",
       "  <tbody>\n",
       "    <tr>\n",
       "      <th>0</th>\n",
       "      <td>2012</td>\n",
       "      <td>1</td>\n",
       "      <td>49</td>\n",
       "      <td>1</td>\n",
       "      <td>75</td>\n",
       "      <td>721</td>\n",
       "      <td>69</td>\n",
       "      <td>60</td>\n",
       "      <td>1</td>\n",
       "      <td>1</td>\n",
       "      <td>...</td>\n",
       "      <td>601</td>\n",
       "      <td>10</td>\n",
       "      <td>1</td>\n",
       "      <td>2.621963</td>\n",
       "      <td>2.869532</td>\n",
       "      <td>2.621963</td>\n",
       "      <td>6.402159</td>\n",
       "      <td>7.006659</td>\n",
       "      <td>-1</td>\n",
       "      <td>-1</td>\n",
       "    </tr>\n",
       "    <tr>\n",
       "      <th>1</th>\n",
       "      <td>2012</td>\n",
       "      <td>2</td>\n",
       "      <td>150</td>\n",
       "      <td>1</td>\n",
       "      <td>75</td>\n",
       "      <td>624</td>\n",
       "      <td>53</td>\n",
       "      <td>32</td>\n",
       "      <td>1</td>\n",
       "      <td>1</td>\n",
       "      <td>...</td>\n",
       "      <td>601</td>\n",
       "      <td>10</td>\n",
       "      <td>1</td>\n",
       "      <td>3.495950</td>\n",
       "      <td>3.826043</td>\n",
       "      <td>3.495950</td>\n",
       "      <td>6.514477</td>\n",
       "      <td>7.129583</td>\n",
       "      <td>-1</td>\n",
       "      <td>-1</td>\n",
       "    </tr>\n",
       "    <tr>\n",
       "      <th>2</th>\n",
       "      <td>2012</td>\n",
       "      <td>3</td>\n",
       "      <td>150</td>\n",
       "      <td>1</td>\n",
       "      <td>75</td>\n",
       "      <td>627</td>\n",
       "      <td>77</td>\n",
       "      <td>32</td>\n",
       "      <td>1</td>\n",
       "      <td>1</td>\n",
       "      <td>...</td>\n",
       "      <td>601</td>\n",
       "      <td>10</td>\n",
       "      <td>1</td>\n",
       "      <td>1.747975</td>\n",
       "      <td>1.913021</td>\n",
       "      <td>1.747975</td>\n",
       "      <td>1.671130</td>\n",
       "      <td>1.828920</td>\n",
       "      <td>-1</td>\n",
       "      <td>-1</td>\n",
       "    </tr>\n",
       "    <tr>\n",
       "      <th>3</th>\n",
       "      <td>2012</td>\n",
       "      <td>4</td>\n",
       "      <td>49</td>\n",
       "      <td>1</td>\n",
       "      <td>20</td>\n",
       "      <td>527</td>\n",
       "      <td>78</td>\n",
       "      <td>60</td>\n",
       "      <td>1</td>\n",
       "      <td>1</td>\n",
       "      <td>...</td>\n",
       "      <td>601</td>\n",
       "      <td>10</td>\n",
       "      <td>1</td>\n",
       "      <td>1.235694</td>\n",
       "      <td>1.352370</td>\n",
       "      <td>1.235694</td>\n",
       "      <td>1.181370</td>\n",
       "      <td>1.292917</td>\n",
       "      <td>-1</td>\n",
       "      <td>-1</td>\n",
       "    </tr>\n",
       "    <tr>\n",
       "      <th>4</th>\n",
       "      <td>2012</td>\n",
       "      <td>5</td>\n",
       "      <td>235</td>\n",
       "      <td>1</td>\n",
       "      <td>75</td>\n",
       "      <td>620</td>\n",
       "      <td>149</td>\n",
       "      <td>62</td>\n",
       "      <td>1</td>\n",
       "      <td>1</td>\n",
       "      <td>...</td>\n",
       "      <td>601</td>\n",
       "      <td>10</td>\n",
       "      <td>1</td>\n",
       "      <td>0.873988</td>\n",
       "      <td>0.956511</td>\n",
       "      <td>0.873988</td>\n",
       "      <td>0.835565</td>\n",
       "      <td>0.914460</td>\n",
       "      <td>-1</td>\n",
       "      <td>-1</td>\n",
       "    </tr>\n",
       "  </tbody>\n",
       "</table>\n",
       "<p>5 rows × 1069 columns</p>\n",
       "</div>"
      ],
      "text/plain": [
       "   YEAR  ID  INTID  FEEUSED  FEELEVEL  DATEINTV  LNGTHINV  INTAGE  INTETHN  \\\n",
       "0  2012   1     49        1        75       721        69      60        1   \n",
       "1  2012   2    150        1        75       624        53      32        1   \n",
       "2  2012   3    150        1        75       627        77      32        1   \n",
       "3  2012   4     49        1        20       527        78      60        1   \n",
       "4  2012   5    235        1        75       620       149      62        1   \n",
       "\n",
       "   MODE  ...  SAMPCODE  SAMPLE  OVERSAMP      WTSS    WTSSNR   WTSSALL  \\\n",
       "0     1  ...       601      10         1  2.621963  2.869532  2.621963   \n",
       "1     1  ...       601      10         1  3.495950  3.826043  3.495950   \n",
       "2     1  ...       601      10         1  1.747975  1.913021  1.747975   \n",
       "3     1  ...       601      10         1  1.235694  1.352370  1.235694   \n",
       "4     1  ...       601      10         1  0.873988  0.956511  0.873988   \n",
       "\n",
       "     WTCOMB  WTCOMBNR  VSTRAT  VPSU  \n",
       "0  6.402159  7.006659      -1    -1  \n",
       "1  6.514477  7.129583      -1    -1  \n",
       "2  1.671130  1.828920      -1    -1  \n",
       "3  1.181370  1.292917      -1    -1  \n",
       "4  0.835565  0.914460      -1    -1  \n",
       "\n",
       "[5 rows x 1069 columns]"
      ]
     },
     "execution_count": 2,
     "metadata": {},
     "output_type": "execute_result"
    }
   ],
   "source": [
    "## Load data\n",
    "\n",
    "gss = pd.read_csv('../../GSS_2012/ICPSR_35478/DS0001/35478-0001-Data.tsv', sep='\\t')\n",
    "gss.head()"
   ]
  },
  {
   "cell_type": "markdown",
   "metadata": {},
   "source": [
    "## Choose variables"
   ]
  },
  {
   "cell_type": "code",
   "execution_count": 3,
   "metadata": {},
   "outputs": [
    {
     "data": {
      "text/html": [
       "<div>\n",
       "<style scoped>\n",
       "    .dataframe tbody tr th:only-of-type {\n",
       "        vertical-align: middle;\n",
       "    }\n",
       "\n",
       "    .dataframe tbody tr th {\n",
       "        vertical-align: top;\n",
       "    }\n",
       "\n",
       "    .dataframe thead th {\n",
       "        text-align: right;\n",
       "    }\n",
       "</style>\n",
       "<table border=\"1\" class=\"dataframe\">\n",
       "  <thead>\n",
       "    <tr style=\"text-align: right;\">\n",
       "      <th></th>\n",
       "      <th>id</th>\n",
       "      <th>wrkstat</th>\n",
       "      <th>marital</th>\n",
       "      <th>divorce</th>\n",
       "      <th>sibs</th>\n",
       "      <th>children</th>\n",
       "      <th>age</th>\n",
       "      <th>age_1_child</th>\n",
       "      <th>degree</th>\n",
       "      <th>sex</th>\n",
       "    </tr>\n",
       "  </thead>\n",
       "  <tbody>\n",
       "    <tr>\n",
       "      <th>0</th>\n",
       "      <td>1</td>\n",
       "      <td>2</td>\n",
       "      <td>5</td>\n",
       "      <td>0</td>\n",
       "      <td>1</td>\n",
       "      <td>0</td>\n",
       "      <td>22</td>\n",
       "      <td>0</td>\n",
       "      <td>3</td>\n",
       "      <td>1</td>\n",
       "    </tr>\n",
       "    <tr>\n",
       "      <th>1</th>\n",
       "      <td>2</td>\n",
       "      <td>2</td>\n",
       "      <td>5</td>\n",
       "      <td>0</td>\n",
       "      <td>2</td>\n",
       "      <td>0</td>\n",
       "      <td>21</td>\n",
       "      <td>0</td>\n",
       "      <td>1</td>\n",
       "      <td>1</td>\n",
       "    </tr>\n",
       "    <tr>\n",
       "      <th>2</th>\n",
       "      <td>3</td>\n",
       "      <td>1</td>\n",
       "      <td>1</td>\n",
       "      <td>2</td>\n",
       "      <td>1</td>\n",
       "      <td>2</td>\n",
       "      <td>42</td>\n",
       "      <td>32</td>\n",
       "      <td>1</td>\n",
       "      <td>1</td>\n",
       "    </tr>\n",
       "    <tr>\n",
       "      <th>3</th>\n",
       "      <td>4</td>\n",
       "      <td>8</td>\n",
       "      <td>1</td>\n",
       "      <td>1</td>\n",
       "      <td>2</td>\n",
       "      <td>2</td>\n",
       "      <td>49</td>\n",
       "      <td>24</td>\n",
       "      <td>1</td>\n",
       "      <td>2</td>\n",
       "    </tr>\n",
       "    <tr>\n",
       "      <th>4</th>\n",
       "      <td>5</td>\n",
       "      <td>5</td>\n",
       "      <td>4</td>\n",
       "      <td>0</td>\n",
       "      <td>0</td>\n",
       "      <td>3</td>\n",
       "      <td>70</td>\n",
       "      <td>24</td>\n",
       "      <td>3</td>\n",
       "      <td>2</td>\n",
       "    </tr>\n",
       "  </tbody>\n",
       "</table>\n",
       "</div>"
      ],
      "text/plain": [
       "   id  wrkstat  marital  divorce  sibs  children  age  age_1_child  degree  \\\n",
       "0   1        2        5        0     1         0   22            0       3   \n",
       "1   2        2        5        0     2         0   21            0       1   \n",
       "2   3        1        1        2     1         2   42           32       1   \n",
       "3   4        8        1        1     2         2   49           24       1   \n",
       "4   5        5        4        0     0         3   70           24       3   \n",
       "\n",
       "   sex  \n",
       "0    1  \n",
       "1    1  \n",
       "2    1  \n",
       "3    2  \n",
       "4    2  "
      ]
     },
     "execution_count": 3,
     "metadata": {},
     "output_type": "execute_result"
    }
   ],
   "source": [
    "## Choose some features\n",
    "\n",
    "gss_select = pd.DataFrame()\n",
    "gss_select['id'] = gss['ID']\n",
    "gss_select['wrkstat'] = gss['WRKSTAT']\n",
    "## Work status\n",
    "\n",
    "gss_select['marital'] = gss['MARITAL']\n",
    "## 1 = married, 2 = widowed, 3 = divorced, 4 = separated, 5 = never married 9 = no answer\n",
    "\n",
    "gss_select['divorce'] = gss['DIVORCE']\n",
    "## 1 = yes, 2 = no, 0 = inapplicable, 8,9 = don't know/no answer\n",
    "\n",
    "gss_select['sibs'] = gss['SIBS']\n",
    "gss_select['children'] = gss['CHILDS']\n",
    "gss_select['age'] = gss['AGE']\n",
    "gss_select['age_1_child'] = gss['AGEKDBRN']\n",
    "## Age first child born\n",
    "\n",
    "gss_select['degree'] = gss['DEGREE']\n",
    "## 0 = less than high school, 1 = high school, 2 = junior college, \n",
    "## 3 = bachelor, 4 = graduate\n",
    "\n",
    "gss_select['sex'] = gss['SEX']\n",
    "gss_select.head()"
   ]
  },
  {
   "cell_type": "code",
   "execution_count": 4,
   "metadata": {},
   "outputs": [
    {
     "data": {
      "text/html": [
       "<div>\n",
       "<style scoped>\n",
       "    .dataframe tbody tr th:only-of-type {\n",
       "        vertical-align: middle;\n",
       "    }\n",
       "\n",
       "    .dataframe tbody tr th {\n",
       "        vertical-align: top;\n",
       "    }\n",
       "\n",
       "    .dataframe thead th {\n",
       "        text-align: right;\n",
       "    }\n",
       "</style>\n",
       "<table border=\"1\" class=\"dataframe\">\n",
       "  <thead>\n",
       "    <tr style=\"text-align: right;\">\n",
       "      <th></th>\n",
       "      <th>wrkstat</th>\n",
       "      <th>marital</th>\n",
       "      <th>divorce</th>\n",
       "      <th>sex</th>\n",
       "    </tr>\n",
       "  </thead>\n",
       "  <tbody>\n",
       "    <tr>\n",
       "      <th>0</th>\n",
       "      <td>1</td>\n",
       "      <td>0</td>\n",
       "      <td>0</td>\n",
       "      <td>1</td>\n",
       "    </tr>\n",
       "    <tr>\n",
       "      <th>1</th>\n",
       "      <td>1</td>\n",
       "      <td>0</td>\n",
       "      <td>0</td>\n",
       "      <td>1</td>\n",
       "    </tr>\n",
       "    <tr>\n",
       "      <th>2</th>\n",
       "      <td>1</td>\n",
       "      <td>0</td>\n",
       "      <td>0</td>\n",
       "      <td>1</td>\n",
       "    </tr>\n",
       "    <tr>\n",
       "      <th>3</th>\n",
       "      <td>0</td>\n",
       "      <td>0</td>\n",
       "      <td>1</td>\n",
       "      <td>0</td>\n",
       "    </tr>\n",
       "    <tr>\n",
       "      <th>4</th>\n",
       "      <td>0</td>\n",
       "      <td>1</td>\n",
       "      <td>0</td>\n",
       "      <td>0</td>\n",
       "    </tr>\n",
       "  </tbody>\n",
       "</table>\n",
       "</div>"
      ],
      "text/plain": [
       "   wrkstat  marital  divorce  sex\n",
       "0        1        0        0    1\n",
       "1        1        0        0    1\n",
       "2        1        0        0    1\n",
       "3        0        0        1    0\n",
       "4        0        1        0    0"
      ]
     },
     "execution_count": 4,
     "metadata": {},
     "output_type": "execute_result"
    }
   ],
   "source": [
    "## Clean some features\n",
    "\n",
    "gss_clean = pd.DataFrame()\n",
    "\n",
    "## Change full time, part time and with a job (1, 2, 3) to employed, otherwise unemployed\n",
    "gss_clean['wrkstat'] = np.where(gss_select['wrkstat'].isin([1, 2, 3]), 1, 0)\n",
    "\n",
    "## Currently divorced or separated (3, 4)\n",
    "gss_clean['marital'] = np.where(gss_select['marital'].isin([3, 4]), 1, 0)\n",
    "\n",
    "## Ever divorced or separated (1)\n",
    "gss_clean['divorce'] = np.where(gss_select['divorce'] == 1, 1, 0)\n",
    "\n",
    "## 1 = Male, 2 = female, change female to 0\n",
    "gss_clean['sex'] = np.where(gss_select['sex'] == 2, 0, 1)\n",
    "\n",
    "gss_clean\n",
    "gss_clean.head()"
   ]
  },
  {
   "cell_type": "code",
   "execution_count": 5,
   "metadata": {},
   "outputs": [
    {
     "data": {
      "text/html": [
       "<div>\n",
       "<style scoped>\n",
       "    .dataframe tbody tr th:only-of-type {\n",
       "        vertical-align: middle;\n",
       "    }\n",
       "\n",
       "    .dataframe tbody tr th {\n",
       "        vertical-align: top;\n",
       "    }\n",
       "\n",
       "    .dataframe thead th {\n",
       "        text-align: right;\n",
       "    }\n",
       "</style>\n",
       "<table border=\"1\" class=\"dataframe\">\n",
       "  <thead>\n",
       "    <tr style=\"text-align: right;\">\n",
       "      <th></th>\n",
       "      <th>sibs</th>\n",
       "      <th>children</th>\n",
       "      <th>age</th>\n",
       "      <th>age_1_child</th>\n",
       "      <th>degree</th>\n",
       "      <th>wrkstat</th>\n",
       "      <th>sex</th>\n",
       "      <th>div_sep</th>\n",
       "    </tr>\n",
       "  </thead>\n",
       "  <tbody>\n",
       "    <tr>\n",
       "      <th>0</th>\n",
       "      <td>1</td>\n",
       "      <td>0</td>\n",
       "      <td>22</td>\n",
       "      <td>0</td>\n",
       "      <td>3</td>\n",
       "      <td>1</td>\n",
       "      <td>1</td>\n",
       "      <td>0</td>\n",
       "    </tr>\n",
       "    <tr>\n",
       "      <th>1</th>\n",
       "      <td>2</td>\n",
       "      <td>0</td>\n",
       "      <td>21</td>\n",
       "      <td>0</td>\n",
       "      <td>1</td>\n",
       "      <td>1</td>\n",
       "      <td>1</td>\n",
       "      <td>0</td>\n",
       "    </tr>\n",
       "    <tr>\n",
       "      <th>2</th>\n",
       "      <td>1</td>\n",
       "      <td>2</td>\n",
       "      <td>42</td>\n",
       "      <td>32</td>\n",
       "      <td>1</td>\n",
       "      <td>1</td>\n",
       "      <td>1</td>\n",
       "      <td>0</td>\n",
       "    </tr>\n",
       "    <tr>\n",
       "      <th>3</th>\n",
       "      <td>2</td>\n",
       "      <td>2</td>\n",
       "      <td>49</td>\n",
       "      <td>24</td>\n",
       "      <td>1</td>\n",
       "      <td>0</td>\n",
       "      <td>0</td>\n",
       "      <td>1</td>\n",
       "    </tr>\n",
       "    <tr>\n",
       "      <th>4</th>\n",
       "      <td>0</td>\n",
       "      <td>3</td>\n",
       "      <td>70</td>\n",
       "      <td>24</td>\n",
       "      <td>3</td>\n",
       "      <td>0</td>\n",
       "      <td>0</td>\n",
       "      <td>1</td>\n",
       "    </tr>\n",
       "  </tbody>\n",
       "</table>\n",
       "</div>"
      ],
      "text/plain": [
       "   sibs  children  age  age_1_child  degree  wrkstat  sex  div_sep\n",
       "0     1         0   22            0       3        1    1        0\n",
       "1     2         0   21            0       1        1    1        0\n",
       "2     1         2   42           32       1        1    1        0\n",
       "3     2         2   49           24       1        0    0        1\n",
       "4     0         3   70           24       3        0    0        1"
      ]
     },
     "execution_count": 5,
     "metadata": {},
     "output_type": "execute_result"
    }
   ],
   "source": [
    "## Create features dataframe\n",
    "\n",
    "gss_features = gss_select.copy()\n",
    "gss_features.drop(['id', 'wrkstat', 'marital', 'divorce', 'sex'], axis=1, inplace=True)\n",
    "gss_features['wrkstat'] = gss_clean['wrkstat']\n",
    "gss_features['sex'] = gss_clean['sex']\n",
    "gss_features['div_sep'] = gss_clean['marital'] + gss_clean['divorce']\n",
    "gss_features.head()"
   ]
  },
  {
   "cell_type": "markdown",
   "metadata": {},
   "source": [
    "## Check features for sense and remove some values"
   ]
  },
  {
   "cell_type": "code",
   "execution_count": 6,
   "metadata": {},
   "outputs": [
    {
     "data": {
      "text/plain": [
       "array([0])"
      ]
     },
     "execution_count": 6,
     "metadata": {},
     "output_type": "execute_result"
    }
   ],
   "source": [
    "## Check for sense - all people with no children have no 1st child age\n",
    "\n",
    "gss_features.loc[gss_features['children'] == 0, 'age_1_child'].unique()"
   ]
  },
  {
   "cell_type": "code",
   "execution_count": 7,
   "metadata": {},
   "outputs": [
    {
     "data": {
      "text/plain": [
       "array([ 1,  2,  0,  4,  6,  7,  5,  9,  3, 10, 15,  8, 13, 12, 11, 98, 99,\n",
       "       14, 30, 16, 17, 22, 18, 20, 21, 58, 19])"
      ]
     },
     "execution_count": 7,
     "metadata": {},
     "output_type": "execute_result"
    }
   ],
   "source": [
    "## Remove unknown values for siblings\n",
    "\n",
    "gss_features.sibs.unique()"
   ]
  },
  {
   "cell_type": "code",
   "execution_count": 8,
   "metadata": {},
   "outputs": [
    {
     "data": {
      "text/plain": [
       "array([ 1,  2,  0,  4,  6,  7,  5,  9,  3, 10, 15,  8, 13, 12, 11, 14, 30,\n",
       "       16, 17, 22, 18, 20, 21, 58, 19])"
      ]
     },
     "execution_count": 8,
     "metadata": {},
     "output_type": "execute_result"
    }
   ],
   "source": [
    "sibs_drop = gss_features.loc[gss_features.sibs.isin([98, 99]),].index\n",
    "gss_features.drop(sibs_drop, inplace=True)\n",
    "gss_features.sibs.unique()"
   ]
  },
  {
   "cell_type": "code",
   "execution_count": 9,
   "metadata": {},
   "outputs": [
    {
     "data": {
      "text/plain": [
       "2    1372\n",
       "0    1250\n",
       "3     784\n",
       "1     696\n",
       "4     390\n",
       "5     155\n",
       "6      75\n",
       "8      52\n",
       "7      35\n",
       "9       4\n",
       "Name: children, dtype: int64"
      ]
     },
     "execution_count": 9,
     "metadata": {},
     "output_type": "execute_result"
    }
   ],
   "source": [
    "## Check number of children - 9 is don't know so remove\n",
    "\n",
    "gss_features.children.value_counts()"
   ]
  },
  {
   "cell_type": "code",
   "execution_count": 10,
   "metadata": {},
   "outputs": [
    {
     "data": {
      "text/plain": [
       "2    1372\n",
       "0    1250\n",
       "3     784\n",
       "1     696\n",
       "4     390\n",
       "5     155\n",
       "6      75\n",
       "8      52\n",
       "7      35\n",
       "Name: children, dtype: int64"
      ]
     },
     "execution_count": 10,
     "metadata": {},
     "output_type": "execute_result"
    }
   ],
   "source": [
    "children_drop = gss_features.loc[gss_features.children == 9, ].index\n",
    "gss_features.drop(children_drop, inplace=True)\n",
    "gss_features.children.value_counts()"
   ]
  },
  {
   "cell_type": "code",
   "execution_count": 11,
   "metadata": {},
   "outputs": [],
   "source": [
    "## Remove no answer to age\n",
    "\n",
    "age_drop = gss_features.loc[gss_features['age'] == 99, ].index\n",
    "gss_features.drop(age_drop, inplace=True)"
   ]
  },
  {
   "cell_type": "code",
   "execution_count": 12,
   "metadata": {},
   "outputs": [],
   "source": [
    "## Remove don't know and no answer to age when 1st child born\n",
    "\n",
    "child_age_drop = gss_features.loc[gss_features['age_1_child'].isin([98, 99]),].index\n",
    "gss_features.drop(child_age_drop, inplace=True)"
   ]
  },
  {
   "cell_type": "code",
   "execution_count": 13,
   "metadata": {},
   "outputs": [
    {
     "data": {
      "text/plain": [
       "array([0])"
      ]
     },
     "execution_count": 13,
     "metadata": {},
     "output_type": "execute_result"
    }
   ],
   "source": [
    "## Check 0s all make sense\n",
    "gss_features.loc[gss_features['age_1_child'] == 0, 'children'].unique()"
   ]
  },
  {
   "cell_type": "code",
   "execution_count": 14,
   "metadata": {
    "scrolled": true
   },
   "outputs": [
    {
     "data": {
      "text/plain": [
       "array([3, 1, 2, 0, 4])"
      ]
     },
     "execution_count": 14,
     "metadata": {},
     "output_type": "execute_result"
    }
   ],
   "source": [
    "gss_features.degree.unique()"
   ]
  },
  {
   "cell_type": "code",
   "execution_count": 15,
   "metadata": {},
   "outputs": [],
   "source": [
    "gss_features.reset_index(inplace=True, drop=True)"
   ]
  },
  {
   "cell_type": "code",
   "execution_count": 16,
   "metadata": {},
   "outputs": [
    {
     "data": {
      "text/plain": [
       "0.9852697095435685"
      ]
     },
     "execution_count": 16,
     "metadata": {},
     "output_type": "execute_result"
    }
   ],
   "source": [
    "## Data retained:\n",
    "\n",
    "len(gss_features) / len(gss)"
   ]
  },
  {
   "cell_type": "code",
   "execution_count": 17,
   "metadata": {},
   "outputs": [
    {
     "data": {
      "text/html": [
       "<div>\n",
       "<style scoped>\n",
       "    .dataframe tbody tr th:only-of-type {\n",
       "        vertical-align: middle;\n",
       "    }\n",
       "\n",
       "    .dataframe tbody tr th {\n",
       "        vertical-align: top;\n",
       "    }\n",
       "\n",
       "    .dataframe thead th {\n",
       "        text-align: right;\n",
       "    }\n",
       "</style>\n",
       "<table border=\"1\" class=\"dataframe\">\n",
       "  <thead>\n",
       "    <tr style=\"text-align: right;\">\n",
       "      <th></th>\n",
       "      <th>sibs</th>\n",
       "      <th>children</th>\n",
       "      <th>age</th>\n",
       "      <th>age_1_child</th>\n",
       "      <th>degree</th>\n",
       "      <th>wrkstat</th>\n",
       "      <th>sex</th>\n",
       "      <th>div_sep</th>\n",
       "    </tr>\n",
       "  </thead>\n",
       "  <tbody>\n",
       "    <tr>\n",
       "      <th>0</th>\n",
       "      <td>1</td>\n",
       "      <td>0</td>\n",
       "      <td>22</td>\n",
       "      <td>0</td>\n",
       "      <td>3</td>\n",
       "      <td>1</td>\n",
       "      <td>1</td>\n",
       "      <td>0</td>\n",
       "    </tr>\n",
       "    <tr>\n",
       "      <th>1</th>\n",
       "      <td>2</td>\n",
       "      <td>0</td>\n",
       "      <td>21</td>\n",
       "      <td>0</td>\n",
       "      <td>1</td>\n",
       "      <td>1</td>\n",
       "      <td>1</td>\n",
       "      <td>0</td>\n",
       "    </tr>\n",
       "    <tr>\n",
       "      <th>2</th>\n",
       "      <td>1</td>\n",
       "      <td>2</td>\n",
       "      <td>42</td>\n",
       "      <td>32</td>\n",
       "      <td>1</td>\n",
       "      <td>1</td>\n",
       "      <td>1</td>\n",
       "      <td>0</td>\n",
       "    </tr>\n",
       "    <tr>\n",
       "      <th>3</th>\n",
       "      <td>2</td>\n",
       "      <td>2</td>\n",
       "      <td>49</td>\n",
       "      <td>24</td>\n",
       "      <td>1</td>\n",
       "      <td>0</td>\n",
       "      <td>0</td>\n",
       "      <td>1</td>\n",
       "    </tr>\n",
       "    <tr>\n",
       "      <th>4</th>\n",
       "      <td>0</td>\n",
       "      <td>3</td>\n",
       "      <td>70</td>\n",
       "      <td>24</td>\n",
       "      <td>3</td>\n",
       "      <td>0</td>\n",
       "      <td>0</td>\n",
       "      <td>1</td>\n",
       "    </tr>\n",
       "  </tbody>\n",
       "</table>\n",
       "</div>"
      ],
      "text/plain": [
       "   sibs  children  age  age_1_child  degree  wrkstat  sex  div_sep\n",
       "0     1         0   22            0       3        1    1        0\n",
       "1     2         0   21            0       1        1    1        0\n",
       "2     1         2   42           32       1        1    1        0\n",
       "3     2         2   49           24       1        0    0        1\n",
       "4     0         3   70           24       3        0    0        1"
      ]
     },
     "execution_count": 17,
     "metadata": {},
     "output_type": "execute_result"
    }
   ],
   "source": [
    "gss_features.head()"
   ]
  },
  {
   "cell_type": "code",
   "execution_count": 18,
   "metadata": {},
   "outputs": [
    {
     "data": {
      "text/plain": [
       "0.337544746262371"
      ]
     },
     "execution_count": 18,
     "metadata": {},
     "output_type": "execute_result"
    }
   ],
   "source": [
    "sum(gss_features.div_sep)/len(gss_features)"
   ]
  },
  {
   "cell_type": "markdown",
   "metadata": {},
   "source": [
    "## Engineer more features"
   ]
  },
  {
   "cell_type": "code",
   "execution_count": 19,
   "metadata": {},
   "outputs": [
    {
     "data": {
      "text/html": [
       "<div>\n",
       "<style scoped>\n",
       "    .dataframe tbody tr th:only-of-type {\n",
       "        vertical-align: middle;\n",
       "    }\n",
       "\n",
       "    .dataframe tbody tr th {\n",
       "        vertical-align: top;\n",
       "    }\n",
       "\n",
       "    .dataframe thead th {\n",
       "        text-align: right;\n",
       "    }\n",
       "</style>\n",
       "<table border=\"1\" class=\"dataframe\">\n",
       "  <thead>\n",
       "    <tr style=\"text-align: right;\">\n",
       "      <th></th>\n",
       "      <th>sibs</th>\n",
       "      <th>children</th>\n",
       "      <th>age</th>\n",
       "      <th>age_1_child</th>\n",
       "      <th>degree</th>\n",
       "      <th>wrkstat</th>\n",
       "      <th>sex</th>\n",
       "      <th>div_sep</th>\n",
       "      <th>age_age_1_child</th>\n",
       "      <th>children_age_1_child</th>\n",
       "      <th>sibs_children</th>\n",
       "      <th>degree_wrkstat</th>\n",
       "      <th>wrkstat_sex</th>\n",
       "      <th>age_1_child_sex</th>\n",
       "      <th>age2</th>\n",
       "      <th>age3</th>\n",
       "      <th>age_sqrt</th>\n",
       "    </tr>\n",
       "  </thead>\n",
       "  <tbody>\n",
       "    <tr>\n",
       "      <th>0</th>\n",
       "      <td>1</td>\n",
       "      <td>0</td>\n",
       "      <td>22</td>\n",
       "      <td>0</td>\n",
       "      <td>3</td>\n",
       "      <td>1</td>\n",
       "      <td>1</td>\n",
       "      <td>0</td>\n",
       "      <td>0</td>\n",
       "      <td>0</td>\n",
       "      <td>0</td>\n",
       "      <td>3</td>\n",
       "      <td>1</td>\n",
       "      <td>0</td>\n",
       "      <td>484</td>\n",
       "      <td>10648</td>\n",
       "      <td>4.690416</td>\n",
       "    </tr>\n",
       "    <tr>\n",
       "      <th>1</th>\n",
       "      <td>2</td>\n",
       "      <td>0</td>\n",
       "      <td>21</td>\n",
       "      <td>0</td>\n",
       "      <td>1</td>\n",
       "      <td>1</td>\n",
       "      <td>1</td>\n",
       "      <td>0</td>\n",
       "      <td>0</td>\n",
       "      <td>0</td>\n",
       "      <td>0</td>\n",
       "      <td>1</td>\n",
       "      <td>1</td>\n",
       "      <td>0</td>\n",
       "      <td>441</td>\n",
       "      <td>9261</td>\n",
       "      <td>4.582576</td>\n",
       "    </tr>\n",
       "    <tr>\n",
       "      <th>2</th>\n",
       "      <td>1</td>\n",
       "      <td>2</td>\n",
       "      <td>42</td>\n",
       "      <td>32</td>\n",
       "      <td>1</td>\n",
       "      <td>1</td>\n",
       "      <td>1</td>\n",
       "      <td>0</td>\n",
       "      <td>1344</td>\n",
       "      <td>64</td>\n",
       "      <td>2</td>\n",
       "      <td>1</td>\n",
       "      <td>1</td>\n",
       "      <td>32</td>\n",
       "      <td>1764</td>\n",
       "      <td>74088</td>\n",
       "      <td>6.480741</td>\n",
       "    </tr>\n",
       "    <tr>\n",
       "      <th>3</th>\n",
       "      <td>2</td>\n",
       "      <td>2</td>\n",
       "      <td>49</td>\n",
       "      <td>24</td>\n",
       "      <td>1</td>\n",
       "      <td>0</td>\n",
       "      <td>0</td>\n",
       "      <td>1</td>\n",
       "      <td>1176</td>\n",
       "      <td>48</td>\n",
       "      <td>4</td>\n",
       "      <td>0</td>\n",
       "      <td>0</td>\n",
       "      <td>0</td>\n",
       "      <td>2401</td>\n",
       "      <td>117649</td>\n",
       "      <td>7.000000</td>\n",
       "    </tr>\n",
       "    <tr>\n",
       "      <th>4</th>\n",
       "      <td>0</td>\n",
       "      <td>3</td>\n",
       "      <td>70</td>\n",
       "      <td>24</td>\n",
       "      <td>3</td>\n",
       "      <td>0</td>\n",
       "      <td>0</td>\n",
       "      <td>1</td>\n",
       "      <td>1680</td>\n",
       "      <td>72</td>\n",
       "      <td>0</td>\n",
       "      <td>0</td>\n",
       "      <td>0</td>\n",
       "      <td>0</td>\n",
       "      <td>4900</td>\n",
       "      <td>343000</td>\n",
       "      <td>8.366600</td>\n",
       "    </tr>\n",
       "  </tbody>\n",
       "</table>\n",
       "</div>"
      ],
      "text/plain": [
       "   sibs  children  age  age_1_child  degree  wrkstat  sex  div_sep  \\\n",
       "0     1         0   22            0       3        1    1        0   \n",
       "1     2         0   21            0       1        1    1        0   \n",
       "2     1         2   42           32       1        1    1        0   \n",
       "3     2         2   49           24       1        0    0        1   \n",
       "4     0         3   70           24       3        0    0        1   \n",
       "\n",
       "   age_age_1_child  children_age_1_child  sibs_children  degree_wrkstat  \\\n",
       "0                0                     0              0               3   \n",
       "1                0                     0              0               1   \n",
       "2             1344                    64              2               1   \n",
       "3             1176                    48              4               0   \n",
       "4             1680                    72              0               0   \n",
       "\n",
       "   wrkstat_sex  age_1_child_sex  age2    age3  age_sqrt  \n",
       "0            1                0   484   10648  4.690416  \n",
       "1            1                0   441    9261  4.582576  \n",
       "2            1               32  1764   74088  6.480741  \n",
       "3            0                0  2401  117649  7.000000  \n",
       "4            0                0  4900  343000  8.366600  "
      ]
     },
     "execution_count": 19,
     "metadata": {},
     "output_type": "execute_result"
    }
   ],
   "source": [
    "gss_features['age_age_1_child'] = gss_features['age'] * gss_features['age_1_child']\n",
    "gss_features['children_age_1_child'] = gss_features['children'] * gss_features['age_1_child']\n",
    "gss_features['sibs_children'] = gss_features['sibs'] * gss_features['children']\n",
    "gss_features['degree_wrkstat'] = gss_features['degree'] * gss_features['wrkstat']\n",
    "gss_features['wrkstat_sex'] = gss_features['wrkstat'] * gss_features['sex']\n",
    "gss_features['age_1_child_sex'] = gss_features['age_1_child'] * gss_features['sex']\n",
    "gss_features['age2'] = gss_features['age'] ** 2\n",
    "gss_features['age3'] = gss_features['age'] ** 3\n",
    "gss_features['age_sqrt'] = gss_features['age'] ** 0.5\n",
    "\n",
    "gss_features.head()"
   ]
  },
  {
   "cell_type": "markdown",
   "metadata": {},
   "source": [
    "## Create models\n",
    "### Split into train and test set"
   ]
  },
  {
   "cell_type": "code",
   "execution_count": 20,
   "metadata": {},
   "outputs": [],
   "source": [
    "y_all = gss_features['div_sep']\n",
    "x_all = gss_features.drop('div_sep', axis=1)"
   ]
  },
  {
   "cell_type": "code",
   "execution_count": 21,
   "metadata": {},
   "outputs": [],
   "source": [
    "x_train, x_test, y_train, y_test = sklearn.model_selection.train_test_split(x_all, y_all, test_size=0.3)"
   ]
  },
  {
   "cell_type": "markdown",
   "metadata": {},
   "source": [
    "### Vanilla regression"
   ]
  },
  {
   "cell_type": "code",
   "execution_count": 22,
   "metadata": {},
   "outputs": [
    {
     "name": "stdout",
     "output_type": "stream",
     "text": [
      "Optimization terminated successfully.\n",
      "         Current function value: 0.553785\n",
      "         Iterations 7\n",
      "col_0       0    1\n",
      "div_sep           \n",
      "0        1919  291\n",
      "1         723  391\n",
      "Accuracy: \n",
      "0.695\n"
     ]
    }
   ],
   "source": [
    "lr_1 = sm.Logit(y_train, x_train)\n",
    "result_1 = lr_1.fit()\n",
    "pred_1 = result_1.predict(x_train)\n",
    "pred_y_1 = np.where(pred_1 < .5, 0, 1)\n",
    "table_1 = pd.crosstab(y_train, pred_y_1)\n",
    "print(table_1)\n",
    "print('Accuracy: ')\n",
    "print('{0:.3f}'.format((table_1.iloc[0,0] + table_1.iloc[1, 1]) / table_1.sum().sum()))"
   ]
  },
  {
   "cell_type": "code",
   "execution_count": 23,
   "metadata": {},
   "outputs": [
    {
     "data": {
      "text/html": [
       "<table class=\"simpletable\">\n",
       "<caption>Logit Regression Results</caption>\n",
       "<tr>\n",
       "  <th>Dep. Variable:</th>      <td>div_sep</td>     <th>  No. Observations:  </th>   <td>  3324</td>  \n",
       "</tr>\n",
       "<tr>\n",
       "  <th>Model:</th>               <td>Logit</td>      <th>  Df Residuals:      </th>   <td>  3308</td>  \n",
       "</tr>\n",
       "<tr>\n",
       "  <th>Method:</th>               <td>MLE</td>       <th>  Df Model:          </th>   <td>    15</td>  \n",
       "</tr>\n",
       "<tr>\n",
       "  <th>Date:</th>          <td>Fri, 19 Apr 2019</td> <th>  Pseudo R-squ.:     </th>   <td>0.1317</td>  \n",
       "</tr>\n",
       "<tr>\n",
       "  <th>Time:</th>              <td>18:44:42</td>     <th>  Log-Likelihood:    </th>  <td> -1840.8</td> \n",
       "</tr>\n",
       "<tr>\n",
       "  <th>converged:</th>           <td>True</td>       <th>  LL-Null:           </th>  <td> -2119.9</td> \n",
       "</tr>\n",
       "<tr>\n",
       "  <th> </th>                      <td> </td>        <th>  LLR p-value:       </th> <td>2.588e-109</td>\n",
       "</tr>\n",
       "</table>\n",
       "<table class=\"simpletable\">\n",
       "<tr>\n",
       "            <td></td>              <th>coef</th>     <th>std err</th>      <th>z</th>      <th>P>|z|</th>  <th>[0.025</th>    <th>0.975]</th>  \n",
       "</tr>\n",
       "<tr>\n",
       "  <th>sibs</th>                 <td>    0.0195</td> <td>    0.024</td> <td>    0.800</td> <td> 0.424</td> <td>   -0.028</td> <td>    0.067</td>\n",
       "</tr>\n",
       "<tr>\n",
       "  <th>children</th>             <td>    0.5910</td> <td>    0.095</td> <td>    6.230</td> <td> 0.000</td> <td>    0.405</td> <td>    0.777</td>\n",
       "</tr>\n",
       "<tr>\n",
       "  <th>age</th>                  <td>    0.9338</td> <td>    0.168</td> <td>    5.544</td> <td> 0.000</td> <td>    0.604</td> <td>    1.264</td>\n",
       "</tr>\n",
       "<tr>\n",
       "  <th>age_1_child</th>          <td>    0.0080</td> <td>    0.016</td> <td>    0.487</td> <td> 0.626</td> <td>   -0.024</td> <td>    0.040</td>\n",
       "</tr>\n",
       "<tr>\n",
       "  <th>degree</th>               <td>   -0.1301</td> <td>    0.054</td> <td>   -2.405</td> <td> 0.016</td> <td>   -0.236</td> <td>   -0.024</td>\n",
       "</tr>\n",
       "<tr>\n",
       "  <th>wrkstat</th>              <td>    0.0968</td> <td>    0.155</td> <td>    0.625</td> <td> 0.532</td> <td>   -0.207</td> <td>    0.400</td>\n",
       "</tr>\n",
       "<tr>\n",
       "  <th>sex</th>                  <td>   -0.1748</td> <td>    0.195</td> <td>   -0.898</td> <td> 0.369</td> <td>   -0.556</td> <td>    0.207</td>\n",
       "</tr>\n",
       "<tr>\n",
       "  <th>age_age_1_child</th>      <td> 8.827e-05</td> <td>    0.000</td> <td>    0.293</td> <td> 0.770</td> <td>   -0.001</td> <td>    0.001</td>\n",
       "</tr>\n",
       "<tr>\n",
       "  <th>children_age_1_child</th> <td>   -0.0213</td> <td>    0.004</td> <td>   -4.930</td> <td> 0.000</td> <td>   -0.030</td> <td>   -0.013</td>\n",
       "</tr>\n",
       "<tr>\n",
       "  <th>sibs_children</th>        <td>   -0.0170</td> <td>    0.008</td> <td>   -2.259</td> <td> 0.024</td> <td>   -0.032</td> <td>   -0.002</td>\n",
       "</tr>\n",
       "<tr>\n",
       "  <th>degree_wrkstat</th>       <td>    0.0421</td> <td>    0.067</td> <td>    0.628</td> <td> 0.530</td> <td>   -0.089</td> <td>    0.173</td>\n",
       "</tr>\n",
       "<tr>\n",
       "  <th>wrkstat_sex</th>          <td>   -0.5367</td> <td>    0.165</td> <td>   -3.261</td> <td> 0.001</td> <td>   -0.859</td> <td>   -0.214</td>\n",
       "</tr>\n",
       "<tr>\n",
       "  <th>age_1_child_sex</th>      <td>    0.0195</td> <td>    0.008</td> <td>    2.590</td> <td> 0.010</td> <td>    0.005</td> <td>    0.034</td>\n",
       "</tr>\n",
       "<tr>\n",
       "  <th>age2</th>                 <td>   -0.0074</td> <td>    0.002</td> <td>   -3.521</td> <td> 0.000</td> <td>   -0.012</td> <td>   -0.003</td>\n",
       "</tr>\n",
       "<tr>\n",
       "  <th>age3</th>                 <td>  2.13e-05</td> <td> 1.13e-05</td> <td>    1.882</td> <td> 0.060</td> <td>-8.83e-07</td> <td> 4.35e-05</td>\n",
       "</tr>\n",
       "<tr>\n",
       "  <th>age_sqrt</th>             <td>   -4.3882</td> <td>    0.643</td> <td>   -6.823</td> <td> 0.000</td> <td>   -5.649</td> <td>   -3.128</td>\n",
       "</tr>\n",
       "</table>"
      ],
      "text/plain": [
       "<class 'statsmodels.iolib.summary.Summary'>\n",
       "\"\"\"\n",
       "                           Logit Regression Results                           \n",
       "==============================================================================\n",
       "Dep. Variable:                div_sep   No. Observations:                 3324\n",
       "Model:                          Logit   Df Residuals:                     3308\n",
       "Method:                           MLE   Df Model:                           15\n",
       "Date:                Fri, 19 Apr 2019   Pseudo R-squ.:                  0.1317\n",
       "Time:                        18:44:42   Log-Likelihood:                -1840.8\n",
       "converged:                       True   LL-Null:                       -2119.9\n",
       "                                        LLR p-value:                2.588e-109\n",
       "========================================================================================\n",
       "                           coef    std err          z      P>|z|      [0.025      0.975]\n",
       "----------------------------------------------------------------------------------------\n",
       "sibs                     0.0195      0.024      0.800      0.424      -0.028       0.067\n",
       "children                 0.5910      0.095      6.230      0.000       0.405       0.777\n",
       "age                      0.9338      0.168      5.544      0.000       0.604       1.264\n",
       "age_1_child              0.0080      0.016      0.487      0.626      -0.024       0.040\n",
       "degree                  -0.1301      0.054     -2.405      0.016      -0.236      -0.024\n",
       "wrkstat                  0.0968      0.155      0.625      0.532      -0.207       0.400\n",
       "sex                     -0.1748      0.195     -0.898      0.369      -0.556       0.207\n",
       "age_age_1_child       8.827e-05      0.000      0.293      0.770      -0.001       0.001\n",
       "children_age_1_child    -0.0213      0.004     -4.930      0.000      -0.030      -0.013\n",
       "sibs_children           -0.0170      0.008     -2.259      0.024      -0.032      -0.002\n",
       "degree_wrkstat           0.0421      0.067      0.628      0.530      -0.089       0.173\n",
       "wrkstat_sex             -0.5367      0.165     -3.261      0.001      -0.859      -0.214\n",
       "age_1_child_sex          0.0195      0.008      2.590      0.010       0.005       0.034\n",
       "age2                    -0.0074      0.002     -3.521      0.000      -0.012      -0.003\n",
       "age3                   2.13e-05   1.13e-05      1.882      0.060   -8.83e-07    4.35e-05\n",
       "age_sqrt                -4.3882      0.643     -6.823      0.000      -5.649      -3.128\n",
       "========================================================================================\n",
       "\"\"\""
      ]
     },
     "execution_count": 23,
     "metadata": {},
     "output_type": "execute_result"
    }
   ],
   "source": [
    "result_1.summary()"
   ]
  },
  {
   "cell_type": "code",
   "execution_count": 24,
   "metadata": {},
   "outputs": [
    {
     "name": "stdout",
     "output_type": "stream",
     "text": [
      "Accuracy: 0.688\n"
     ]
    }
   ],
   "source": [
    "## Test on test set\n",
    "\n",
    "pred_1_test = result_1.predict(x_test)\n",
    "pred_y_1_test = np.where(pred_1_test < .5, 0, 1)\n",
    "table_1_test = pd.crosstab(y_test, pred_y_1_test)\n",
    "print('Accuracy: {0:.3f}'.format((table_1_test.iloc[0, 0] + table_1_test.iloc[1, 1])/table_1_test.sum().sum()))"
   ]
  },
  {
   "cell_type": "markdown",
   "metadata": {},
   "source": [
    "### Ridge regression"
   ]
  },
  {
   "cell_type": "code",
   "execution_count": 25,
   "metadata": {},
   "outputs": [
    {
     "name": "stdout",
     "output_type": "stream",
     "text": [
      "col_0       0    1\n",
      "div_sep           \n",
      "0        1916  294\n",
      "1         751  363\n",
      "Accuracy: 0.686\n"
     ]
    }
   ],
   "source": [
    "## First attempt - set C as very large\n",
    "\n",
    "lr_2 = linear_model.LogisticRegression(C=1e9, solver='liblinear')\n",
    "fit_2 = lr_2.fit(x_train, y_train)\n",
    "pred_y_2 = lr_2.predict(x_train)\n",
    "print(pd.crosstab(y_train, pred_y_2))\n",
    "print('Accuracy: {0:.3f}'.format(lr_2.score(x_train, y_train)))"
   ]
  },
  {
   "cell_type": "code",
   "execution_count": 26,
   "metadata": {},
   "outputs": [],
   "source": [
    "## Use cross validation to experiment with C\n",
    "\n",
    "def lr_cost(c_min, c_max, c_step):\n",
    "    for i in np.arange(c_min, c_max, c_step):\n",
    "        lr = linear_model.LogisticRegression(C=i, solver='liblinear')\n",
    "        lr_score = sklearn.model_selection.cross_val_score(lr, x_train, y_train, cv=5)\n",
    "        print('\\nlr with C = {0:0f} \\nValues = {1!s} \\nMean = {2:.3f}'.format(i, str(lr_score), lr_score.mean()))"
   ]
  },
  {
   "cell_type": "code",
   "execution_count": 27,
   "metadata": {},
   "outputs": [
    {
     "name": "stdout",
     "output_type": "stream",
     "text": [
      "\n",
      "lr with C = 0.010000 \n",
      "Values = [0.64661654 0.7037594  0.66466165 0.68721805 0.64457831] \n",
      "Mean = 0.669\n",
      "\n",
      "lr with C = 0.110000 \n",
      "Values = [0.64962406 0.7037594  0.69022556 0.68421053 0.67921687] \n",
      "Mean = 0.681\n",
      "\n",
      "lr with C = 0.210000 \n",
      "Values = [0.64210526 0.69172932 0.69022556 0.68571429 0.67018072] \n",
      "Mean = 0.676\n",
      "\n",
      "lr with C = 0.310000 \n",
      "Values = [0.64511278 0.7037594  0.66466165 0.6962406  0.67620482] \n",
      "Mean = 0.677\n",
      "\n",
      "lr with C = 0.410000 \n",
      "Values = [0.64962406 0.7037594  0.68421053 0.68120301 0.65512048] \n",
      "Mean = 0.675\n",
      "\n",
      "lr with C = 0.510000 \n",
      "Values = [0.66315789 0.69924812 0.67819549 0.6962406  0.67018072] \n",
      "Mean = 0.681\n",
      "\n",
      "lr with C = 0.610000 \n",
      "Values = [0.64661654 0.7037594  0.69022556 0.68721805 0.67921687] \n",
      "Mean = 0.681\n",
      "\n",
      "lr with C = 0.710000 \n",
      "Values = [0.6481203  0.7037594  0.66165414 0.6962406  0.68524096] \n",
      "Mean = 0.679\n",
      "\n",
      "lr with C = 0.810000 \n",
      "Values = [0.64962406 0.7037594  0.66466165 0.68721805 0.68524096] \n",
      "Mean = 0.678\n",
      "\n",
      "lr with C = 0.910000 \n",
      "Values = [0.6481203  0.7037594  0.66466165 0.68721805 0.67168675] \n",
      "Mean = 0.675\n",
      "\n",
      "lr with C = 1.010000 \n",
      "Values = [0.65112782 0.70075188 0.68421053 0.68421053 0.6686747 ] \n",
      "Mean = 0.678\n",
      "\n",
      "lr with C = 1.110000 \n",
      "Values = [0.64962406 0.70977444 0.66466165 0.68571429 0.66716867] \n",
      "Mean = 0.675\n",
      "\n",
      "lr with C = 1.210000 \n",
      "Values = [0.64511278 0.70827068 0.69172932 0.68721805 0.68524096] \n",
      "Mean = 0.684\n",
      "\n",
      "lr with C = 1.310000 \n",
      "Values = [0.64962406 0.7037594  0.66466165 0.6962406  0.67168675] \n",
      "Mean = 0.677\n",
      "\n",
      "lr with C = 1.410000 \n",
      "Values = [0.66165414 0.70225564 0.68270677 0.68120301 0.68524096] \n",
      "Mean = 0.683\n",
      "\n",
      "lr with C = 1.510000 \n",
      "Values = [0.64962406 0.70676692 0.67518797 0.6962406  0.67620482] \n",
      "Mean = 0.681\n",
      "\n",
      "lr with C = 1.610000 \n",
      "Values = [0.64661654 0.70075188 0.68270677 0.69172932 0.66716867] \n",
      "Mean = 0.678\n",
      "\n",
      "lr with C = 1.710000 \n",
      "Values = [0.6406015  0.7037594  0.67819549 0.68571429 0.65662651] \n",
      "Mean = 0.673\n",
      "\n",
      "lr with C = 1.810000 \n",
      "Values = [0.64962406 0.7037594  0.67819549 0.68571429 0.64909639] \n",
      "Mean = 0.673\n",
      "\n",
      "lr with C = 1.910000 \n",
      "Values = [0.6481203  0.7037594  0.66466165 0.68120301 0.65512048] \n",
      "Mean = 0.671\n"
     ]
    }
   ],
   "source": [
    "lr_cost(0.01, 2, 0.1)"
   ]
  },
  {
   "cell_type": "code",
   "execution_count": 28,
   "metadata": {},
   "outputs": [
    {
     "name": "stdout",
     "output_type": "stream",
     "text": [
      "\n",
      "lr with C = 0.001000 \n",
      "Values = [0.64661654 0.69473684 0.68120301 0.69323308 0.6686747 ] \n",
      "Mean = 0.677\n",
      "\n",
      "lr with C = 0.011000 \n",
      "Values = [0.64962406 0.7037594  0.6887218  0.68120301 0.68524096] \n",
      "Mean = 0.682\n",
      "\n",
      "lr with C = 0.021000 \n",
      "Values = [0.6481203  0.68571429 0.66466165 0.68120301 0.65512048] \n",
      "Mean = 0.667\n",
      "\n",
      "lr with C = 0.031000 \n",
      "Values = [0.64360902 0.7037594  0.68571429 0.68120301 0.68373494] \n",
      "Mean = 0.680\n",
      "\n",
      "lr with C = 0.041000 \n",
      "Values = [0.6481203  0.7037594  0.66466165 0.68120301 0.65813253] \n",
      "Mean = 0.671\n",
      "\n",
      "lr with C = 0.051000 \n",
      "Values = [0.6481203  0.70225564 0.67819549 0.69473684 0.67319277] \n",
      "Mean = 0.679\n",
      "\n",
      "lr with C = 0.061000 \n",
      "Values = [0.64962406 0.70676692 0.67819549 0.68571429 0.6686747 ] \n",
      "Mean = 0.678\n",
      "\n",
      "lr with C = 0.071000 \n",
      "Values = [0.64962406 0.70526316 0.69022556 0.68421053 0.6686747 ] \n",
      "Mean = 0.680\n",
      "\n",
      "lr with C = 0.081000 \n",
      "Values = [0.64962406 0.7037594  0.68421053 0.68120301 0.68524096] \n",
      "Mean = 0.681\n",
      "\n",
      "lr with C = 0.091000 \n",
      "Values = [0.65112782 0.70225564 0.69022556 0.6962406  0.68524096] \n",
      "Mean = 0.685\n"
     ]
    }
   ],
   "source": [
    "lr_cost(0.001, 0.1, 0.01)"
   ]
  },
  {
   "cell_type": "code",
   "execution_count": 29,
   "metadata": {},
   "outputs": [
    {
     "name": "stdout",
     "output_type": "stream",
     "text": [
      "\n",
      "lr with C = 0.000010 \n",
      "Values = [0.66466165 0.66315789 0.66616541 0.66616541 0.66415663] \n",
      "Mean = 0.665\n",
      "\n",
      "lr with C = 0.000020 \n",
      "Values = [0.66315789 0.66466165 0.66466165 0.66616541 0.66566265] \n",
      "Mean = 0.665\n",
      "\n",
      "lr with C = 0.000030 \n",
      "Values = [0.66165414 0.66466165 0.66616541 0.66616541 0.66114458] \n",
      "Mean = 0.664\n",
      "\n",
      "lr with C = 0.000040 \n",
      "Values = [0.66015038 0.66616541 0.66466165 0.66616541 0.66114458] \n",
      "Mean = 0.664\n",
      "\n",
      "lr with C = 0.000050 \n",
      "Values = [0.66015038 0.66315789 0.66466165 0.66766917 0.65512048] \n",
      "Mean = 0.662\n",
      "\n",
      "lr with C = 0.000060 \n",
      "Values = [0.66015038 0.66466165 0.66616541 0.66766917 0.65662651] \n",
      "Mean = 0.663\n",
      "\n",
      "lr with C = 0.000070 \n",
      "Values = [0.66015038 0.66616541 0.66766917 0.66616541 0.65813253] \n",
      "Mean = 0.664\n",
      "\n",
      "lr with C = 0.000080 \n",
      "Values = [0.6556391  0.66766917 0.66766917 0.66466165 0.65963855] \n",
      "Mean = 0.663\n",
      "\n",
      "lr with C = 0.000090 \n",
      "Values = [0.65864662 0.66917293 0.67368421 0.66466165 0.65963855] \n",
      "Mean = 0.665\n"
     ]
    }
   ],
   "source": [
    "lr_cost(0.00001, 0.0001, 0.00001 )"
   ]
  },
  {
   "cell_type": "code",
   "execution_count": 30,
   "metadata": {},
   "outputs": [],
   "source": [
    "## Go for C = 0.031 as is highest mean.\n",
    "\n",
    "## Retrain on this cost"
   ]
  },
  {
   "cell_type": "code",
   "execution_count": 31,
   "metadata": {},
   "outputs": [
    {
     "name": "stdout",
     "output_type": "stream",
     "text": [
      "col_0       0    1\n",
      "div_sep           \n",
      "0        1892  318\n",
      "1         742  372\n",
      "Accuracy: 0.681\n"
     ]
    }
   ],
   "source": [
    "lr_2a = linear_model.LogisticRegression(C=0.031, solver='liblinear')\n",
    "fit_lr_2a = lr_2a.fit(x_train, y_train)\n",
    "pred_y_2a = lr_2a.predict(x_train)\n",
    "print(pd.crosstab(y_train, pred_y_2a))\n",
    "print('Accuracy: {0:.3f}'.format(lr_2a.score(x_train, y_train)))"
   ]
  },
  {
   "cell_type": "code",
   "execution_count": 32,
   "metadata": {},
   "outputs": [
    {
     "name": "stdout",
     "output_type": "stream",
     "text": [
      "col_0      0    1\n",
      "div_sep          \n",
      "0        817  119\n",
      "1        342  147\n",
      "Accuracy: 0.676\n"
     ]
    }
   ],
   "source": [
    "## Test on test set\n",
    "\n",
    "pred_y_2a_test = lr_2a.predict(x_test)\n",
    "print(pd.crosstab(y_test, pred_y_2a_test))\n",
    "print('Accuracy: {0:.3f}'.format(lr_2a.score(x_test, y_test)))"
   ]
  },
  {
   "cell_type": "markdown",
   "metadata": {},
   "source": [
    "### Lasso regression"
   ]
  },
  {
   "cell_type": "code",
   "execution_count": 33,
   "metadata": {},
   "outputs": [
    {
     "name": "stdout",
     "output_type": "stream",
     "text": [
      "col_0       0    1\n",
      "div_sep           \n",
      "0        1898  312\n",
      "1         706  408\n",
      "Accuracy: 0.694\n"
     ]
    }
   ],
   "source": [
    "## First attempt with very high C\n",
    "\n",
    "lr_3 = linear_model.LogisticRegression(C=1e9, penalty='l1', solver='liblinear')\n",
    "fit_lr_3 = lr_3.fit(x_train, y_train)\n",
    "pred_y_3 = lr_3.predict(x_train)\n",
    "print(pd.crosstab(y_train, pred_y_3))\n",
    "print('Accuracy: {0:.3f}'.format(lr_3.score(x_train, y_train)))"
   ]
  },
  {
   "cell_type": "code",
   "execution_count": 34,
   "metadata": {},
   "outputs": [
    {
     "data": {
      "text/plain": [
       "array([[ 1.94889933e-02,  5.59562156e-01,  8.35768432e-02,\n",
       "         1.29266388e-02, -1.42244741e-01,  1.01984477e-01,\n",
       "        -1.64262361e-01,  8.28101528e-07, -1.96682203e-02,\n",
       "        -1.64927924e-02,  5.50039304e-02, -5.22683959e-01,\n",
       "         1.83788836e-02,  9.39421646e-04, -1.93133922e-05,\n",
       "         2.29495349e-01]])"
      ]
     },
     "execution_count": 34,
     "metadata": {},
     "output_type": "execute_result"
    }
   ],
   "source": [
    "lr_3.coef_"
   ]
  },
  {
   "cell_type": "code",
   "execution_count": 35,
   "metadata": {},
   "outputs": [],
   "source": [
    "## Function to change cost\n",
    "\n",
    "def lr_3_cost(c_min, c_max, c_step):\n",
    "    for i in np.arange(c_min, c_max, c_step):\n",
    "        lr = linear_model.LogisticRegression(C=i, penalty='l1', solver='liblinear', max_iter=500)\n",
    "        lr_score = sklearn.model_selection.cross_val_score(lr, x_train, y_train, cv=5)\n",
    "        print('\\nLasso with C = {0:.3f} \\nValues = {1} \\nMean = {2:.3f}'.format(i, lr_score, lr_score.mean()))"
   ]
  },
  {
   "cell_type": "code",
   "execution_count": 36,
   "metadata": {},
   "outputs": [
    {
     "name": "stdout",
     "output_type": "stream",
     "text": [
      "\n",
      "Lasso with C = 0.010 \n",
      "Values = [0.64962406 0.6962406  0.68421053 0.68421053 0.66114458] \n",
      "Mean = 0.675\n",
      "\n",
      "Lasso with C = 0.110 \n",
      "Values = [0.67518797 0.72932331 0.67518797 0.68571429 0.67620482] \n",
      "Mean = 0.688\n",
      "\n",
      "Lasso with C = 0.210 \n",
      "Values = [0.68721805 0.72781955 0.67669173 0.68421053 0.67319277] \n",
      "Mean = 0.690\n",
      "\n",
      "Lasso with C = 0.310 \n",
      "Values = [0.69323308 0.72631579 0.67969925 0.67669173 0.67319277] \n",
      "Mean = 0.690\n",
      "\n",
      "Lasso with C = 0.410 \n",
      "Values = [0.68421053 0.72330827 0.68270677 0.67819549 0.6746988 ] \n",
      "Mean = 0.689\n",
      "\n",
      "Lasso with C = 0.510 \n",
      "Values = [0.68721805 0.72030075 0.67819549 0.68270677 0.6746988 ] \n",
      "Mean = 0.689\n",
      "\n",
      "Lasso with C = 0.610 \n",
      "Values = [0.68721805 0.72030075 0.68270677 0.68120301 0.67319277] \n",
      "Mean = 0.689\n",
      "\n",
      "Lasso with C = 0.710 \n",
      "Values = [0.68721805 0.71729323 0.68270677 0.68120301 0.67319277] \n",
      "Mean = 0.688\n",
      "\n",
      "Lasso with C = 0.810 \n",
      "Values = [0.68721805 0.71729323 0.68270677 0.68270677 0.67319277] \n",
      "Mean = 0.689\n",
      "\n",
      "Lasso with C = 0.910 \n",
      "Values = [0.68721805 0.71729323 0.68270677 0.68120301 0.6746988 ] \n",
      "Mean = 0.689\n",
      "\n",
      "Lasso with C = 1.010 \n",
      "Values = [0.68571429 0.71428571 0.68120301 0.68421053 0.6746988 ] \n",
      "Mean = 0.688\n",
      "\n",
      "Lasso with C = 1.110 \n",
      "Values = [0.68421053 0.71428571 0.68120301 0.68270677 0.67620482] \n",
      "Mean = 0.688\n",
      "\n",
      "Lasso with C = 1.210 \n",
      "Values = [0.68421053 0.71428571 0.68721805 0.68421053 0.67771084] \n",
      "Mean = 0.690\n",
      "\n",
      "Lasso with C = 1.310 \n",
      "Values = [0.68571429 0.71278195 0.68120301 0.68421053 0.67620482] \n",
      "Mean = 0.688\n",
      "\n",
      "Lasso with C = 1.410 \n",
      "Values = [0.68571429 0.71428571 0.68120301 0.68571429 0.67771084] \n",
      "Mean = 0.689\n",
      "\n",
      "Lasso with C = 1.510 \n",
      "Values = [0.68421053 0.71278195 0.68120301 0.68571429 0.68072289] \n",
      "Mean = 0.689\n",
      "\n",
      "Lasso with C = 1.610 \n",
      "Values = [0.68421053 0.70977444 0.68421053 0.68421053 0.67921687] \n",
      "Mean = 0.688\n",
      "\n",
      "Lasso with C = 1.710 \n",
      "Values = [0.68571429 0.7112782  0.68120301 0.68571429 0.68072289] \n",
      "Mean = 0.689\n",
      "\n",
      "Lasso with C = 1.810 \n",
      "Values = [0.68421053 0.71278195 0.68120301 0.68571429 0.67771084] \n",
      "Mean = 0.688\n",
      "\n",
      "Lasso with C = 1.910 \n",
      "Values = [0.68721805 0.71278195 0.67969925 0.68270677 0.68072289] \n",
      "Mean = 0.689\n",
      "\n",
      "Lasso with C = 2.010 \n",
      "Values = [0.68421053 0.71278195 0.68270677 0.68571429 0.68222892] \n",
      "Mean = 0.690\n",
      "\n",
      "Lasso with C = 2.110 \n",
      "Values = [0.68571429 0.7112782  0.68421053 0.68421053 0.68072289] \n",
      "Mean = 0.689\n",
      "\n",
      "Lasso with C = 2.210 \n",
      "Values = [0.68571429 0.7112782  0.68270677 0.68571429 0.68072289] \n",
      "Mean = 0.689\n",
      "\n",
      "Lasso with C = 2.310 \n",
      "Values = [0.68571429 0.7112782  0.68270677 0.68571429 0.67771084] \n",
      "Mean = 0.689\n",
      "\n",
      "Lasso with C = 2.410 \n",
      "Values = [0.68721805 0.7112782  0.67969925 0.68571429 0.68072289] \n",
      "Mean = 0.689\n",
      "\n",
      "Lasso with C = 2.510 \n",
      "Values = [0.6887218  0.71278195 0.68120301 0.68421053 0.67921687] \n",
      "Mean = 0.689\n",
      "\n",
      "Lasso with C = 2.610 \n",
      "Values = [0.68571429 0.7112782  0.68120301 0.68421053 0.68072289] \n",
      "Mean = 0.689\n",
      "\n",
      "Lasso with C = 2.710 \n",
      "Values = [0.68571429 0.7112782  0.67969925 0.68571429 0.68072289] \n",
      "Mean = 0.689\n",
      "\n",
      "Lasso with C = 2.810 \n",
      "Values = [0.68571429 0.7112782  0.68120301 0.68571429 0.67771084] \n",
      "Mean = 0.688\n",
      "\n",
      "Lasso with C = 2.910 \n",
      "Values = [0.6887218  0.7112782  0.67969925 0.68270677 0.68072289] \n",
      "Mean = 0.689\n"
     ]
    }
   ],
   "source": [
    "lr_3_cost(0.01, 3, 0.1)"
   ]
  },
  {
   "cell_type": "code",
   "execution_count": 44,
   "metadata": {},
   "outputs": [
    {
     "name": "stdout",
     "output_type": "stream",
     "text": [
      "\n",
      "Lasso with C = 0.010 \n",
      "Values = [0.64962406 0.6962406  0.68571429 0.68421053 0.65963855] \n",
      "Mean = 0.675\n",
      "\n",
      "Lasso with C = 0.020 \n",
      "Values = [0.64511278 0.69172932 0.67819549 0.6887218  0.67319277] \n",
      "Mean = 0.675\n",
      "\n",
      "Lasso with C = 0.030 \n",
      "Values = [0.65263158 0.70075188 0.68421053 0.69323308 0.68072289] \n",
      "Mean = 0.682\n",
      "\n",
      "Lasso with C = 0.040 \n",
      "Values = [0.66165414 0.71278195 0.68421053 0.69172932 0.68524096] \n",
      "Mean = 0.687\n",
      "\n",
      "Lasso with C = 0.050 \n",
      "Values = [0.66766917 0.71578947 0.68421053 0.69473684 0.68222892] \n",
      "Mean = 0.689\n",
      "\n",
      "Lasso with C = 0.060 \n",
      "Values = [0.67218045 0.72030075 0.67819549 0.68721805 0.68072289] \n",
      "Mean = 0.688\n",
      "\n",
      "Lasso with C = 0.070 \n",
      "Values = [0.67067669 0.72180451 0.68120301 0.6887218  0.68072289] \n",
      "Mean = 0.689\n",
      "\n",
      "Lasso with C = 0.080 \n",
      "Values = [0.67067669 0.72180451 0.67518797 0.6887218  0.68222892] \n",
      "Mean = 0.688\n",
      "\n",
      "Lasso with C = 0.090 \n",
      "Values = [0.67218045 0.72330827 0.67368421 0.68571429 0.67620482] \n",
      "Mean = 0.686\n"
     ]
    }
   ],
   "source": [
    "lr_3_cost(0.01, 0.1, 0.01)"
   ]
  },
  {
   "cell_type": "code",
   "execution_count": 45,
   "metadata": {},
   "outputs": [
    {
     "name": "stdout",
     "output_type": "stream",
     "text": [
      "col_0       0    1\n",
      "div_sep           \n",
      "0        1892  318\n",
      "1         715  399\n",
      "Accuracy 0.689\n"
     ]
    }
   ],
   "source": [
    "## Choose 0.05 as this is where it starts to stablize around 69% accuracy\n",
    "\n",
    "## Retrain model\n",
    "\n",
    "lr_3a = linear_model.LogisticRegression(C=0.05, solver='liblinear', penalty='l1', max_iter=500)\n",
    "lr_3a_fit = lr_3a.fit(x_train, y_train)\n",
    "y_pred_3a = lr_3a.predict(x_train)\n",
    "print(pd.crosstab(y_train, y_pred_3a))\n",
    "print('Accuracy {0:.3f}'.format(lr_3a.score(x_train, y_train)))"
   ]
  },
  {
   "cell_type": "code",
   "execution_count": 46,
   "metadata": {},
   "outputs": [
    {
     "data": {
      "text/plain": [
       "array([[ 0.00000000e+00,  3.59536888e-01, -1.16748333e-02,\n",
       "         1.68099598e-02, -1.11631630e-01,  0.00000000e+00,\n",
       "         0.00000000e+00, -1.54722321e-06, -1.15236679e-02,\n",
       "        -7.73026769e-03,  0.00000000e+00, -1.50809691e-01,\n",
       "         1.79929851e-03,  4.28313886e-03, -4.05298906e-05,\n",
       "        -7.88781673e-01]])"
      ]
     },
     "execution_count": 46,
     "metadata": {},
     "output_type": "execute_result"
    }
   ],
   "source": [
    "lr_3a.coef_"
   ]
  },
  {
   "cell_type": "code",
   "execution_count": 47,
   "metadata": {},
   "outputs": [
    {
     "data": {
      "text/plain": [
       "array([[ 1.94889933e-02,  5.59562156e-01,  8.35768432e-02,\n",
       "         1.29266388e-02, -1.42244741e-01,  1.01984477e-01,\n",
       "        -1.64262361e-01,  8.28101528e-07, -1.96682203e-02,\n",
       "        -1.64927924e-02,  5.50039304e-02, -5.22683959e-01,\n",
       "         1.83788836e-02,  9.39421646e-04, -1.93133922e-05,\n",
       "         2.29495349e-01]])"
      ]
     },
     "execution_count": 47,
     "metadata": {},
     "output_type": "execute_result"
    }
   ],
   "source": [
    "lr_3.coef_"
   ]
  },
  {
   "cell_type": "code",
   "execution_count": 55,
   "metadata": {},
   "outputs": [
    {
     "data": {
      "text/plain": [
       "Index(['sibs', 'children', 'age', 'age_1_child', 'degree', 'wrkstat', 'sex',\n",
       "       'age_age_1_child', 'children_age_1_child', 'sibs_children',\n",
       "       'degree_wrkstat', 'wrkstat_sex', 'age_1_child_sex', 'age2', 'age3',\n",
       "       'age_sqrt'],\n",
       "      dtype='object')"
      ]
     },
     "execution_count": 55,
     "metadata": {},
     "output_type": "execute_result"
    }
   ],
   "source": [
    "x_test.columns"
   ]
  },
  {
   "cell_type": "code",
   "execution_count": 48,
   "metadata": {},
   "outputs": [
    {
     "name": "stdout",
     "output_type": "stream",
     "text": [
      "col_0      0    1\n",
      "div_sep          \n",
      "0        821  115\n",
      "1        326  163\n",
      "Accuracy 0.691\n"
     ]
    }
   ],
   "source": [
    "## Test on test set\n",
    "\n",
    "y_pred_3a_test = lr_3a.predict(x_test)\n",
    "print(pd.crosstab(y_test, y_pred_3a_test))\n",
    "print('Accuracy {0:.3f}'.format(lr_3a.score(x_test, y_test)))"
   ]
  },
  {
   "cell_type": "markdown",
   "metadata": {},
   "source": [
    "## Evaluation"
   ]
  },
  {
   "cell_type": "code",
   "execution_count": 54,
   "metadata": {
    "scrolled": true
   },
   "outputs": [
    {
     "name": "stdout",
     "output_type": "stream",
     "text": [
      "Accuracy vanilla: 0.688\n",
      "Accuracy ridge: 0.676\n",
      "Accuracy lasso: 0.691\n",
      "Accuracy guessing no divorces: 0.657\n"
     ]
    }
   ],
   "source": [
    "print('Accuracy vanilla: {0:.3f}'.format((table_1_test.iloc[0, 0] + table_1_test.iloc[1, 1])/table_1_test.sum().sum()))\n",
    "print('Accuracy ridge: {0:.3f}'.format(lr_2a.score(x_test, y_test)))\n",
    "print('Accuracy lasso: {0:.3f}'.format(lr_3a.score(x_test, y_test)))\n",
    "print('Accuracy guessing no divorces: {0:.3f}'.format(sum(y_test == 0) / len(y_test)))"
   ]
  },
  {
   "cell_type": "markdown",
   "metadata": {},
   "source": [
    "All models did little better than simply guessing. However, the lasso did do marginally better than the others, potentially due to the reduction in overfitting.\n",
    "\n",
    "4 of the coefficients were reduced to zero in the lasso regression. These were number of siblings, work status, sex and (degree x work status). This suggests these variables are not necessary for prediction. The fact that all the coefficients are quite small and the accuracy is not great suggests that none are great predictors though.\n",
    "\n",
    "Additional variables should be considered to see if this can improve the accuracy of the model because at the current time it is not much better than guessing."
   ]
  },
  {
   "cell_type": "code",
   "execution_count": 59,
   "metadata": {},
   "outputs": [
    {
     "name": "stdout",
     "output_type": "stream",
     "text": [
      "Vanilla:\n",
      "col_0      0    1\n",
      "div_sep          \n",
      "0        813  123\n",
      "1        322  167\n",
      "\n",
      "Ridge:\n",
      "col_0      0    1\n",
      "div_sep          \n",
      "0        817  119\n",
      "1        342  147\n",
      "\n",
      "Lasso:\n",
      "col_0      0    1\n",
      "div_sep          \n",
      "0        821  115\n",
      "1        326  163\n"
     ]
    }
   ],
   "source": [
    "print('Vanilla:')\n",
    "print(pd.crosstab(y_test, pred_y_1_test))\n",
    "print('\\nRidge:')\n",
    "print(pd.crosstab(y_test, pred_y_2a_test))\n",
    "print('\\nLasso:')\n",
    "print(pd.crosstab(y_test, y_pred_3a_test))"
   ]
  },
  {
   "cell_type": "markdown",
   "metadata": {},
   "source": [
    "The lasso model did better than the vanilla by guessing more people were not divorced - i.e. towards the bias in the data. Suggests that maybe the model is really not great!"
   ]
  },
  {
   "cell_type": "code",
   "execution_count": null,
   "metadata": {},
   "outputs": [],
   "source": []
  }
 ],
 "metadata": {
  "kernelspec": {
   "display_name": "Python 3",
   "language": "python",
   "name": "python3"
  },
  "language_info": {
   "codemirror_mode": {
    "name": "ipython",
    "version": 3
   },
   "file_extension": ".py",
   "mimetype": "text/x-python",
   "name": "python",
   "nbconvert_exporter": "python",
   "pygments_lexer": "ipython3",
   "version": "3.7.3"
  }
 },
 "nbformat": 4,
 "nbformat_minor": 2
}
